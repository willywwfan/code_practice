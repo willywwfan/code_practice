{
 "cells": [
  {
   "cell_type": "markdown",
   "metadata": {},
   "source": [
    "# Class Test"
   ]
  },
  {
   "cell_type": "code",
   "execution_count": 50,
   "metadata": {},
   "outputs": [
    {
     "name": "stdout",
     "output_type": "stream",
     "text": [
      "1\n",
      "2\n",
      "3\n",
      "1\n",
      "2\n",
      "3\n",
      "True False\n"
     ]
    }
   ],
   "source": [
    "class MyIterator:\n",
    "    def __init__(self, max_num):\n",
    "        self.max_num = max_num\n",
    "\n",
    "    def __iter__(self):\n",
    "        num = 1\n",
    "        while num <= self.max_num:\n",
    "            yield num\n",
    "            num += 1\n",
    "\n",
    "my_iterator = MyIterator(3)\n",
    "\n",
    "for item in my_iterator:\n",
    "    print(item)\n",
    "# 1\n",
    "# 2\n",
    "# 3\n",
    "for item in my_iterator:\n",
    "    print(item)\n",
    "# 1\n",
    "# 2\n",
    "# 3 \n",
    "from collections import Iterable, Iterator\n",
    "print(isinstance(my_iterator, Iterable), isinstance(my_iterator, Iterator))"
   ]
  },
  {
   "cell_type": "code",
   "execution_count": 51,
   "metadata": {},
   "outputs": [
    {
     "name": "stdout",
     "output_type": "stream",
     "text": [
      "1\n",
      "2\n",
      "3\n",
      "raise StopIteration\n",
      "raise StopIteration\n"
     ]
    }
   ],
   "source": [
    "class MyIterator:\n",
    "    def __init__(self, max_num):\n",
    "        self.max_num = max_num\n",
    "        self.index = 0\n",
    "\n",
    "    def __iter__(self):\n",
    "        return self\n",
    "        \n",
    "    def __next__(self):\n",
    "        if self.index < self.max_num:\n",
    "            self.index += 1\n",
    "            return self.index\n",
    "        else:\n",
    "            print(\"raise StopIteration\")\n",
    "            raise StopIteration\n",
    "        \n",
    "my_iterator = MyIterator(3)\n",
    "for item in my_iterator:\n",
    "    print(item)\n",
    "# 1\n",
    "# 2\n",
    "# 3\n",
    "\n",
    "for item in my_iterator:\n",
    "    print(item)\n",
    "# (no result)"
   ]
  },
  {
   "cell_type": "code",
   "execution_count": 32,
   "metadata": {},
   "outputs": [
    {
     "name": "stdout",
     "output_type": "stream",
     "text": [
      "True False\n"
     ]
    }
   ],
   "source": [
    "from collections import Iterable, Iterator\n",
    "print(isinstance(my_iterator, Iterable), isinstance(my_iterator, Iterator))"
   ]
  },
  {
   "cell_type": "code",
   "execution_count": 65,
   "metadata": {},
   "outputs": [
    {
     "name": "stdout",
     "output_type": "stream",
     "text": [
      "111\n",
      "0\n",
      "1\n",
      "2\n",
      "3\n",
      "4\n",
      "5\n"
     ]
    }
   ],
   "source": [
    "class MyIterator:\n",
    "    def __init__(self, max_num):\n",
    "        self.max_num = max_num\n",
    "        print(111)\n",
    "        \n",
    "    def __getitem__(self, key):\n",
    "        if key <= self.max_num:\n",
    "            return key\n",
    "        else:\n",
    "            raise IndexError\n",
    "\n",
    "my_iterator = MyIterator(5)\n",
    "\n",
    "for item in my_iterator:\n",
    "    print(item)\n",
    "# 0\n",
    "# 1\n",
    "# 2\n",
    "# 3"
   ]
  },
  {
   "cell_type": "code",
   "execution_count": 67,
   "metadata": {},
   "outputs": [
    {
     "data": {
      "text/plain": [
       "1"
      ]
     },
     "execution_count": 67,
     "metadata": {},
     "output_type": "execute_result"
    }
   ],
   "source": [
    "my_iterator.__getitem__(1)"
   ]
  },
  {
   "cell_type": "code",
   "execution_count": 68,
   "metadata": {},
   "outputs": [
    {
     "data": {
      "text/plain": [
       "<__main__.MyIterator at 0x7f9b1e04fba8>"
      ]
     },
     "execution_count": 68,
     "metadata": {},
     "output_type": "execute_result"
    }
   ],
   "source": [
    "my_iterator"
   ]
  },
  {
   "cell_type": "code",
   "execution_count": 98,
   "metadata": {},
   "outputs": [],
   "source": [
    "class AA:\n",
    "    def __init__(self, num, BB_instance):\n",
    "        self.num = num\n",
    "        self.BB_instance = BB_instance\n",
    "        self.__point = 999\n",
    "        print(111)\n",
    "       \n",
    "    def result_print(self):\n",
    "        print(self.num)\n",
    "        print(self.BB_instance.num_BB)\n",
    "        self.BB_instance.print5()\n",
    "        print(self.__point+1)\n",
    "\n",
    "class BB:\n",
    "    def __init__(self, num_BB):\n",
    "        self.num_BB = num_BB\n",
    "        print(222)\n",
    "       \n",
    "    def print5(self):\n",
    "        print(555)\n"
   ]
  },
  {
   "cell_type": "code",
   "execution_count": 90,
   "metadata": {},
   "outputs": [
    {
     "name": "stdout",
     "output_type": "stream",
     "text": [
      "222\n",
      "111\n"
     ]
    }
   ],
   "source": [
    "BB_instance = BB(3)\n",
    "AA_instance = AA(2,BB_instance)"
   ]
  },
  {
   "cell_type": "code",
   "execution_count": 91,
   "metadata": {},
   "outputs": [
    {
     "name": "stdout",
     "output_type": "stream",
     "text": [
      "2\n",
      "3\n",
      "555\n",
      "1000\n"
     ]
    }
   ],
   "source": [
    "AA_instance.result_print()"
   ]
  },
  {
   "cell_type": "code",
   "execution_count": 95,
   "metadata": {},
   "outputs": [
    {
     "data": {
      "text/plain": [
       "[1, 2, 3, 4, 5]"
      ]
     },
     "execution_count": 95,
     "metadata": {},
     "output_type": "execute_result"
    }
   ],
   "source": [
    "list(map(int, [1.9, 2, 3, 4, 5]))"
   ]
  },
  {
   "cell_type": "code",
   "execution_count": 102,
   "metadata": {},
   "outputs": [],
   "source": [
    "import unittest\n",
    "\n",
    "class WidgetTestCase(unittest.TestCase):\n",
    "    def setUp(self):\n",
    "        self.widget = Widget('The widget')\n",
    "\n",
    "    def tearDown(self):\n",
    "        self.widget.dispose()\n",
    "\n",
    "    def test_default_widget_size(self):\n",
    "        self.assertEqual(self.widget.size(), (50,50),\n",
    "                         'incorrect default size')\n",
    "\n",
    "    def test_widget_resize(self):\n",
    "        self.widget.resize(100,150)\n",
    "        self.assertEqual(self.widget.size(), (100,150),\n",
    "                         'wrong size after resize')"
   ]
  },
  {
   "cell_type": "code",
   "execution_count": 103,
   "metadata": {},
   "outputs": [
    {
     "ename": "NameError",
     "evalue": "name 'gray' is not defined",
     "output_type": "error",
     "traceback": [
      "\u001b[0;31m---------------------------------------------------------------------------\u001b[0m",
      "\u001b[0;31mNameError\u001b[0m                                 Traceback (most recent call last)",
      "\u001b[0;32m<ipython-input-103-dfb4fb64587e>\u001b[0m in \u001b[0;36m<module>\u001b[0;34m\u001b[0m\n\u001b[0;32m----> 1\u001b[0;31m \u001b[0mbimg\u001b[0m\u001b[0;34m,\u001b[0m \u001b[0mcontours\u001b[0m\u001b[0;34m,\u001b[0m \u001b[0mhier\u001b[0m \u001b[0;34m=\u001b[0m \u001b[0mcv2\u001b[0m\u001b[0;34m.\u001b[0m\u001b[0mfindContours\u001b[0m\u001b[0;34m(\u001b[0m\u001b[0mgray\u001b[0m\u001b[0;34m,\u001b[0m \u001b[0mcv2\u001b[0m\u001b[0;34m.\u001b[0m\u001b[0mRETR_EXTERNAL\u001b[0m\u001b[0;34m,\u001b[0m \u001b[0mcv2\u001b[0m\u001b[0;34m.\u001b[0m\u001b[0mCHAIN_APPROX_SIMPLE\u001b[0m\u001b[0;34m)\u001b[0m\u001b[0;34m\u001b[0m\u001b[0;34m\u001b[0m\u001b[0m\n\u001b[0m",
      "\u001b[0;31mNameError\u001b[0m: name 'gray' is not defined"
     ]
    }
   ],
   "source": []
  },
  {
   "cell_type": "code",
   "execution_count": 1,
   "metadata": {},
   "outputs": [],
   "source": [
    "stack = [3, 4, 5]"
   ]
  },
  {
   "cell_type": "code",
   "execution_count": 2,
   "metadata": {},
   "outputs": [
    {
     "data": {
      "text/plain": [
       "5"
      ]
     },
     "execution_count": 2,
     "metadata": {},
     "output_type": "execute_result"
    }
   ],
   "source": [
    "stack.pop()\n"
   ]
  },
  {
   "cell_type": "code",
   "execution_count": 5,
   "metadata": {},
   "outputs": [
    {
     "data": {
      "text/plain": [
       "[3]"
      ]
     },
     "execution_count": 5,
     "metadata": {},
     "output_type": "execute_result"
    }
   ],
   "source": [
    "stack"
   ]
  },
  {
   "cell_type": "code",
   "execution_count": 4,
   "metadata": {},
   "outputs": [
    {
     "name": "stdout",
     "output_type": "stream",
     "text": [
      "4\n"
     ]
    }
   ],
   "source": [
    "print(stack.pop())"
   ]
  },
  {
   "cell_type": "code",
   "execution_count": null,
   "metadata": {},
   "outputs": [],
   "source": []
  },
  {
   "cell_type": "markdown",
   "metadata": {},
   "source": [
    "# Colab Test"
   ]
  },
  {
   "cell_type": "code",
   "execution_count": null,
   "metadata": {},
   "outputs": [],
   "source": [
    "from pydrive.auth import GoogleAuth\n",
    "from pydrive.drive import GoogleDrive"
   ]
  },
  {
   "cell_type": "markdown",
   "metadata": {},
   "source": [
    "# ICP Test"
   ]
  },
  {
   "cell_type": "code",
   "execution_count": null,
   "metadata": {},
   "outputs": [],
   "source": [
    "import cv2\n",
    "import numpy as np\n",
    "import matplotlib.pyplot as plt\n",
    "from sklearn.neighbors import NearestNeighbors\n",
    "\n",
    "\n",
    "def icp(a, b, init_pose=(0,0,0), no_iterations = 13):\n",
    "    '''\n",
    "    The Iterative Closest Point estimator.\n",
    "    Takes two cloudpoints a[x,y], b[x,y], an initial estimation of\n",
    "    their relative pose and the number of iterations\n",
    "    Returns the affine transform that transforms\n",
    "    the cloudpoint a to the cloudpoint b.\n",
    "    Note:\n",
    "        (1) This method works for cloudpoints with minor\n",
    "        transformations. Thus, the result depents greatly on\n",
    "        the initial pose estimation.\n",
    "        (2) A large number of iterations does not necessarily\n",
    "        ensure convergence. Contrarily, most of the time it\n",
    "        produces worse results.\n",
    "    '''\n",
    "\n",
    "    src = np.array([a.T], copy=True).astype(np.float32)\n",
    "    dst = np.array([b.T], copy=True).astype(np.float32)\n",
    "\n",
    "    #Initialise with the initial pose estimation\n",
    "    Tr = np.array([[np.cos(init_pose[2]),-np.sin(init_pose[2]),init_pose[0]],\n",
    "                   [np.sin(init_pose[2]), np.cos(init_pose[2]),init_pose[1]],\n",
    "                   [0,                    0,                   1          ]])\n",
    "\n",
    "    src = cv2.transform(src, Tr[0:2])\n",
    "\n",
    "    for i in range(no_iterations):\n",
    "        #Find the nearest neighbours between the current source and the\n",
    "        #destination cloudpoint\n",
    "        nbrs = NearestNeighbors(n_neighbors=1, algorithm='auto',\n",
    "                                warn_on_equidistant=False).fit(dst[0])\n",
    "        distances, indices = nbrs.kneighbors(src[0])\n",
    "\n",
    "        #Compute the transformation between the current source\n",
    "        #and destination cloudpoint\n",
    "        T = cv2.estimateRigidTransform(src, dst[0, indices.T], False)\n",
    "        #Transform the previous source and update the\n",
    "        #current source cloudpoint\n",
    "        src = cv2.transform(src, T)\n",
    "        #Save the transformation from the actual source cloudpoint\n",
    "        #to the destination\n",
    "        Tr = np.dot(Tr, np.vstack((T,[0,0,1])))\n",
    "    return Tr[0:2]"
   ]
  },
  {
   "cell_type": "code",
   "execution_count": null,
   "metadata": {},
   "outputs": [],
   "source": [
    "#Create the datasets\n",
    "ang = np.linspace(-np.pi/2, np.pi/2, 320)\n",
    "a = np.array([ang, np.sin(ang)])\n",
    "th = np.pi/2\n",
    "rot = np.array([[np.cos(th), -np.sin(th)],[np.sin(th), np.cos(th)]])\n",
    "b = np.dot(rot, a) + np.array([[0.2], [0.3]])\n",
    "\n",
    "#Run the icp\n",
    "M2 = icp(a, b, [0.1,  0.33, np.pi/2.2], 30)\n",
    "\n",
    "#Plot the result\n",
    "src = np.array([a.T]).astype(np.float32)\n",
    "res = cv2.transform(src, M2)\n",
    "plt.figure()\n",
    "plt.plot(b[0],b[1])\n",
    "plt.plot(res[0].T[0], res[0].T[1], 'r.')\n",
    "plt.plot(a[0], a[1])\n",
    "plt.show()"
   ]
  },
  {
   "cell_type": "markdown",
   "metadata": {},
   "source": [
    "# Linked List Practice"
   ]
  },
  {
   "cell_type": "code",
   "execution_count": 19,
   "metadata": {},
   "outputs": [],
   "source": [
    "class ListNode:\n",
    "    def __init__(self,x):\n",
    "        self.val = x\n",
    "        self.next = None\n",
    "\n",
    "class Solution:\n",
    "    def add(self,l1,l2):\n",
    "        result = ListNode(0)\n",
    "        r_tail = result\n",
    "        c = 0\n",
    "        while l1 or l2 or c:\n",
    "            if l1:\n",
    "                c += l1.val\n",
    "                l1 = l1.next\n",
    "            if l2:\n",
    "                c += l2.val\n",
    "                l2 = l2.next\n",
    "            c, num = divmod(c,10)\n",
    "            # print(c,num)\n",
    "            r_tail.next = ListNode(num)\n",
    "            r_tail = r_tail.next\n",
    "        return result.next\n",
    "\n",
    "def tolistnode(l_list):\n",
    "    l = ListNode(0) #head\n",
    "    l_tail = l # agent for next\n",
    "    for l_val in l_list:\n",
    "        l_tail.next = ListNode(l_val)\n",
    "        l_tail = l_tail.next\n",
    "    return l.next\n",
    "\n",
    "list1 = [2,3,5] #532\n",
    "list2 = [2,9,8] #892\n",
    "#1424\n",
    "l1 = tolistnode(list1)\n",
    "l2 = tolistnode(list2)\n",
    "solution = Solution()\n",
    "ans = solution.add(l1,l2)"
   ]
  },
  {
   "cell_type": "code",
   "execution_count": 2,
   "metadata": {},
   "outputs": [],
   "source": [
    "def tolistnode(l_list):\n",
    "    l = ListNode(0) #head\n",
    "    l_tail = l # agent for next\n",
    "    for l_val in l_list:\n",
    "        l_tail.next = ListNode(l_val)\n",
    "        l_tail = l_tail.next\n",
    "    return l.next"
   ]
  },
  {
   "cell_type": "code",
   "execution_count": 20,
   "metadata": {},
   "outputs": [
    {
     "name": "stdout",
     "output_type": "stream",
     "text": [
      "0 4\n",
      "1 2\n",
      "1 4\n",
      "0 1\n"
     ]
    }
   ],
   "source": [
    "list1 = [2,3,5] #532\n",
    "list2 = [2,9,8] #892\n",
    "#1424\n",
    "l1 = tolistnode(list1)\n",
    "l2 = tolistnode(list2)\n",
    "solution = Solution()\n",
    "ans = solution.add(l1,l2)"
   ]
  },
  {
   "cell_type": "code",
   "execution_count": 22,
   "metadata": {},
   "outputs": [
    {
     "data": {
      "text/plain": [
       "(4, 2, 4, 1)"
      ]
     },
     "execution_count": 22,
     "metadata": {},
     "output_type": "execute_result"
    }
   ],
   "source": [
    "ans.val,ans.next.val,ans.next.next.val,ans.next.next.next.val"
   ]
  },
  {
   "cell_type": "code",
   "execution_count": 10,
   "metadata": {},
   "outputs": [
    {
     "data": {
      "text/plain": [
       "(0, 1)"
      ]
     },
     "execution_count": 10,
     "metadata": {},
     "output_type": "execute_result"
    }
   ],
   "source": [
    "divmod(1,10)"
   ]
  },
  {
   "cell_type": "markdown",
   "metadata": {},
   "source": [
    "# Permutations"
   ]
  },
  {
   "cell_type": "code",
   "execution_count": 8,
   "metadata": {},
   "outputs": [
    {
     "data": {
      "text/plain": [
       "[[4, 3, 2, 1],\n",
       " [3, 4, 2, 1],\n",
       " [3, 2, 4, 1],\n",
       " [3, 2, 1, 4],\n",
       " [4, 2, 3, 1],\n",
       " [2, 4, 3, 1],\n",
       " [2, 3, 4, 1],\n",
       " [2, 3, 1, 4],\n",
       " [4, 2, 1, 3],\n",
       " [2, 4, 1, 3],\n",
       " [2, 1, 4, 3],\n",
       " [2, 1, 3, 4],\n",
       " [4, 3, 1, 2],\n",
       " [3, 4, 1, 2],\n",
       " [3, 1, 4, 2],\n",
       " [3, 1, 2, 4],\n",
       " [4, 1, 3, 2],\n",
       " [1, 4, 3, 2],\n",
       " [1, 3, 4, 2],\n",
       " [1, 3, 2, 4],\n",
       " [4, 1, 2, 3],\n",
       " [1, 4, 2, 3],\n",
       " [1, 2, 4, 3],\n",
       " [1, 2, 3, 4]]"
      ]
     },
     "execution_count": 8,
     "metadata": {},
     "output_type": "execute_result"
    }
   ],
   "source": [
    "def permutations(nums):\n",
    "    pers = [[]]\n",
    "    for num in nums: # insert order\n",
    "        new_pers = []\n",
    "        for per in pers:\n",
    "            for i in range(len(per)+1):# inser number by per in pers\n",
    "                # print(i)\n",
    "                new_pers.append(per[:i] + [num] + per[i:]) # insert\n",
    "                # print((per[:i] + [num] + per[i:]))\n",
    "            # print(new_pers)\n",
    "        pers = new_pers\n",
    "        # print(pers)\n",
    "    return pers\n",
    "\n",
    "nums = [1,2,3,4]\n",
    "permutations(nums)"
   ]
  },
  {
   "cell_type": "markdown",
   "metadata": {},
   "source": [
    "# Sort Color"
   ]
  },
  {
   "cell_type": "markdown",
   "metadata": {},
   "source": [
    "Given an array with n objects colored red, white or blue, sort them in-place so that objects of the same color are adjacent, with the colors in the order red, white and blue.\n",
    "\n",
    "Here, we will use the integers 0, 1, and 2 to represent the color red, white, and blue respectively.\n",
    "\n",
    "Note: You are not suppose to use the library's sort function for this problem."
   ]
  },
  {
   "cell_type": "code",
   "execution_count": 20,
   "metadata": {},
   "outputs": [
    {
     "data": {
      "text/plain": [
       "[0, 0, 0, 0, 0, 1, 1, 2, 2]"
      ]
     },
     "execution_count": 20,
     "metadata": {},
     "output_type": "execute_result"
    }
   ],
   "source": [
    "def colorSort(colors):\n",
    "    left_in = 0\n",
    "    right_in = 0\n",
    "    while (left_in + right_in) <= len(colors):\n",
    "        if colors[left_in] == 0:\n",
    "            del colors[left_in]\n",
    "            colors.insert(0,0)\n",
    "            left_in = left_in + 1\n",
    "        elif colors[left_in] == 2:\n",
    "            del colors[left_in]\n",
    "            colors.append(2)\n",
    "            right_in = right_in + 1\n",
    "        else:\n",
    "            left_in = left_in + 1\n",
    "    return colors\n",
    "\n",
    "\n",
    "colors = [0,1,0,2,2,1,0,0,0]\n",
    "colorSort(colors)"
   ]
  },
  {
   "cell_type": "markdown",
   "metadata": {},
   "source": [
    "# Deep First Search "
   ]
  },
  {
   "cell_type": "code",
   "execution_count": 37,
   "metadata": {},
   "outputs": [
    {
     "data": {
      "text/plain": [
       "[[1, 2],\n",
       " [1, 3],\n",
       " [1, 4],\n",
       " [1, 5],\n",
       " [2, 3],\n",
       " [2, 4],\n",
       " [2, 5],\n",
       " [3, 4],\n",
       " [3, 5],\n",
       " [4, 5]]"
      ]
     },
     "execution_count": 37,
     "metadata": {},
     "output_type": "execute_result"
    }
   ],
   "source": [
    "def per(n,k):\n",
    "    output = []\n",
    "    def dfs(start,pairs):\n",
    "        if len(pairs) == k:\n",
    "            output.append(pairs)\n",
    "            return\n",
    "        for i in range(start,n+1):\n",
    "            dfs(i+1,pairs+[i])\n",
    "    dfs(1,[])\n",
    "    return output\n",
    "\n",
    "per(5,2)"
   ]
  },
  {
   "cell_type": "markdown",
   "metadata": {},
   "source": [
    "# Dynamic Programimg"
   ]
  },
  {
   "cell_type": "code",
   "execution_count": 6,
   "metadata": {},
   "outputs": [
    {
     "data": {
      "text/plain": [
       "55"
      ]
     },
     "execution_count": 6,
     "metadata": {},
     "output_type": "execute_result"
    }
   ],
   "source": [
    "# Fibonacci\n",
    "class Solution():\n",
    "    def fib(self,n):\n",
    "        if n<2:\n",
    "            return n\n",
    "        return self.fib(n-1)+self.fib(n-2)\n",
    "sol = Solution()\n",
    "sol.fib(10)"
   ]
  },
  {
   "cell_type": "markdown",
   "metadata": {},
   "source": [
    "Input: [1,2,3,1]\n",
    "Output: 4\n",
    "Explanation: Rob house 1 (money = 1) and then rob house 3 (money = 3).\n",
    "Total amount you can rob = 1 + 3 = 4.\n",
    "\n",
    "Input: [2,7,9,3,1]\n",
    "Output: 12\n",
    "Explanation: Rob house 1 (money = 2), rob house 3 (money = 9) and rob house 5 (money = 1).\n",
    "Total amount you can rob = 2 + 9 + 1 = 12."
   ]
  },
  {
   "cell_type": "code",
   "execution_count": 71,
   "metadata": {},
   "outputs": [
    {
     "data": {
      "text/plain": [
       "12"
      ]
     },
     "execution_count": 71,
     "metadata": {},
     "output_type": "execute_result"
    }
   ],
   "source": [
    "class Solution():\n",
    "    def robHouse(self,nums):\n",
    "        if len(nums)==0:\n",
    "            return 0\n",
    "        elif len(nums)==1:\n",
    "            return nums[0]\n",
    "        pre2 = nums[0]\n",
    "        pre1 = max(nums[0],nums[1])\n",
    "        for i in range(2,len(nums)):\n",
    "            nums[i] = max(pre1, pre2 + nums[i])\n",
    "            pre2 = pre1\n",
    "            pre1 = nums[i]\n",
    "        return nums[-1]\n",
    "sol = Solution()\n",
    "nums = [2,7,9,3,1]\n",
    "# nums = [9,1]\n",
    "sol.robHouse(nums)"
   ]
  },
  {
   "cell_type": "code",
   "execution_count": 77,
   "metadata": {},
   "outputs": [
    {
     "data": {
      "text/plain": [
       "12"
      ]
     },
     "execution_count": 77,
     "metadata": {},
     "output_type": "execute_result"
    }
   ],
   "source": [
    "class Solution():\n",
    "    def robHouse(self,nums):\n",
    "        def dp(n):\n",
    "            if n==0:\n",
    "                return nums[0]\n",
    "            elif n==1:\n",
    "                return max(nums[0],nums[1])\n",
    "            return max(dp(n-1),dp(n-2)+nums[n])\n",
    "        return dp(len(nums)-1)\n",
    "sol = Solution()\n",
    "nums = [2,7,9,3,1]\n",
    "# nums = [9,1]\n",
    "sol.robHouse(nums)"
   ]
  },
  {
   "cell_type": "markdown",
   "metadata": {},
   "source": [
    "# Dp2"
   ]
  },
  {
   "cell_type": "markdown",
   "metadata": {},
   "source": [
    "Given n pairs of parentheses, write a function to generate all combinations of well-formed parentheses."
   ]
  },
  {
   "cell_type": "code",
   "execution_count": 160,
   "metadata": {},
   "outputs": [
    {
     "data": {
      "text/plain": [
       "['((()))', '(()())', '(())()', '()(())', '()()()']"
      ]
     },
     "execution_count": 160,
     "metadata": {},
     "output_type": "execute_result"
    }
   ],
   "source": [
    "class Solution():\n",
    "    def genPairs(self,n):\n",
    "        output = []\n",
    "        self.dfs(\"\",n,0,0,output)\n",
    "        return output\n",
    "    def dfs(self,pair,n,left,right,output):\n",
    "        if len(pair) == n*2:\n",
    "            output.append(pair)\n",
    "            return\n",
    "        else:\n",
    "            if n>left:\n",
    "                self.dfs(pair+\"(\",n,left+1,right,output)\n",
    "            if left>right:\n",
    "                self.dfs(pair+\")\",n,left,right+1,output)\n",
    "sol = Solution()\n",
    "n = 3\n",
    "sol.genPairs(n)"
   ]
  },
  {
   "cell_type": "code",
   "execution_count": 162,
   "metadata": {},
   "outputs": [
    {
     "data": {
      "text/plain": [
       "['))))',\n",
       " ')))(',\n",
       " '))()',\n",
       " '))((',\n",
       " ')())',\n",
       " ')()(',\n",
       " ')(()',\n",
       " ')(((',\n",
       " '()))',\n",
       " '())(',\n",
       " '()()',\n",
       " '()((',\n",
       " '(())',\n",
       " '(()(',\n",
       " '((()',\n",
       " '((((']"
      ]
     },
     "execution_count": 162,
     "metadata": {},
     "output_type": "execute_result"
    }
   ],
   "source": [
    "class Solution:\n",
    "    \n",
    "    def generateParenthesis(self, n):\n",
    "        ansList = []\n",
    "        curStr=\"\"\n",
    "        self.dfs(curStr,n,0,0,ansList)\n",
    "        return ansList\n",
    "    def dfs(self,curStr:str,n:int,openCnt:int,closeCnt:int,ansList:[]):\n",
    "        # print(ansList)\n",
    "        if len(curStr) == n*2:\n",
    "            ansList.append(curStr)\n",
    "            return\n",
    "        else:\n",
    "            self.dfs(curStr+')',n,openCnt+1,closeCnt,ansList)\n",
    "            self.dfs(curStr+'(',n,openCnt+1,closeCnt,ansList)\n",
    "            # if openCnt < n:\n",
    "            #     self.dfs(curStr+'(',n,openCnt+1,closeCnt,ansList)\n",
    "            # if closeCnt<openCnt:\n",
    "            #     self.dfs(curStr+')',n,openCnt,closeCnt+1,ansList)\n",
    "sol = Solution()\n",
    "n = 2\n",
    "sol.generateParenthesis(n)"
   ]
  },
  {
   "cell_type": "code",
   "execution_count": 173,
   "metadata": {},
   "outputs": [
    {
     "data": {
      "text/plain": [
       "['11', '12', '21', '22']"
      ]
     },
     "execution_count": 173,
     "metadata": {},
     "output_type": "execute_result"
    }
   ],
   "source": [
    "class Solution():\n",
    "    def genPairs(self,n):\n",
    "        output = []\n",
    "        self.dfs(\"\",n,output)\n",
    "        return output\n",
    "    def dfs(self,pair,n,output):\n",
    "        if len(pair) == n:\n",
    "            output.append(pair)\n",
    "            return\n",
    "        else:\n",
    "            for i in range(1,n+1):\n",
    "                self.dfs(pair+str(i),n,output)\n",
    "sol = Solution()\n",
    "n = 2\n",
    "sol.genPairs(n)"
   ]
  },
  {
   "cell_type": "markdown",
   "metadata": {},
   "source": [
    "# DP3"
   ]
  },
  {
   "cell_type": "code",
   "execution_count": 184,
   "metadata": {},
   "outputs": [
    {
     "data": {
      "text/plain": [
       "28"
      ]
     },
     "execution_count": 184,
     "metadata": {},
     "output_type": "execute_result"
    }
   ],
   "source": [
    "class Solution():\n",
    "    def getPath(self,m,n):\n",
    "        return self.dfs(m,n,0,0,0)\n",
    "    def dfs(self,m,n,down,right,num):\n",
    "        output = 0\n",
    "        if down == m-1 and right == n-1:\n",
    "            return 1\n",
    "        else:\n",
    "            if down < m-1:\n",
    "                output += self.dfs(m,n,down+1,right,num)\n",
    "            if right < n-1:\n",
    "                output += self.dfs(m,n,down,right+1,num)\n",
    "        return output\n",
    "sol = Solution()\n",
    "m = 3\n",
    "n = 7\n",
    "sol.getPath(m,n)"
   ]
  },
  {
   "cell_type": "markdown",
   "metadata": {},
   "source": [
    "# DP4"
   ]
  },
  {
   "cell_type": "code",
   "execution_count": 210,
   "metadata": {},
   "outputs": [
    {
     "data": {
      "text/plain": [
       "[[5], [...], [[5], [...], 1], [...]]"
      ]
     },
     "execution_count": 210,
     "metadata": {},
     "output_type": "execute_result"
    }
   ],
   "source": [
    "class Solution():\n",
    "    def predict(self,nums):\n",
    "        get = []\n",
    "        self.p1_score([],nums,get)\n",
    "        return get\n",
    "    def p1_score(self,pair,res,get):\n",
    "        if len(res) == 1:\n",
    "            get.append(pair)\n",
    "            return\n",
    "        #left\n",
    "        # print(get)\n",
    "        self.p1_score(get+[res[0]],res[1:],get)\n",
    "        #right\n",
    "        self.p1_score(get,res[:-1],get)\n",
    "nums = [1,5,2]\n",
    "sol = Solution()\n",
    "sol.predict(nums)"
   ]
  },
  {
   "cell_type": "code",
   "execution_count": 222,
   "metadata": {},
   "outputs": [
    {
     "name": "stdout",
     "output_type": "stream",
     "text": [
      "4\n",
      "3\n",
      "2\n",
      "1\n",
      "0\n"
     ]
    }
   ],
   "source": [
    "for i in reversed(range(5)):\n",
    "    print(i)"
   ]
  },
  {
   "cell_type": "code",
   "execution_count": 224,
   "metadata": {},
   "outputs": [
    {
     "data": {
      "text/plain": [
       "True"
      ]
     },
     "execution_count": 224,
     "metadata": {},
     "output_type": "execute_result"
    }
   ],
   "source": [
    "class Solution(object):\n",
    "    def PredictTheWinner(self, nums):\n",
    "        if len(nums) % 2 == 0 or len(nums) == 1:\n",
    "            return True\n",
    "\n",
    "        dp = [0] * len(nums)\n",
    "        for i in reversed(range(len(nums))):\n",
    "            dp[i] = nums[i]\n",
    "            for j in range(i+1, len(nums)):\n",
    "                dp[j] = max(nums[i] - dp[j], nums[j] - dp[j - 1])\n",
    "\n",
    "        return dp[-1] >= 0\n",
    "nums = [1,1,2,3,2]\n",
    "sol = Solution()\n",
    "sol.PredictTheWinner(nums)"
   ]
  },
  {
   "cell_type": "markdown",
   "metadata": {},
   "source": [
    "# Array"
   ]
  },
  {
   "cell_type": "markdown",
   "metadata": {},
   "source": [
    "Input: n = 12, primes = [2,7,13,19]\n",
    "Output: 32 \n",
    "Explanation: [1,2,4,7,8,13,14,16,19,26,28,32] is the sequence of the first 12 \n",
    "super ugly numbers given primes = [2,7,13,19] of size 4."
   ]
  },
  {
   "cell_type": "code",
   "execution_count": 34,
   "metadata": {},
   "outputs": [
    {
     "data": {
      "text/plain": [
       "[1, 2, 4, 7, 8, 13, 14, 16, 19, 26, 28, 32]"
      ]
     },
     "execution_count": 34,
     "metadata": {},
     "output_type": "execute_result"
    }
   ],
   "source": [
    "class Solution(object):\n",
    "    def getUgly(self,n,primes):\n",
    "        output = []\n",
    "        i=1\n",
    "        while len(output)<12:\n",
    "            res = i\n",
    "            for prime in primes:\n",
    "                while res % prime == 0:\n",
    "                    # print(res)\n",
    "                    res /= prime\n",
    "            if res == 1:\n",
    "                output += [i]\n",
    "            i += 1\n",
    "                \n",
    "        return output\n",
    "n = 12\n",
    "primes = [2,7,13,19]\n",
    "sol = Solution()\n",
    "sol.getUgly(n,primes)"
   ]
  },
  {
   "cell_type": "code",
   "execution_count": 199,
   "metadata": {},
   "outputs": [
    {
     "data": {
      "text/plain": [
       "[0]"
      ]
     },
     "execution_count": 199,
     "metadata": {},
     "output_type": "execute_result"
    }
   ],
   "source": [
    "get"
   ]
  },
  {
   "cell_type": "markdown",
   "metadata": {},
   "source": [
    "# Rod Cutting"
   ]
  },
  {
   "cell_type": "markdown",
   "metadata": {},
   "source": [
    "Given a rod of length n and a list of rod prices of length i, where 1 <= i <= n, find the optimal way to cut the rod into smaller rods to maximize profit."
   ]
  },
  {
   "cell_type": "code",
   "execution_count": 283,
   "metadata": {},
   "outputs": [
    {
     "data": {
      "text/plain": [
       "9"
      ]
     },
     "execution_count": 283,
     "metadata": {},
     "output_type": "execute_result"
    }
   ],
   "source": [
    "class Solution(object):\n",
    "    def cutRod(self,n,price):\n",
    "        outs = []\n",
    "        return self.dp(n,price,0,outs)\n",
    "    def dp(self,n,price,out,outs):\n",
    "        if n == 0:\n",
    "            outs.append(out)\n",
    "            return 0\n",
    "        # out = []\n",
    "        for i in range(1,n+1):\n",
    "            # print(i)\n",
    "            cost = price[i-1] + self.dp(n-i,price,out,outs)\n",
    "            # print(price[i-1] + self.dp(n-i,price,out))\n",
    "        return price[n]\n",
    "\n",
    "            \n",
    "\n",
    "\n",
    "n = 3\n",
    "price = [1, 5, 8, 9, 10, 17, 17, 20]\n",
    "sol = Solution()\n",
    "sol.cutRod(n,price)"
   ]
  },
  {
   "cell_type": "markdown",
   "metadata": {},
   "source": [
    "# Finish Course"
   ]
  },
  {
   "cell_type": "code",
   "execution_count": 7,
   "metadata": {},
   "outputs": [
    {
     "name": "stdout",
     "output_type": "stream",
     "text": [
      "[[2, 1], [0], []] [0, 0, 0]\n"
     ]
    },
    {
     "data": {
      "text/plain": [
       "False"
      ]
     },
     "execution_count": 7,
     "metadata": {},
     "output_type": "execute_result"
    }
   ],
   "source": [
    "class Solution(object):\n",
    "    def fincour(self,n,pres):\n",
    "        precours = [[] for _ in range(n)]\n",
    "        visted = [0 for _ in range(n)]\n",
    "        # print(precours,visted)\n",
    "        for cour,pre in pres:\n",
    "            precours[cour] += [pre]\n",
    "        print(precours,visted)\n",
    "        def dfs(i):\n",
    "            if visted[i] == 1:\n",
    "                return True #done the circle test\n",
    "            if visted[i] == -1:\n",
    "                return False #circle detected\n",
    "            visted[i] = -1 # mark detecting\n",
    "            for j in precours[i]:\n",
    "                if not dfs(j):\n",
    "                    return False\n",
    "            visted[i] = 1 # done the circle test\n",
    "            return True\n",
    "\n",
    "        for precour in precours:\n",
    "            for i in precour:\n",
    "                if not dfs(i):\n",
    "                    return False\n",
    "        print(precours,visted)\n",
    "        return True\n",
    "\n",
    "\n",
    "n = 3\n",
    "# pres = [[0,1],[1,0]]\n",
    "# pres = [[1,0],[0,2],[1,2]]\n",
    "# pres = [[1,0],[0,2],[2,1]]\n",
    "pres = [[1,0],[0,2],[0,1]]\n",
    "sol = Solution()\n",
    "sol.fincour(n,pres)"
   ]
  },
  {
   "cell_type": "markdown",
   "metadata": {},
   "source": [
    "# Surrounded Regions"
   ]
  },
  {
   "cell_type": "code",
   "execution_count": 40,
   "metadata": {},
   "outputs": [
    {
     "name": "stdout",
     "output_type": "stream",
     "text": [
      "[['X']]\n"
     ]
    },
    {
     "data": {
      "text/plain": [
       "[['X']]"
      ]
     },
     "execution_count": 40,
     "metadata": {},
     "output_type": "execute_result"
    }
   ],
   "source": [
    "class Solution(object):\n",
    "    def surRegion(self,board):\n",
    "        def dfs(i,j):\n",
    "            if i==-1 or j==-1 or i == len(board) or j == len(board[i]):\n",
    "                return\n",
    "            if visted[i][j] == 'O':\n",
    "                return\n",
    "            if board[i][j] == 'X':\n",
    "                return\n",
    "            visted[i][j] = \"O\"\n",
    "            dfs(i+1,j)\n",
    "            dfs(i,j+1)\n",
    "            dfs(i-1,j)\n",
    "            dfs(i,j-1)\n",
    "\n",
    "        visted = [['X' for _ in range(len(board))] for _ in range(len(board[0]))]\n",
    "        for i in range(len(board)):\n",
    "            for j in range(len(board[i])):\n",
    "                if board[i][j] == \"O\" and (i==0 or j==0 or i == len(board)-1 or j == len(board[i])-1):\n",
    "                    dfs(i,j)\n",
    "\n",
    "        return visted\n",
    "\n",
    "# board = [['X','X','X','X'],['X','O','X','X'],['X','X','O','X'],['X','X','O','O']]\n",
    "board = [[\"X\"]]\n",
    "print(board)\n",
    "sol = Solution()\n",
    "sol.surRegion(board)"
   ]
  },
  {
   "cell_type": "markdown",
   "metadata": {},
   "source": [
    "# Aruco Test"
   ]
  },
  {
   "cell_type": "code",
   "execution_count": 11,
   "metadata": {},
   "outputs": [
    {
     "name": "stdout",
     "output_type": "stream",
     "text": [
      "462 497\n",
      "image_size: (720, 1280, 3)\n",
      "par: 0.6040503468087494\n",
      "minxy: -232.86429580844967 -458.7029077496748\n",
      "maxxy: 518.9413050801011 800.0\n",
      "region_xys [[-385.5047795911252, -434.9938868990059], [282.84990282062853, -759.3786017557018], [473.59795550655866, 565.0143138786816], [-173.41408917498504, 541.7508042226133]]\n",
      "alert_xys [[109.41167474992922, -170.32387750480908]]\n"
     ]
    }
   ],
   "source": [
    "import cv2\n",
    "import cv2.aruco as aruco\n",
    "import numpy as np\n",
    "\n",
    "class PositionSetter:\n",
    "    def __init__(self,img_in):\n",
    "        self.img_in = img_in\n",
    "        self.initial(self.img_in)\n",
    "\n",
    "    def draw_circle(self, event, x, y, flags, param):\n",
    "        if event == cv2.EVENT_LBUTTONDBLCLK:\n",
    "            # if len(self.saved_position) < 4:\n",
    "            if len(self.saved_position) < 1:\n",
    "                cv2.circle(self.img, (x, y), 5, (255, 0, 0), -1)\n",
    "                print(x,y)\n",
    "                self.saved_position.append([x,y])\n",
    "                \n",
    "    def runner(self):\n",
    "        cv2.namedWindow('image')\n",
    "        cv2.setMouseCallback('image', self.draw_circle)\n",
    "        while (1):\n",
    "            cv2.imshow('image', self.img)\n",
    "            key = cv2.waitKey(1)\n",
    "            if key == ord('q'):\n",
    "                break\n",
    "            if key == ord('r'): #reset saved position\n",
    "                print(\"reset!\")\n",
    "                self.initial(self.img_in)\n",
    "        cv2.destroyAllWindows()\n",
    "    \n",
    "    def initial(self,img_in):\n",
    "        self.img = img_in.copy()\n",
    "        self.saved_position = []\n",
    "\n",
    "class ArucoDetector:\n",
    "    def __init__(self, frame, mtx, dist):\n",
    "        self.frame = frame\n",
    "\n",
    "        self.image = self.frame.copy()\n",
    "        gray = cv2.cvtColor(self.frame, cv2.COLOR_BGR2GRAY)\n",
    "        aruco_dict = aruco.Dictionary_get(aruco.DICT_7X7_100)\n",
    "        parameters =  aruco.DetectorParameters_create()\n",
    "        corners, ids, rejectedImgPoints = aruco.detectMarkers(gray,aruco_dict,parameters=parameters)\n",
    "        mm = 100 # 10cm aruco\n",
    "        if ids is not None:\n",
    "            self.rvec, self.tvec, _ = aruco.estimatePoseSingleMarkers(corners, mm, mtx, dist)\n",
    "\n",
    "        for i in range(self.rvec.shape[0]):\n",
    "            aruco.drawAxis(self.image, mtx, dist, self.rvec[i, :, :], self.tvec[i, :, :], 50)\n",
    "            text = \"rvec of Aruco: \" + str(self.rvec)\n",
    "            text_draw(text, self.image, (20,30))\n",
    "            text = \"tvec of Aruco: \" + str(self.tvec)\n",
    "            text_draw(text, self.image, (20,50))\n",
    "    \n",
    "    def showAruco(self):\n",
    "        cv2.imshow('test',self.image)\n",
    "        cv2.waitKey(0)\n",
    "        cv2.destroyAllWindows()\n",
    "    \n",
    "class TopView:\n",
    "    def __init__(self,alert_uvs,image_size,rvec,tvec,mtx,robot_space,Z = 0):\n",
    "        self.rvec = rvec\n",
    "        self.tvec = tvec\n",
    "        self.mtx = mtx\n",
    "        self.Z = Z\n",
    "        self.robot_space = robot_space\n",
    "        print(\"image_size:\",image_size)\n",
    "        work_uvs = [[0,0],[0,image_size[0]],[image_size[1],image_size[0]],[image_size[1],0]]\n",
    "        self.region_xys = self.readImgPoints(work_uvs)\n",
    "        self.getRegions()\n",
    "        self.proTopviewRegion(self.region_xys,(255,0,0))\n",
    "        text_draw(\"Camera Workspace\",self.bg,position=(20,20),color=(255,0,0))\n",
    "        print(\"region_xys\",self.region_xys)\n",
    "\n",
    "        self.alert_xys = self.readImgPoints(alert_uvs)\n",
    "        # self.proTopviewRegion(self.alert_xys,(0,0,255))\n",
    "        self.proTopviewCircle(self.alert_xys,(0,0,255))\n",
    "        text_draw(\"Alert Region\",self.bg,position=(20,50),color=(0,0,255))\n",
    "        print(\"alert_xys\",self.alert_xys)\n",
    "\n",
    "    def proTopviewCircle(self,xys,color = (255, 0, 0)):\n",
    "        def normalize(x_in,y_in):\n",
    "            return int(x_in*self.par - self.min_x), int(y_in*self.par - self.min_y)\n",
    "        for i in range(len(xys)):\n",
    "            x, y = xys[i]\n",
    "            x_nor, y_nor = normalize(x,y)\n",
    "            # print(x_nor,y_nor)\n",
    "            cv2.circle(self.bg, (x_nor, y_nor), 5, color, -1)\n",
    "            cv2.circle(self.bg, (x_nor, y_nor), int(self.robot_space_nor), color, 1)\n",
    "\n",
    "    def proTopviewRegion(self,xys,color = (255, 0, 0)):\n",
    "        def normalize(x_in,y_in):\n",
    "            return int(x_in*self.par - self.min_x), int(y_in*self.par - self.min_y)\n",
    "        xy_nors = []\n",
    "        for i in range(len(xys)):\n",
    "            x, y = xys[i]\n",
    "            x_nor, y_nor = normalize(x,y)\n",
    "            xy_nors.append([x_nor,y_nor])\n",
    "            # print(x_nor,y_nor)\n",
    "            cv2.circle(self.bg, (x_nor, y_nor), 5, color, -1)\n",
    "        cv2.polylines(self.bg, pts=[np.array(xy_nors)], isClosed=True, color=color, thickness=1)\n",
    "        \n",
    "    def proTopview(self,xys,color = (255, 0, 0)):\n",
    "        def normalize(x_in,y_in):\n",
    "            return int(x_in*self.par - self.min_x), int(y_in*self.par - self.min_y)\n",
    "        for x,y in xys:\n",
    "            x_nor, y_nor = normalize(x,y)\n",
    "            # print(x_nor, y_nor,self.show.shape)\n",
    "            cv2.circle(self.show, (x_nor, y_nor), 5, color, -1)\n",
    "\n",
    "    def getRegions(self):\n",
    "        max_x, max_y = self.region_xys[0]\n",
    "        self.min_x, self.min_y = self.region_xys[0]\n",
    "        for x,y in self.region_xys[1:]:\n",
    "            max_x = max(max_x,x)\n",
    "            self.min_x = min(self.min_x,x)\n",
    "            max_y = max(max_y,y)\n",
    "            self.min_y = min(self.min_y,y)\n",
    "        self.x_normalized = max_x - self.min_x\n",
    "        self.y_normalized = max_y - self.min_y\n",
    "        self.resizeRegion() #max => 800\n",
    "        self.bg = np.ones((int(self.y_normalized), int(self.x_normalized), 3))*255\n",
    "        print(\"minxy:\",self.min_x,self.min_y)\n",
    "        print(\"maxxy:\",self.x_normalized,self.y_normalized)\n",
    "\n",
    "    def readImgPoints(self,img_positions):\n",
    "        positions = []\n",
    "        for u,v in img_positions:\n",
    "            x_tmp,y_tmp = self.img2constZworld(u,v)\n",
    "            positions.append([x_tmp,y_tmp])\n",
    "        return positions\n",
    "\n",
    "    def run(self, people_uvs):\n",
    "        self.show = self.bg.copy()\n",
    "        people_xys = self.readImgPoints(people_uvs)\n",
    "        self.proTopview(people_xys,color = (0, 255, 0))\n",
    "\n",
    "    def img2constZworld(self,u,v):\n",
    "        R = cv2.Rodrigues(self.rvec[0])[0]\n",
    "        Rt = matrixtoH(R,self.tvec)[:-1,:]\n",
    "        # print(\"Rt:\",Rt)\n",
    "\n",
    "        R_inv = np.linalg.inv(Rt[:,:-1])\n",
    "        mtx_inv = np.linalg.inv(self.mtx)\n",
    "        uv1 = np.array([[u],[v],[1]])\n",
    "        R_inv_dot_t = R_inv.dot(Rt[:,-1].reshape(3,1))\n",
    "        R_inv_mtx_inv_uv1 = R_inv.dot(mtx_inv.dot(uv1))\n",
    "        s = (self.Z + R_inv_dot_t[2]) / R_inv.dot(mtx_inv.dot(uv1))[2]\n",
    "\n",
    "        X = s*R_inv_mtx_inv_uv1[0] - R_inv_dot_t[0]\n",
    "        Y = s*R_inv_mtx_inv_uv1[1] - R_inv_dot_t[1]\n",
    "\n",
    "        return X[0],Y[0]\n",
    "\n",
    "    def resizeRegion(self):\n",
    "        self.par = 800/max(self.x_normalized,self.y_normalized)\n",
    "        print(\"par:\",self.par)\n",
    "        self.x_normalized *= self.par\n",
    "        self.y_normalized *= self.par\n",
    "        self.min_x *= self.par\n",
    "        self.min_y *= self.par\n",
    "        self.robot_space_nor = self.robot_space * self.par\n",
    "\n",
    "def text_draw(text,img,position=(20,20),color=(0,0,0)):\n",
    "    font_scale = 1\n",
    "    font = cv2.FONT_HERSHEY_PLAIN\n",
    "    rectangle_bgr = (255, 255, 255)\n",
    "    (text_width, text_height) = cv2.getTextSize(text, font, fontScale=font_scale, thickness=1)[0]\n",
    "    text_offset_x, text_offset_y = position\n",
    "    box_coords = ((text_offset_x, text_offset_y), (text_offset_x + text_width + 2, text_offset_y - text_height - 2))\n",
    "    cv2.rectangle(img, box_coords[0], box_coords[1], rectangle_bgr, cv2.FILLED)\n",
    "    cv2.putText(img, text, (text_offset_x, text_offset_y), font, fontScale=font_scale, color=color, thickness=1)\n",
    "\n",
    "def matrixtoH(mtx,tvec):\n",
    "    H = np.eye(4)\n",
    "    H[:-1,:-1] = mtx\n",
    "    H[:-1,-1] = tvec\n",
    "    return H\n",
    "\n",
    "def img2constZworld(u,v,rvec,tvec,mtx,Z = 0):\n",
    "    R = cv2.Rodrigues(rvec[0])[0]\n",
    "    Rt = matrixtoH(R,tvec)[:-1,:]\n",
    "    # print(\"Rt:\",Rt)\n",
    "\n",
    "    R_inv = np.linalg.inv(Rt[:,:-1])\n",
    "    mtx_inv = np.linalg.inv(mtx)\n",
    "    uv1 = np.array([[u],[v],[1]])\n",
    "    R_inv_dot_t = R_inv.dot(Rt[:,-1].reshape(3,1))\n",
    "    R_inv_mtx_inv_uv1 = R_inv.dot(mtx_inv.dot(uv1))\n",
    "    s = (Z + R_inv_dot_t[2]) / R_inv.dot(mtx_inv.dot(uv1))[2]\n",
    "\n",
    "    X = s*R_inv_mtx_inv_uv1[0] - R_inv_dot_t[0]\n",
    "    Y = s*R_inv_mtx_inv_uv1[1] - R_inv_dot_t[1]\n",
    "\n",
    "    return X[0],Y[0]\n",
    "\n",
    "def plotArucoWorld(img,uvs,rvec,tvec,mtx,color):\n",
    "    for u, v in uvs:\n",
    "        # print(u,v)\n",
    "        Z = 0\n",
    "        cv2.circle(img, (u, v), 5, color, -1)\n",
    "        X,Y = img2constZworld(u,v,rvec,tvec,mtx) #img2constZworld test\n",
    "        text_draw(str(X) + ', ' + str(Y) + ', ' + str(Z), img, (u, v))\n",
    "        # print('worldpt_result',X,Y,Z)\n",
    "    return img\n",
    "\n",
    "#test\n",
    "def main():\n",
    "    # input condition\n",
    "    mtx = np.array([[626.30548767,   0.,         634.06824106],\n",
    "    [  0.,         625.8353901,  370.04214798],\n",
    "    [  0.,           0.,           1.        ]])\n",
    "\n",
    "    dist = np.array([[ 0.12457191, -0.13187824,  0.00221041, -0.00245185,  0.0852701 ]])\n",
    "    # dist = np.array([[ 0.,  0.,  0., 0., 0.]])\n",
    "    img = cv2.imread('aruco_test.jpg')\n",
    "\n",
    "    arucodetector = ArucoDetector(img, mtx, dist)\n",
    "    rvec, tvec = arucodetector.rvec, arucodetector.tvec\n",
    "    # print(rvec, tvec, img.shape)\n",
    "    img_aruco = arucodetector.image #detectAruco test\n",
    "    # arucodetector.showAruco() #showAruco test\n",
    "\n",
    "    setter = PositionSetter(img_aruco) # select the position\n",
    "    setter.runner()\n",
    "    alert_uvs = setter.saved_position\n",
    "    # print(alert_uvs)\n",
    "\n",
    "    ### image to Zconst world test data ###\n",
    "    # worldpts = np.float32([[300,500,0]])\n",
    "    # print('worldpt_gt',worldpts)\n",
    "    # imgpts, _ = cv2.projectPoints(worldpts, rvec, tvec, mtx, dist)\n",
    "    # u, v = int(imgpts[0][0][0]), int(imgpts[0][0][1])\n",
    "    # cv2.circle(img_aruco, (u,v), 2, (0,0,255), 4)\n",
    "    # Z = 0\n",
    "    # print(\"u,v,Zconst\",u,v,Z)\n",
    "    ### image to Zconst world test data ###\n",
    "\n",
    "    plotArucoWorld(img_aruco,alert_uvs,rvec,tvec,mtx,(0,0,255))\n",
    "    \n",
    "    people_positions = [[200,400],[400,600]]\n",
    "\n",
    "    plotArucoWorld(img_aruco,people_positions,rvec,tvec,mtx,(0,255,0))\n",
    "\n",
    "    cv2.imshow('test',img_aruco)\n",
    "\n",
    "    robot_space = 300 #mm\n",
    "    topview = TopView(alert_uvs,img.shape,rvec,tvec,mtx,robot_space)\n",
    "    topview.run(people_positions)\n",
    "    cv2.imshow(\"Top View\", topview.show)\n",
    "    cv2.waitKey(0)\n",
    "    cv2.destroyAllWindows()\n",
    "\n",
    "if __name__ == '__main__':\n",
    "    main()"
   ]
  },
  {
   "cell_type": "code",
   "execution_count": 71,
   "metadata": {},
   "outputs": [
    {
     "name": "stdout",
     "output_type": "stream",
     "text": [
      "['EVENT_FLAG_ALTKEY', 'EVENT_FLAG_CTRLKEY', 'EVENT_FLAG_LBUTTON', 'EVENT_FLAG_MBUTTON', 'EVENT_FLAG_RBUTTON', 'EVENT_FLAG_SHIFTKEY', 'EVENT_LBUTTONDBLCLK', 'EVENT_LBUTTONDOWN', 'EVENT_LBUTTONUP', 'EVENT_MBUTTONDBLCLK', 'EVENT_MBUTTONDOWN', 'EVENT_MBUTTONUP', 'EVENT_MOUSEHWHEEL', 'EVENT_MOUSEMOVE', 'EVENT_MOUSEWHEEL', 'EVENT_RBUTTONDBLCLK', 'EVENT_RBUTTONDOWN', 'EVENT_RBUTTONUP']\n"
     ]
    }
   ],
   "source": [
    "import cv2\n",
    "events = [i for i in dir(cv2) if 'EVENT' in i]\n",
    "print (events)"
   ]
  },
  {
   "cell_type": "code",
   "execution_count": 99,
   "metadata": {},
   "outputs": [
    {
     "name": "stdout",
     "output_type": "stream",
     "text": [
      "757 134\n",
      "592 312\n",
      "756 380\n",
      "reset!\n",
      "665 272\n",
      "482 454\n",
      "536 521\n",
      "840 431\n",
      "reset!\n",
      "764 156\n",
      "581 326\n",
      "735 465\n",
      "976 336\n",
      "[[764, 156], [581, 326], [735, 465], [976, 336]]\n"
     ]
    }
   ],
   "source": [
    "import cv2\n",
    "import numpy as np\n",
    "\n",
    "# mouse callback function\n",
    "class PositionSaver:\n",
    "    def __init__(self,img):\n",
    "        self.initial(img)\n",
    "\n",
    "    def draw_circle(self, event, x, y, flags, param):\n",
    "        if event == cv2.EVENT_LBUTTONDBLCLK:\n",
    "            if len(self.saved_position) < 4:\n",
    "                cv2.circle(self.img, (x, y), 5, (255, 0, 0), -1)\n",
    "                print(x,y)\n",
    "                self.saved_position.append([x,y])\n",
    "\n",
    "    def runner(self):\n",
    "        cv2.namedWindow('image')\n",
    "        cv2.setMouseCallback('image', self.draw_circle)\n",
    "        while (1):\n",
    "            cv2.imshow('image', self.img)\n",
    "            key = cv2.waitKey(1)\n",
    "            if key == ord('q'):\n",
    "                break\n",
    "            if key == ord('r'): #reset saved position\n",
    "                print(\"reset!\")\n",
    "                self.initial(img)\n",
    "        cv2.destroyAllWindows()\n",
    "    \n",
    "    def initial(self,img):\n",
    "        self.img = img.copy()\n",
    "        self.saved_position = []\n",
    "    \n",
    "img = cv2.imread('aruco_test.jpg')\n",
    "saver = PositionSaver(img)\n",
    "saver.runner()\n",
    "print(saver.saved_position)"
   ]
  },
  {
   "cell_type": "code",
   "execution_count": 86,
   "metadata": {},
   "outputs": [
    {
     "data": {
      "text/plain": [
       "[[168, 229], [328, 313], [325, 149], [199, 375], [440, 438]]"
      ]
     },
     "execution_count": 86,
     "metadata": {},
     "output_type": "execute_result"
    }
   ],
   "source": [
    "saver.saved_position"
   ]
  },
  {
   "cell_type": "markdown",
   "metadata": {},
   "source": [
    "# Tree Deep"
   ]
  },
  {
   "cell_type": "markdown",
   "metadata": {},
   "source": [
    "[3,9,20,null,null,15,7]\n",
    "3\n",
    "Given a binary tree, find its maximum depth.\n",
    "\n",
    "The maximum depth is the number of nodes along the longest path from the root node down to the farthest leaf node.\n",
    "\n",
    "Note: A leaf is a node with no children."
   ]
  },
  {
   "cell_type": "code",
   "execution_count": 18,
   "metadata": {},
   "outputs": [
    {
     "data": {
      "text/plain": [
       "3"
      ]
     },
     "execution_count": 18,
     "metadata": {},
     "output_type": "execute_result"
    }
   ],
   "source": [
    "class Btnode:\n",
    "    def __init__(self,x):\n",
    "        self.val = x\n",
    "        self.left = None\n",
    "        self.right = None\n",
    "class Solution(object):\n",
    "    def searchDeep(self,tree):\n",
    "        self.maxdeep = 0\n",
    "        return self.dfs(tree,0)\n",
    "    def dfs(self,node,nodedeep):\n",
    "        if not node:\n",
    "            return\n",
    "        # print(node.val,nodedeep)\n",
    "        nodedeep += 1\n",
    "        self.maxdeep = max(self.maxdeep,nodedeep)\n",
    "        self.dfs(node.left,nodedeep)\n",
    "        self.dfs(node.right,nodedeep)\n",
    "        return self.maxdeep\n",
    "\n",
    "\n",
    "# tree = [3,9,20,None,None,15,7]\n",
    "tree = Btnode(3)\n",
    "tree.left = Btnode(9)\n",
    "tree.right = Btnode(20)\n",
    "tree.right.left = Btnode(15)\n",
    "tree.right.right = Btnode(7)\n",
    "\n",
    "sol = Solution()\n",
    "sol.searchDeep(tree)"
   ]
  },
  {
   "cell_type": "markdown",
   "metadata": {},
   "source": [
    "# Longest Increasing Path in a Matrix"
   ]
  },
  {
   "cell_type": "code",
   "execution_count": 51,
   "metadata": {},
   "outputs": [
    {
     "data": {
      "text/plain": [
       "3"
      ]
     },
     "execution_count": 51,
     "metadata": {},
     "output_type": "execute_result"
    }
   ],
   "source": [
    "class Solution(object):\n",
    "    def getPath(self,nums):\n",
    "        self.nums = nums\n",
    "        self.max_pathnum = 1\n",
    "        for i in range(len(nums)):\n",
    "            for j in range(len(nums[0])):\n",
    "                # print('---')\n",
    "                self.cal(i,j,0)\n",
    "        return self.max_pathnum\n",
    "\n",
    "        return marked_matrix\n",
    "    def cal(self,x,y,pathnum):\n",
    "        pathnum += 1\n",
    "        self.max_pathnum = max(self.max_pathnum,pathnum)\n",
    "        # print(x,y,pathnum)\n",
    "        if x != 0:\n",
    "            if self.nums[x][y] < self.nums[x-1][y]:\n",
    "                self.cal(x-1,y,pathnum)\n",
    "        if x != len(self.nums)-1:\n",
    "            if self.nums[x][y] < self.nums[x+1][y]:\n",
    "                self.cal(x+1,y,pathnum)\n",
    "        if y != 0:\n",
    "            if self.nums[x][y] < self.nums[x][y-1]:\n",
    "                self.cal(x,y-1,pathnum)\n",
    "        if y != len(self.nums[0])-1:\n",
    "            if self.nums[x][y] < self.nums[x][y+1]:\n",
    "                self.cal(x,y+1,pathnum)\n",
    "\n",
    "sol = Solution()\n",
    "nums = [\n",
    "  [9,9,4],\n",
    "  [6,6,8],\n",
    "  [2,1,1]\n",
    "]\n",
    "nums = [\n",
    "  [3,2,5],\n",
    "  [3,2,6],\n",
    "  [2,2,1]\n",
    "]\n",
    "\n",
    "sol.getPath(nums)"
   ]
  },
  {
   "cell_type": "markdown",
   "metadata": {},
   "source": [
    "# Interleaving String"
   ]
  },
  {
   "cell_type": "code",
   "execution_count": 71,
   "metadata": {},
   "outputs": [
    {
     "data": {
      "text/plain": [
       "True"
      ]
     },
     "execution_count": 71,
     "metadata": {},
     "output_type": "execute_result"
    }
   ],
   "source": [
    "class Solution(object):\n",
    "    def det(self,s1,s2,s3):\n",
    "        if len(s1) + len(s2) != len(s3):\n",
    "            return False\n",
    "        self.result = False\n",
    "        self.dp(s1,s2,s3)\n",
    "        return self.result\n",
    "    def dp(self,res_s1,res_s2,res_s3):\n",
    "        if len(res_s3) == 0:\n",
    "            self.result = True\n",
    "            return \n",
    "        if len(res_s1)>0 and res_s1[0] == res_s3[0]:\n",
    "            self.dp(res_s1[1:],res_s2,res_s3[1:])\n",
    "        if len(res_s2)>0 and res_s2[0] == res_s3[0]:\n",
    "            self.dp(res_s1,res_s2[1:],res_s3[1:])\n",
    "\n",
    "sol = Solution()\n",
    "s1 = \"aabcc\"\n",
    "s2 = \"dbbca\"\n",
    "s3 = \"aadbbcbcac\"\n",
    "# s1 = \"aabcc\"\n",
    "# s2 = \"dbbca\"\n",
    "# s3 = \"aadbbbaccc\"\n",
    "sol.det(s1,s2,s3)"
   ]
  },
  {
   "cell_type": "markdown",
   "metadata": {},
   "source": [
    "# Ones and Zeroes"
   ]
  },
  {
   "cell_type": "code",
   "execution_count": 56,
   "metadata": {},
   "outputs": [
    {
     "name": "stdout",
     "output_type": "stream",
     "text": [
      "[[0, 0], [0, 0]]\n",
      "[[0, 0], [0, 1]]\n",
      "[[0, 0], [0, 1]]\n",
      "[[0, 0], [0, 1]]\n",
      "[[0, 1], [0, 1]]\n",
      "[[0, 1], [1, 2]]\n",
      "[[0, 1], [1, 2]]\n"
     ]
    },
    {
     "data": {
      "text/plain": [
       "2"
      ]
     },
     "execution_count": 56,
     "metadata": {},
     "output_type": "execute_result"
    }
   ],
   "source": [
    "class Solution(object):\n",
    "    def findmaxset(self,strs,m,n):\n",
    "        dp = [[0]*(n+1) for _ in range(m+1)]\n",
    "        print(dp)\n",
    "        for st in strs:\n",
    "            zeroes = st.count('0')\n",
    "            ones = len(st) - zeroes\n",
    "            # print(zeroes,ones)\n",
    "            for i in range(m,zeroes-1,-1):\n",
    "                for j in range(n,ones-1,-1):\n",
    "                    # print(i,j,zeroes,ones)\n",
    "                    dp[i][j] = max(dp[i][j],dp[i-zeroes][j-ones]+1)\n",
    "            print(dp)\n",
    "        print(dp)\n",
    "        return dp[m][n]\n",
    "\n",
    "sol = Solution()\n",
    "strs = [\"10\", \"0001\", \"111001\", \"1\", \"0\"]\n",
    "# strs = [\"10\", \"0\", \"1\"]\n",
    "m = 5\n",
    "n = 3\n",
    "# m = 1\n",
    "# n = 1\n",
    "sol.findmaxset(strs,m,n)"
   ]
  },
  {
   "cell_type": "code",
   "execution_count": 67,
   "metadata": {},
   "outputs": [
    {
     "name": "stdout",
     "output_type": "stream",
     "text": [
      "[[0, 0, 0, 0], [0, 1, 1, 1], [0, 1, 1, 1], [0, 1, 1, 1], [0, 1, 1, 1], [0, 1, 1, 1]] 1 1\n",
      "[[0, 0, 0, 0], [0, 1, 1, 1], [0, 1, 1, 1], [0, 1, 1, 1], [0, 1, 2, 2], [0, 1, 2, 2]] 3 1\n",
      "[[0, 0, 0, 0], [0, 1, 1, 1], [0, 1, 1, 1], [0, 1, 1, 1], [0, 1, 2, 2], [0, 1, 2, 2]] 2 4\n",
      "[[0, 1, 1, 1], [0, 1, 2, 2], [0, 1, 2, 2], [0, 1, 2, 2], [0, 1, 2, 3], [0, 1, 2, 3]] 0 1\n",
      "[[0, 1, 1, 1], [1, 2, 2, 2], [1, 2, 3, 3], [1, 2, 3, 3], [1, 2, 3, 3], [1, 2, 3, 4]] 1 0\n"
     ]
    },
    {
     "data": {
      "text/plain": [
       "4"
      ]
     },
     "execution_count": 67,
     "metadata": {},
     "output_type": "execute_result"
    }
   ],
   "source": [
    "class Solution(object):\n",
    "    def findmaxset(self,strs,m,n):\n",
    "        dp = [[0]*(n+1) for _ in range(m+1)]\n",
    "        # print(dp)\n",
    "        for st in strs:\n",
    "            zeroes = st.count(\"0\")\n",
    "            ones = len(st) - zeroes\n",
    "            # print(zeroes,ones)\n",
    "            for i in range(m,zeroes-1,-1):\n",
    "                for j in range(n,ones-1,-1):\n",
    "                    dp[i][j] = max(dp[i][j],dp[i-zeroes][j-ones]+1)\n",
    "            print(dp,zeroes,ones)\n",
    "\n",
    "        return dp[m][n]\n",
    "sol = Solution()\n",
    "strs = [\"10\", \"0001\", \"111001\", \"1\", \"0\"]\n",
    "# strs = [\"10\", \"0\", \"1\"]\n",
    "m = 5\n",
    "n = 3\n",
    "# m = 1\n",
    "# n = 1\n",
    "sol.findmaxset(strs,m,n)"
   ]
  },
  {
   "cell_type": "markdown",
   "metadata": {},
   "source": [
    "# EfficientNet Test"
   ]
  },
  {
   "cell_type": "code",
   "execution_count": 1,
   "metadata": {},
   "outputs": [
    {
     "name": "stderr",
     "output_type": "stream",
     "text": [
      "2021-12-02 11:36:22.025470: I tensorflow/stream_executor/platform/default/dso_loader.cc:48] Successfully opened dynamic library libcudart.so.10.1\n"
     ]
    },
    {
     "name": "stdout",
     "output_type": "stream",
     "text": [
      "1 Physical GPUs, 1 Logical GPUs\n",
      "WARNING:tensorflow:From /tmp/ipykernel_28653/3412762688.py:25: is_gpu_available (from tensorflow.python.framework.test_util) is deprecated and will be removed in a future version.\n",
      "Instructions for updating:\n",
      "Use `tf.config.list_physical_devices('GPU')` instead.\n"
     ]
    },
    {
     "name": "stderr",
     "output_type": "stream",
     "text": [
      "2021-12-02 11:36:22.874156: I tensorflow/stream_executor/platform/default/dso_loader.cc:48] Successfully opened dynamic library libcuda.so.1\n",
      "2021-12-02 11:36:22.909764: I tensorflow/core/common_runtime/gpu/gpu_device.cc:1716] Found device 0 with properties: \n",
      "pciBusID: 0000:02:00.0 name: GeForce GTX 1060 6GB computeCapability: 6.1\n",
      "coreClock: 1.759GHz coreCount: 10 deviceMemorySize: 5.93GiB deviceMemoryBandwidth: 178.99GiB/s\n",
      "2021-12-02 11:36:22.909795: I tensorflow/stream_executor/platform/default/dso_loader.cc:48] Successfully opened dynamic library libcudart.so.10.1\n",
      "2021-12-02 11:36:22.911190: I tensorflow/stream_executor/platform/default/dso_loader.cc:48] Successfully opened dynamic library libcublas.so.10\n",
      "2021-12-02 11:36:22.912447: I tensorflow/stream_executor/platform/default/dso_loader.cc:48] Successfully opened dynamic library libcufft.so.10\n",
      "2021-12-02 11:36:22.912649: I tensorflow/stream_executor/platform/default/dso_loader.cc:48] Successfully opened dynamic library libcurand.so.10\n",
      "2021-12-02 11:36:22.914109: I tensorflow/stream_executor/platform/default/dso_loader.cc:48] Successfully opened dynamic library libcusolv"
     ]
    },
    {
     "data": {
      "text/plain": [
       "True"
      ]
     },
     "execution_count": 1,
     "metadata": {},
     "output_type": "execute_result"
    },
    {
     "name": "stderr",
     "output_type": "stream",
     "text": [
      "er.so.10\n",
      "2021-12-02 11:36:22.914861: I tensorflow/stream_executor/platform/default/dso_loader.cc:48] Successfully opened dynamic library libcusparse.so.10\n",
      "2021-12-02 11:36:22.917928: I tensorflow/stream_executor/platform/default/dso_loader.cc:48] Successfully opened dynamic library libcudnn.so.7\n",
      "2021-12-02 11:36:22.918754: I tensorflow/core/common_runtime/gpu/gpu_device.cc:1858] Adding visible gpu devices: 0\n",
      "2021-12-02 11:36:22.919222: I tensorflow/core/platform/cpu_feature_guard.cc:142] This TensorFlow binary is optimized with oneAPI Deep Neural Network Library (oneDNN)to use the following CPU instructions in performance-critical operations:  AVX2 FMA\n",
      "To enable them in other operations, rebuild TensorFlow with the appropriate compiler flags.\n",
      "2021-12-02 11:36:22.924902: I tensorflow/core/platform/profile_utils/cpu_utils.cc:104] CPU Frequency: 3499805000 Hz\n",
      "2021-12-02 11:36:22.925280: I tensorflow/compiler/xla/service/service.cc:168] XLA service 0x5643229fa880 initialized for platform Host (this does not guarantee that XLA will be used). Devices:\n",
      "2021-12-02 11:36:22.925300: I tensorflow/compiler/xla/service/service.cc:176]   StreamExecutor device (0): Host, Default Version\n",
      "2021-12-02 11:36:23.025103: I tensorflow/compiler/xla/service/service.cc:168] XLA service 0x56432469e710 initialized for platform CUDA (this does not guarantee that XLA will be used). Devices:\n",
      "2021-12-02 11:36:23.025150: I tensorflow/compiler/xla/service/service.cc:176]   StreamExecutor device (0): GeForce GTX 1060 6GB, Compute Capability 6.1\n",
      "2021-12-02 11:36:23.026353: I tensorflow/core/common_runtime/gpu/gpu_device.cc:1716] Found device 0 with properties: \n",
      "pciBusID: 0000:02:00.0 name: GeForce GTX 1060 6GB computeCapability: 6.1\n",
      "coreClock: 1.759GHz coreCount: 10 deviceMemorySize: 5.93GiB deviceMemoryBandwidth: 178.99GiB/s\n",
      "2021-12-02 11:36:23.026415: I tensorflow/stream_executor/platform/default/dso_loader.cc:48] Successfully opened dynamic library libcudart.so.10.1\n",
      "2021-12-02 11:36:23.026480: I tensorflow/stream_executor/platform/default/dso_loader.cc:48] Successfully opened dynamic library libcublas.so.10\n",
      "2021-12-02 11:36:23.026515: I tensorflow/stream_executor/platform/default/dso_loader.cc:48] Successfully opened dynamic library libcufft.so.10\n",
      "2021-12-02 11:36:23.026549: I tensorflow/stream_executor/platform/default/dso_loader.cc:48] Successfully opened dynamic library libcurand.so.10\n",
      "2021-12-02 11:36:23.026585: I tensorflow/stream_executor/platform/default/dso_loader.cc:48] Successfully opened dynamic library libcusolver.so.10\n",
      "2021-12-02 11:36:23.026619: I tensorflow/stream_executor/platform/default/dso_loader.cc:48] Successfully opened dynamic library libcusparse.so.10\n",
      "2021-12-02 11:36:23.026654: I tensorflow/stream_executor/platform/default/dso_loader.cc:48] Successfully opened dynamic library libcudnn.so.7\n",
      "2021-12-02 11:36:23.028463: I tensorflow/core/common_runtime/gpu/gpu_device.cc:1858] Adding visible gpu devices: 0\n",
      "2021-12-02 11:36:23.028529: I tensorflow/stream_executor/platform/default/dso_loader.cc:48] Successfully opened dynamic library libcudart.so.10.1\n",
      "2021-12-02 11:36:23.411284: I tensorflow/core/common_runtime/gpu/gpu_device.cc:1257] Device interconnect StreamExecutor with strength 1 edge matrix:\n",
      "2021-12-02 11:36:23.411317: I tensorflow/core/common_runtime/gpu/gpu_device.cc:1263]      0 \n",
      "2021-12-02 11:36:23.411324: I tensorflow/core/common_runtime/gpu/gpu_device.cc:1276] 0:   N \n",
      "2021-12-02 11:36:23.412160: I tensorflow/core/common_runtime/gpu/gpu_device.cc:1402] Created TensorFlow device (/job:localhost/replica:0/task:0/device:GPU:0 with 4938 MB memory) -> physical GPU (device: 0, name: GeForce GTX 1060 6GB, pci bus id: 0000:02:00.0, compute capability: 6.1)\n",
      "2021-12-02 11:36:23.415080: I tensorflow/core/common_runtime/gpu/gpu_device.cc:1716] Found device 0 with properties: \n",
      "pciBusID: 0000:02:00.0 name: GeForce GTX 1060 6GB computeCapability: 6.1\n",
      "coreClock: 1.759GHz coreCount: 10 deviceMemorySize: 5.93GiB deviceMemoryBandwidth: 178.99GiB/s\n",
      "2021-12-02 11:36:23.415113: I tensorflow/stream_executor/platform/default/dso_loader.cc:48] Successfully opened dynamic library libcudart.so.10.1\n",
      "2021-12-02 11:36:23.415143: I tensorflow/stream_executor/platform/default/dso_loader.cc:48] Successfully opened dynamic library libcublas.so.10\n",
      "2021-12-02 11:36:23.415157: I tensorflow/stream_executor/platform/default/dso_loader.cc:48] Successfully opened dynamic library libcufft.so.10\n",
      "2021-12-02 11:36:23.415170: I tensorflow/stream_executor/platform/default/dso_loader.cc:48] Successfully opened dynamic library libcurand.so.10\n",
      "2021-12-02 11:36:23.415183: I tensorflow/stream_executor/platform/default/dso_loader.cc:48] Successfully opened dynamic library libcusolver.so.10\n",
      "2021-12-02 11:36:23.415196: I tensorflow/stream_executor/platform/default/dso_loader.cc:48] Successfully opened dynamic library libcusparse.so.10\n",
      "2021-12-02 11:36:23.415209: I tensorflow/stream_executor/platform/default/dso_loader.cc:48] Successfully opened dynamic library libcudnn.so.7\n",
      "2021-12-02 11:36:23.415825: I tensorflow/core/common_runtime/gpu/gpu_device.cc:1858] Adding visible gpu devices: 0\n",
      "2021-12-02 11:36:23.415843: I tensorflow/core/common_runtime/gpu/gpu_device.cc:1257] Device interconnect StreamExecutor with strength 1 edge matrix:\n",
      "2021-12-02 11:36:23.415848: I tensorflow/core/common_runtime/gpu/gpu_device.cc:1263]      0 \n",
      "2021-12-02 11:36:23.415852: I tensorflow/core/common_runtime/gpu/gpu_device.cc:1276] 0:   N \n",
      "2021-12-02 11:36:23.416532: I tensorflow/core/common_runtime/gpu/gpu_device.cc:1402] Created TensorFlow device (/device:GPU:0 with 4938 MB memory) -> physical GPU (device: 0, name: GeForce GTX 1060 6GB, pci bus id: 0000:02:00.0, compute capability: 6.1)\n"
     ]
    }
   ],
   "source": [
    "from tensorflow.keras.callbacks import ModelCheckpoint, EarlyStopping, TensorBoard\n",
    "from tensorflow.keras.datasets import mnist\n",
    "from tensorflow.keras.layers import Dense, Dropout, Flatten, Input\n",
    "from tensorflow.keras.layers import Conv2D, MaxPooling2D\n",
    "from tensorflow.keras.models import Model, Sequential\n",
    "import tensorflow.keras.backend as K\n",
    "import tensorflow as tf\n",
    "import glob\n",
    "import numpy as np\n",
    "import cv2\n",
    "\n",
    "def solve_cudnn_error():\n",
    "    gpus = tf.config.experimental.list_physical_devices('GPU')\n",
    "    if gpus:\n",
    "        try:\n",
    "            # Currently, memory growth needs to be the same across GPUs\n",
    "            for gpu in gpus:\n",
    "                tf.config.experimental.set_memory_growth(gpu, True)\n",
    "            logical_gpus = tf.config.experimental.list_logical_devices('GPU')\n",
    "            print(len(gpus), \"Physical GPUs,\", len(logical_gpus), \"Logical GPUs\")\n",
    "        except RuntimeError as e:\n",
    "            # Memory growth must be set before GPUs have been initialized\n",
    "            print(e)\n",
    "solve_cudnn_error()\n",
    "tf.test.is_gpu_available()\n",
    "# tf.config.list_physical_devices('GPU')"
   ]
  },
  {
   "cell_type": "code",
   "execution_count": 2,
   "metadata": {},
   "outputs": [
    {
     "name": "stdout",
     "output_type": "stream",
     "text": [
      "(216, 224, 224, 3) (216,)\n"
     ]
    }
   ],
   "source": [
    "def angular_loss_mae(y_true, y_pred):\n",
    "    \"\"\"\n",
    "    Tensorflow custom loss function to be used during training\n",
    "    :param y_true:\n",
    "    :param y_pred:\n",
    "    :return:\n",
    "    \"\"\"\n",
    "\n",
    "    N = tf.math.divide(y_pred, 360)\n",
    "    N = tf.floor(N)\n",
    "\n",
    "    y_pred = K.switch(K.greater_equal(y_pred, 360), y_pred - (N * 360), y_pred)\n",
    "    y_pred = K.switch(K.less(y_pred, 0), y_pred + (K.abs(N) * 360), y_pred)\n",
    "\n",
    "    error1 = K.abs(y_pred - y_true)\n",
    "    error2 = 360 - error1\n",
    "    error = K.minimum(error1, error2)\n",
    "    mae = K.mean(error)\n",
    "\n",
    "    return mae\n",
    "\n",
    "def noisy(img, noise_type=\"gauss\"):\n",
    "    '''\n",
    "    ### Adding Noise ###\n",
    "    img: image\n",
    "    cj_type: {gauss: gaussian, sp: salt & pepper}\n",
    "    '''\n",
    "    if noise_type == \"gauss\":\n",
    "        image=img.copy() \n",
    "        mean=0\n",
    "        st=0.7\n",
    "        gauss = np.random.normal(mean,st,image.shape)\n",
    "        gauss = gauss.astype('uint8')\n",
    "        image = cv2.add(image,gauss)\n",
    "        return image\n",
    "    \n",
    "    elif noise_type == \"sp\":\n",
    "        image=img.copy() \n",
    "        prob = 0.05\n",
    "        if len(image.shape) == 2:\n",
    "            black = 0\n",
    "            white = 255            \n",
    "        else:\n",
    "            colorspace = image.shape[2]\n",
    "            if colorspace == 3:  # RGB\n",
    "                black = np.array([0, 0, 0], dtype='uint8')\n",
    "                white = np.array([255, 255, 255], dtype='uint8')\n",
    "            else:  # RGBA\n",
    "                black = np.array([0, 0, 0, 255], dtype='uint8')\n",
    "                white = np.array([255, 255, 255, 255], dtype='uint8')\n",
    "        probs = np.random.random(image.shape[:2])\n",
    "        image[probs < (prob / 2)] = black\n",
    "        image[probs > 1 - (prob / 2)] = white\n",
    "        return image\n",
    "\n",
    "def colorjitter(img, cj_type=\"b\"):\n",
    "    '''\n",
    "    ### Different Color Jitter ###\n",
    "    img: image\n",
    "    cj_type: {b: brightness, s: saturation, c: constast}\n",
    "    '''\n",
    "    if cj_type == \"b\":\n",
    "        # value = random.randint(-50, 50)\n",
    "        value = np.random.choice(np.array([-50, -40, -30, 30, 40, 50]))\n",
    "        hsv = cv2.cvtColor(img, cv2.COLOR_BGR2HSV)\n",
    "        h, s, v = cv2.split(hsv)\n",
    "        if value >= 0:\n",
    "            lim = 255 - value\n",
    "            v[v > lim] = 255\n",
    "            v[v <= lim] += value\n",
    "        else:\n",
    "            lim = np.absolute(value)\n",
    "            v[v < lim] = 0\n",
    "            v[v >= lim] -= np.absolute(value)\n",
    "\n",
    "        final_hsv = cv2.merge((h, s, v))\n",
    "        img = cv2.cvtColor(final_hsv, cv2.COLOR_HSV2BGR)\n",
    "        return img\n",
    "    \n",
    "    elif cj_type == \"s\":\n",
    "        # value = random.randint(-50, 50)\n",
    "        value = np.random.choice(np.array([-50, -40, -30, 30, 40, 50]))\n",
    "        hsv = cv2.cvtColor(img, cv2.COLOR_BGR2HSV)\n",
    "        h, s, v = cv2.split(hsv)\n",
    "        if value >= 0:\n",
    "            lim = 255 - value\n",
    "            s[s > lim] = 255\n",
    "            s[s <= lim] += value\n",
    "        else:\n",
    "            lim = np.absolute(value)\n",
    "            s[s < lim] = 0\n",
    "            s[s >= lim] -= np.absolute(value)\n",
    "\n",
    "        final_hsv = cv2.merge((h, s, v))\n",
    "        img = cv2.cvtColor(final_hsv, cv2.COLOR_HSV2BGR)\n",
    "        return img\n",
    "    \n",
    "    elif cj_type == \"c\":\n",
    "        brightness = 10\n",
    "        contrast = random.randint(40, 100)\n",
    "        dummy = np.int16(img)\n",
    "        dummy = dummy * (contrast/127+1) - contrast + brightness\n",
    "        dummy = np.clip(dummy, 0, 255)\n",
    "        img = np.uint8(dummy)\n",
    "        return img\n",
    "\n",
    "def trans(img,par=0.1):\n",
    "    # img = cv2.imread('./cnn_data/air/22_rgb_air.jpg')\n",
    "    # par = 0.2\n",
    "    ran1 = np.random.random()*2-1\n",
    "    ran2 = np.random.random()*2-1\n",
    "    rows, cols, channal = image.shape\n",
    "    dx = par * rows * ran1\n",
    "    dy = par * rows * ran2\n",
    "    mat = np.float32([[1,0,dx],[0,1,dy]])\n",
    "    mov = cv2.warpAffine(img,mat,(cols,rows),borderMode=cv2.INTER_LINEAR, borderValue=cv2.BORDER_REPLICATE)\n",
    "    # cv2.imshow(\"img\",mov)\n",
    "    # cv2.waitKey(0)\n",
    "    # cv2.destroyAllWindows()\n",
    "    return mov\n",
    "\n",
    "class DataProcessor():\n",
    "    def angle2vec(self,angle):\n",
    "        # angle2vec(np.array([90,180]))\n",
    "        rad = angle * np.pi / 180 \n",
    "        x = np.cos(rad)\n",
    "        y = np.sin(rad)\n",
    "        return x,y\n",
    "\n",
    "    def img2data(self,image_data):\n",
    "        if len(image_data.shape) == 3:\n",
    "            # print(0)\n",
    "            return ((image_data/255)*2-1).reshape(1,image_data.shape[0],image_data.shape[1],image_data.shape[2])\n",
    "            # return ((image_data/255)).reshape(1,image_data.shape[0],image_data.shape[1],image_data.shape[2])\n",
    "        return ((image_data/255)*2-1)\n",
    "        # return ((image_data/255))\n",
    "\n",
    "    def angle2data(self,angle):\n",
    "        return angle/180 - 1\n",
    "\n",
    "    def data2angle(self,data):\n",
    "        angle = (data+1)/2 * 360\n",
    "        # angle = data\n",
    "        return angle\n",
    "\n",
    "def text_draw(text,img,position=(20,20)):\n",
    "    font_scale = 1\n",
    "    font = cv2.FONT_HERSHEY_PLAIN\n",
    "    rectangle_bgr = (255, 255, 255)\n",
    "    (text_width, text_height) = cv2.getTextSize(text, font, fontScale=font_scale, thickness=1)[0]\n",
    "    text_offset_x, text_offset_y = position\n",
    "    box_coords = ((text_offset_x, text_offset_y), (text_offset_x + text_width + 2, text_offset_y - text_height - 2))\n",
    "    cv2.rectangle(img, box_coords[0], box_coords[1], rectangle_bgr, cv2.FILLED)\n",
    "    cv2.putText(img, text, (text_offset_x, text_offset_y), font, fontScale=font_scale, color=(0, 0, 0), thickness=1)\n",
    "\n",
    "images_path = glob.glob('../angle_estimate/cnn_result/board/*')\n",
    "image_data = []\n",
    "angle_data = []\n",
    "image_testdata = []\n",
    "\n",
    "# Load Data\n",
    "for image_path in images_path:\n",
    "    image = cv2.imread(image_path)\n",
    "    image_ori = image.copy()\n",
    "    image_ori_resize = cv2.resize(image_ori, (224, 224), interpolation=cv2.INTER_NEAREST)#new resize\n",
    "    image_testdata.append(image_ori_resize)#new resize\n",
    "    # image_testdata.append(image_ori)# no resize\n",
    "    image = colorjitter(image) # color change\n",
    "    image = noisy(image)\n",
    "    image = trans(image)\n",
    "    image_resize = cv2.resize(image, (224, 224), interpolation=cv2.INTER_NEAREST)#new resize\n",
    "    # image_data.append(image)#no resize\n",
    "    image_data.append(image_resize)#new resize\n",
    "    angle_data.append(float(image_path.split('/')[-1][:-4]))\n",
    "\n",
    "for image_path in images_path:\n",
    "    image = cv2.imread(image_path)\n",
    "    image_ori = image.copy()\n",
    "    image_ori_resize = cv2.resize(image_ori, (224, 224), interpolation=cv2.INTER_NEAREST)#new resize\n",
    "    image_testdata.append(image_ori_resize)#new resize\n",
    "    # image_testdata.append(image_ori)# no resize\n",
    "    image = colorjitter(image) # color change\n",
    "    image = noisy(image)\n",
    "    image = trans(image)\n",
    "    image_resize = cv2.resize(image, (224, 224), interpolation=cv2.INTER_NEAREST)#new resize\n",
    "    # image_data.append(image)#no resize\n",
    "    image_data.append(image_resize)#new resize\n",
    "    angle_data.append(float(image_path.split('/')[-1][:-4]))\n",
    "\n",
    "for image_path in images_path:\n",
    "    image = cv2.imread(image_path)\n",
    "    image_ori = image.copy()\n",
    "    image_ori_resize = cv2.resize(image_ori, (224, 224), interpolation=cv2.INTER_NEAREST)#new resize\n",
    "    image_testdata.append(image_ori_resize)#new resize\n",
    "    # image_testdata.append(image_ori)# no resize\n",
    "    image = colorjitter(image) # color change\n",
    "    image = noisy(image)\n",
    "    image = trans(image)\n",
    "    image_resize = cv2.resize(image, (224, 224), interpolation=cv2.INTER_NEAREST)#new resize\n",
    "    # image_data.append(image)#no resize\n",
    "    image_data.append(image_resize)#new resize\n",
    "    angle_data.append(float(image_path.split('/')[-1][:-4]))\n",
    "\n",
    "image_data = np.array(image_data)\n",
    "angle_data = np.array(angle_data)\n",
    "image_testdata = np.array(image_testdata)\n",
    "\n",
    "# Preprocess\n",
    "proc = DataProcessor()\n",
    "x_data = proc.img2data(image_data)\n",
    "# y_data = angle2vec(angle_data)\n",
    "y_data = proc.angle2data(angle_data)\n",
    "# y_data = angle_data\n",
    "print(x_data.shape,y_data.shape)"
   ]
  },
  {
   "cell_type": "code",
   "execution_count": 3,
   "metadata": {},
   "outputs": [],
   "source": [
    "img_shape = image_data.shape[1:-1]\n",
    "\n",
    "# base = tf.keras.applications.NASNetLarge(input_shape=(img_shape[0], img_shape[1],3),\n",
    "base = tf.keras.applications.EfficientNetB0(input_shape=(img_shape[0], img_shape[1],3),\n",
    "# base = tf.keras.applications.ResNet50(input_shape=(img_shape[0], img_shape[1],3),\n",
    "# base = tf.keras.applications.ResNet50V2(input_shape=(img_shape[0], img_shape[1],3),\n",
    "                                       include_top=False,\n",
    "                                       weights='imagenet')\n",
    "\n",
    "# base.trainable=False\n",
    "base.trainable=True\n",
    "\n",
    "head = tf.keras.models.Sequential([\n",
    "                                 tf.keras.layers.GlobalAveragePooling2D(),\n",
    "                                 tf.keras.layers.Dense(128, activation='relu'),\n",
    "                                 tf.keras.layers.Dropout(0.5),\n",
    "                                 tf.keras.layers.Dense(128, activation='relu'),\n",
    "                                 tf.keras.layers.Dropout(0.5),\n",
    "                                 tf.keras.layers.Dense(1, activation='linear')\n",
    "\n",
    "]) \n",
    "\n",
    "model = tf.keras.models.Sequential([base,head])\n",
    "batch_size = 4\n",
    "model.compile(loss='mse', optimizer='adam') \n",
    "callback = tf.keras.callbacks.EarlyStopping(monitor='loss',patience=20)"
   ]
  },
  {
   "cell_type": "code",
   "execution_count": 4,
   "metadata": {},
   "outputs": [
    {
     "name": "stdout",
     "output_type": "stream",
     "text": [
      "Epoch 1/300\n"
     ]
    },
    {
     "name": "stderr",
     "output_type": "stream",
     "text": [
      "2021-12-02 11:36:34.783967: I tensorflow/stream_executor/platform/default/dso_loader.cc:48] Successfully opened dynamic library libcublas.so.10\n",
      "2021-12-02 11:36:34.944172: I tensorflow/stream_executor/platform/default/dso_loader.cc:48] Successfully opened dynamic library libcudnn.so.7\n",
      "2021-12-02 11:36:35.521240: W tensorflow/stream_executor/gpu/asm_compiler.cc:81] Running ptxas --version returned 256\n",
      "2021-12-02 11:36:35.572018: W tensorflow/stream_executor/gpu/redzone_allocator.cc:314] Internal: ptxas exited with non-zero error code 256, output: \n",
      "Relying on driver to perform ptx compilation. \n",
      "Modify $PATH to customize ptxas location.\n",
      "This message will be only logged once.\n"
     ]
    },
    {
     "name": "stdout",
     "output_type": "stream",
     "text": [
      " 2/54 [>.............................] - ETA: 2s - loss: 0.3156WARNING:tensorflow:Callbacks method `on_train_batch_end` is slow compared to the batch time (batch time: 0.0316s vs `on_train_batch_end` time: 0.0542s). Check your callbacks.\n",
      "54/54 [==============================] - 4s 74ms/step - loss: 0.5052\n",
      "Epoch 2/300\n",
      "54/54 [==============================] - 4s 73ms/step - loss: 0.3308\n",
      "Epoch 3/300\n",
      "54/54 [==============================] - 4s 73ms/step - loss: 0.3060\n",
      "Epoch 4/300\n",
      "54/54 [==============================] - 4s 73ms/step - loss: 0.2432\n",
      "Epoch 5/300\n",
      "54/54 [==============================] - 4s 73ms/step - loss: 0.1914\n",
      "Epoch 6/300\n",
      "54/54 [==============================] - 4s 74ms/step - loss: 0.1499\n",
      "Epoch 7/300\n",
      "54/54 [==============================] - 4s 73ms/step - loss: 0.1509\n",
      "Epoch 8/300\n",
      "54/54 [==============================] - 4s 71ms/step - loss: 0.1491\n",
      "Epoch 9/300\n",
      "54/54 [==============================] - 4s 71ms/step - loss: 0.1870\n",
      "Epoch 10/300\n",
      "54/54 [==============================] - 4s 69ms/step - loss: 0.1265\n",
      "Epoch 11/300\n",
      "54/54 [==============================] - 4s 68ms/step - loss: 0.1112\n",
      "Epoch 12/300\n",
      "54/54 [==============================] - 4s 69ms/step - loss: 0.1246\n",
      "Epoch 13/300\n",
      "54/54 [==============================] - 4s 75ms/step - loss: 0.1075\n",
      "Epoch 14/300\n",
      "54/54 [==============================] - 4s 76ms/step - loss: 0.0927\n",
      "Epoch 15/300\n",
      "54/54 [==============================] - 4s 75ms/step - loss: 0.0617\n",
      "Epoch 16/300\n",
      "54/54 [==============================] - 4s 75ms/step - loss: 0.0796\n",
      "Epoch 17/300\n",
      "54/54 [==============================] - 4s 73ms/step - loss: 0.0561\n",
      "Epoch 18/300\n",
      "54/54 [==============================] - 4s 73ms/step - loss: 0.0647\n",
      "Epoch 19/300\n",
      "54/54 [==============================] - 4s 74ms/step - loss: 0.0596\n",
      "Epoch 20/300\n",
      "54/54 [==============================] - 4s 75ms/step - loss: 0.0714\n",
      "Epoch 21/300\n",
      "54/54 [==============================] - 4s 73ms/step - loss: 0.0615\n",
      "Epoch 22/300\n",
      "54/54 [==============================] - 4s 74ms/step - loss: 0.0592\n",
      "Epoch 23/300\n",
      "54/54 [==============================] - 4s 74ms/step - loss: 0.0491\n",
      "Epoch 24/300\n",
      "54/54 [==============================] - 4s 74ms/step - loss: 0.0639\n",
      "Epoch 25/300\n",
      "54/54 [==============================] - 4s 74ms/step - loss: 0.0477\n",
      "Epoch 26/300\n",
      "54/54 [==============================] - 4s 74ms/step - loss: 0.0508\n",
      "Epoch 27/300\n",
      "54/54 [==============================] - 4s 74ms/step - loss: 0.0484\n",
      "Epoch 28/300\n",
      "54/54 [==============================] - 4s 73ms/step - loss: 0.0401\n",
      "Epoch 29/300\n",
      "54/54 [==============================] - 4s 71ms/step - loss: 0.0435\n",
      "Epoch 30/300\n",
      "54/54 [==============================] - 4s 69ms/step - loss: 0.0456\n",
      "Epoch 31/300\n",
      "54/54 [==============================] - 4s 69ms/step - loss: 0.0586\n",
      "Epoch 32/300\n",
      "54/54 [==============================] - 4s 70ms/step - loss: 0.0469\n",
      "Epoch 33/300\n",
      "54/54 [==============================] - 4s 69ms/step - loss: 0.0423\n",
      "Epoch 34/300\n",
      "54/54 [==============================] - 4s 70ms/step - loss: 0.0430\n",
      "Epoch 35/300\n",
      "54/54 [==============================] - 4s 69ms/step - loss: 0.0363\n",
      "Epoch 36/300\n",
      "54/54 [==============================] - 4s 69ms/step - loss: 0.0399\n",
      "Epoch 37/300\n",
      "54/54 [==============================] - 4s 69ms/step - loss: 0.0414\n",
      "Epoch 38/300\n",
      "54/54 [==============================] - 4s 70ms/step - loss: 0.0356\n",
      "Epoch 39/300\n",
      "54/54 [==============================] - 4s 72ms/step - loss: 0.0375\n",
      "Epoch 40/300\n",
      "54/54 [==============================] - 4s 74ms/step - loss: 0.0386\n",
      "Epoch 41/300\n",
      "54/54 [==============================] - 4s 71ms/step - loss: 0.0336\n",
      "Epoch 42/300\n",
      "54/54 [==============================] - 4s 70ms/step - loss: 0.0340\n",
      "Epoch 43/300\n",
      "54/54 [==============================] - 4s 70ms/step - loss: 0.0439\n",
      "Epoch 44/300\n",
      "54/54 [==============================] - 4s 69ms/step - loss: 0.0330\n",
      "Epoch 45/300\n",
      "54/54 [==============================] - 4s 70ms/step - loss: 0.0248\n",
      "Epoch 46/300\n",
      "54/54 [==============================] - 4s 69ms/step - loss: 0.0362\n",
      "Epoch 47/300\n",
      "54/54 [==============================] - 4s 70ms/step - loss: 0.0335\n",
      "Epoch 48/300\n",
      "54/54 [==============================] - 4s 69ms/step - loss: 0.0272\n",
      "Epoch 49/300\n",
      "54/54 [==============================] - 4s 70ms/step - loss: 0.0368\n",
      "Epoch 50/300\n",
      "54/54 [==============================] - 4s 70ms/step - loss: 0.0316\n",
      "Epoch 51/300\n",
      "54/54 [==============================] - 4s 71ms/step - loss: 0.0911\n",
      "Epoch 52/300\n",
      "54/54 [==============================] - 4s 74ms/step - loss: 0.0608\n",
      "Epoch 53/300\n",
      "54/54 [==============================] - 4s 76ms/step - loss: 0.0518\n",
      "Epoch 54/300\n",
      "54/54 [==============================] - 4s 74ms/step - loss: 0.0413\n",
      "Epoch 55/300\n",
      "54/54 [==============================] - 4s 70ms/step - loss: 0.0363\n",
      "Epoch 56/300\n",
      "54/54 [==============================] - 4s 72ms/step - loss: 0.0260\n",
      "Epoch 57/300\n",
      "54/54 [==============================] - 4s 72ms/step - loss: 0.0332\n",
      "Epoch 58/300\n",
      "54/54 [==============================] - 4s 71ms/step - loss: 0.0334\n",
      "Epoch 59/300\n",
      "54/54 [==============================] - 4s 70ms/step - loss: 0.0330\n",
      "Epoch 60/300\n",
      "54/54 [==============================] - 4s 71ms/step - loss: 0.0347\n",
      "Epoch 61/300\n",
      "54/54 [==============================] - 4s 75ms/step - loss: 0.0348\n",
      "Epoch 62/300\n",
      "54/54 [==============================] - 4s 73ms/step - loss: 0.0331\n",
      "Epoch 63/300\n",
      "54/54 [==============================] - 4s 72ms/step - loss: 0.0318\n",
      "Epoch 64/300\n",
      "54/54 [==============================] - 4s 69ms/step - loss: 0.0283\n",
      "Epoch 65/300\n",
      "54/54 [==============================] - 4s 69ms/step - loss: 0.0332\n",
      "Epoch 66/300\n",
      "54/54 [==============================] - 4s 69ms/step - loss: 0.0260\n",
      "Epoch 67/300\n",
      "54/54 [==============================] - 4s 69ms/step - loss: 0.0290\n",
      "Epoch 68/300\n",
      "54/54 [==============================] - 4s 70ms/step - loss: 0.0316\n",
      "Epoch 69/300\n",
      "54/54 [==============================] - 4s 70ms/step - loss: 0.0235\n",
      "Epoch 70/300\n",
      "54/54 [==============================] - 4s 69ms/step - loss: 0.0230\n",
      "Epoch 71/300\n",
      "54/54 [==============================] - 4s 69ms/step - loss: 0.0288\n",
      "Epoch 72/300\n",
      "54/54 [==============================] - 4s 69ms/step - loss: 0.0312\n",
      "Epoch 73/300\n",
      "54/54 [==============================] - 4s 69ms/step - loss: 0.0349\n",
      "Epoch 74/300\n",
      "54/54 [==============================] - 4s 69ms/step - loss: 0.0418\n",
      "Epoch 75/300\n",
      "54/54 [==============================] - 4s 71ms/step - loss: 0.0306\n",
      "Epoch 76/300\n",
      "54/54 [==============================] - 4s 71ms/step - loss: 0.0273\n",
      "Epoch 77/300\n",
      "54/54 [==============================] - 4s 71ms/step - loss: 0.0301\n",
      "Epoch 78/300\n",
      "54/54 [==============================] - 4s 70ms/step - loss: 0.0250\n",
      "Epoch 79/300\n",
      "54/54 [==============================] - 4s 70ms/step - loss: 0.0228\n",
      "Epoch 80/300\n",
      "54/54 [==============================] - 4s 70ms/step - loss: 0.0262\n",
      "Epoch 81/300\n",
      "54/54 [==============================] - 4s 70ms/step - loss: 0.0278\n",
      "Epoch 82/300\n",
      "54/54 [==============================] - 4s 70ms/step - loss: 0.0267\n",
      "Epoch 83/300\n",
      "54/54 [==============================] - 4s 70ms/step - loss: 0.0243\n",
      "Epoch 84/300\n",
      "54/54 [==============================] - 4s 70ms/step - loss: 0.0269\n",
      "Epoch 85/300\n",
      "54/54 [==============================] - 4s 69ms/step - loss: 0.0262\n",
      "Epoch 86/300\n",
      "54/54 [==============================] - 4s 69ms/step - loss: 0.0261\n",
      "Epoch 87/300\n",
      "54/54 [==============================] - 4s 69ms/step - loss: 0.0311\n",
      "Epoch 88/300\n",
      "54/54 [==============================] - 4s 70ms/step - loss: 0.0282\n",
      "Epoch 89/300\n",
      "54/54 [==============================] - 4s 69ms/step - loss: 0.0378\n",
      "Epoch 90/300\n",
      "54/54 [==============================] - 4s 70ms/step - loss: 0.0354\n",
      "Epoch 91/300\n",
      "54/54 [==============================] - 4s 70ms/step - loss: 0.0352\n",
      "Epoch 92/300\n",
      "54/54 [==============================] - 4s 70ms/step - loss: 0.0330\n",
      "Epoch 93/300\n",
      "54/54 [==============================] - 4s 70ms/step - loss: 0.0255\n",
      "Epoch 94/300\n",
      "54/54 [==============================] - 4s 70ms/step - loss: 0.0237\n",
      "Epoch 95/300\n",
      "54/54 [==============================] - 4s 70ms/step - loss: 0.0227\n",
      "Epoch 96/300\n",
      "54/54 [==============================] - 4s 70ms/step - loss: 0.0290\n",
      "Epoch 97/300\n",
      "54/54 [==============================] - 4s 70ms/step - loss: 0.0230\n",
      "Epoch 98/300\n",
      "54/54 [==============================] - 4s 70ms/step - loss: 0.0207\n",
      "Epoch 99/300\n",
      "54/54 [==============================] - 4s 70ms/step - loss: 0.0255\n",
      "Epoch 100/300\n",
      "54/54 [==============================] - 4s 70ms/step - loss: 0.0282\n",
      "Epoch 101/300\n",
      "54/54 [==============================] - 4s 70ms/step - loss: 0.0315\n",
      "Epoch 102/300\n",
      "54/54 [==============================] - 4s 70ms/step - loss: 0.0216\n",
      "Epoch 103/300\n",
      "54/54 [==============================] - 4s 70ms/step - loss: 0.0254\n",
      "Epoch 104/300\n",
      "54/54 [==============================] - 4s 70ms/step - loss: 0.0552\n",
      "Epoch 105/300\n",
      "54/54 [==============================] - 4s 70ms/step - loss: 0.1187\n",
      "Epoch 106/300\n",
      "54/54 [==============================] - 4s 70ms/step - loss: 0.0726\n",
      "Epoch 107/300\n",
      "54/54 [==============================] - 4s 70ms/step - loss: 0.0885\n",
      "Epoch 108/300\n",
      "54/54 [==============================] - 4s 70ms/step - loss: 0.0543\n",
      "Epoch 109/300\n",
      "54/54 [==============================] - 4s 70ms/step - loss: 0.0329\n",
      "Epoch 110/300\n",
      "54/54 [==============================] - 4s 70ms/step - loss: 0.0358\n",
      "Epoch 111/300\n",
      "54/54 [==============================] - 4s 70ms/step - loss: 0.0347\n",
      "Epoch 112/300\n",
      "54/54 [==============================] - 4s 70ms/step - loss: 0.0303\n",
      "Epoch 113/300\n",
      "54/54 [==============================] - 4s 70ms/step - loss: 0.0295\n",
      "Epoch 114/300\n",
      "54/54 [==============================] - 4s 70ms/step - loss: 0.0340\n",
      "Epoch 115/300\n",
      "54/54 [==============================] - 4s 70ms/step - loss: 0.0289\n",
      "Epoch 116/300\n",
      "54/54 [==============================] - 4s 70ms/step - loss: 0.0289\n",
      "Epoch 117/300\n",
      "54/54 [==============================] - 4s 70ms/step - loss: 0.0291\n",
      "Epoch 118/300\n",
      "54/54 [==============================] - 4s 70ms/step - loss: 0.0210\n",
      "Epoch 119/300\n",
      "54/54 [==============================] - 4s 70ms/step - loss: 0.0293\n",
      "Epoch 120/300\n",
      "54/54 [==============================] - 4s 70ms/step - loss: 0.0279\n",
      "Epoch 121/300\n",
      "54/54 [==============================] - 4s 70ms/step - loss: 0.0223\n",
      "Epoch 122/300\n",
      "54/54 [==============================] - 4s 70ms/step - loss: 0.0241\n",
      "Epoch 123/300\n",
      "54/54 [==============================] - 4s 70ms/step - loss: 0.0302\n",
      "Epoch 124/300\n",
      "54/54 [==============================] - 4s 70ms/step - loss: 0.0269\n",
      "Epoch 125/300\n",
      "54/54 [==============================] - 4s 71ms/step - loss: 0.0212\n",
      "Epoch 126/300\n",
      "54/54 [==============================] - 4s 71ms/step - loss: 0.0275\n",
      "Epoch 127/300\n",
      "54/54 [==============================] - 4s 69ms/step - loss: 0.0236\n",
      "Epoch 128/300\n",
      "54/54 [==============================] - 4s 69ms/step - loss: 0.0331\n",
      "Epoch 129/300\n",
      "54/54 [==============================] - 4s 69ms/step - loss: 0.0210\n",
      "Epoch 130/300\n",
      "54/54 [==============================] - 4s 69ms/step - loss: 0.0322\n",
      "Epoch 131/300\n",
      "54/54 [==============================] - 4s 70ms/step - loss: 0.0290\n",
      "Epoch 132/300\n",
      "54/54 [==============================] - 4s 75ms/step - loss: 0.0203\n",
      "Epoch 133/300\n",
      "54/54 [==============================] - 4s 74ms/step - loss: 0.0231\n",
      "Epoch 134/300\n",
      "54/54 [==============================] - 4s 74ms/step - loss: 0.0205\n",
      "Epoch 135/300\n",
      "54/54 [==============================] - 4s 74ms/step - loss: 0.0369\n",
      "Epoch 136/300\n",
      "54/54 [==============================] - 4s 71ms/step - loss: 0.0213\n",
      "Epoch 137/300\n",
      "54/54 [==============================] - 4s 69ms/step - loss: 0.0248\n",
      "Epoch 138/300\n",
      "54/54 [==============================] - 4s 69ms/step - loss: 0.0298\n",
      "Epoch 139/300\n",
      "54/54 [==============================] - 4s 69ms/step - loss: 0.0287\n",
      "Epoch 140/300\n",
      "54/54 [==============================] - 4s 69ms/step - loss: 0.0308\n",
      "Epoch 141/300\n",
      "54/54 [==============================] - 4s 69ms/step - loss: 0.0208\n",
      "Epoch 142/300\n",
      "54/54 [==============================] - 4s 69ms/step - loss: 0.0261\n",
      "Epoch 143/300\n",
      "54/54 [==============================] - 4s 69ms/step - loss: 0.0279\n",
      "Epoch 144/300\n",
      "54/54 [==============================] - 4s 69ms/step - loss: 0.0226\n",
      "Epoch 145/300\n",
      "54/54 [==============================] - 4s 69ms/step - loss: 0.0244\n",
      "Epoch 146/300\n",
      "54/54 [==============================] - 4s 69ms/step - loss: 0.0256\n",
      "Epoch 147/300\n",
      "54/54 [==============================] - 4s 69ms/step - loss: 0.0212\n",
      "Epoch 148/300\n",
      "54/54 [==============================] - 4s 69ms/step - loss: 0.0193\n",
      "Epoch 149/300\n",
      "54/54 [==============================] - 4s 69ms/step - loss: 0.0249\n",
      "Epoch 150/300\n",
      "54/54 [==============================] - 4s 72ms/step - loss: 0.0271\n",
      "Epoch 151/300\n",
      "54/54 [==============================] - 4s 69ms/step - loss: 0.0223\n",
      "Epoch 152/300\n",
      "54/54 [==============================] - 4s 69ms/step - loss: 0.0181\n",
      "Epoch 153/300\n",
      "54/54 [==============================] - 4s 69ms/step - loss: 0.0184\n",
      "Epoch 154/300\n",
      "54/54 [==============================] - 4s 69ms/step - loss: 0.0250\n",
      "Epoch 155/300\n",
      "54/54 [==============================] - 4s 68ms/step - loss: 0.0236\n",
      "Epoch 156/300\n",
      "54/54 [==============================] - 4s 69ms/step - loss: 0.0217\n",
      "Epoch 157/300\n",
      "54/54 [==============================] - 4s 68ms/step - loss: 0.0261\n",
      "Epoch 158/300\n",
      "54/54 [==============================] - 4s 69ms/step - loss: 0.0163\n",
      "Epoch 159/300\n",
      "54/54 [==============================] - 4s 68ms/step - loss: 0.0271\n",
      "Epoch 160/300\n",
      "54/54 [==============================] - 4s 70ms/step - loss: 0.0230\n",
      "Epoch 161/300\n",
      "54/54 [==============================] - 4s 70ms/step - loss: 0.0216\n",
      "Epoch 162/300\n",
      "54/54 [==============================] - 4s 71ms/step - loss: 0.0245\n",
      "Epoch 163/300\n",
      "54/54 [==============================] - 4s 71ms/step - loss: 0.0247\n",
      "Epoch 164/300\n",
      "54/54 [==============================] - 4s 72ms/step - loss: 0.0282\n",
      "Epoch 165/300\n",
      "54/54 [==============================] - 4s 71ms/step - loss: 0.0225\n",
      "Epoch 166/300\n",
      "54/54 [==============================] - 4s 69ms/step - loss: 0.0197\n",
      "Epoch 167/300\n",
      "54/54 [==============================] - 4s 70ms/step - loss: 0.0207\n",
      "Epoch 168/300\n",
      "54/54 [==============================] - 4s 70ms/step - loss: 0.0232\n",
      "Epoch 169/300\n",
      "54/54 [==============================] - 4s 70ms/step - loss: 0.0177\n",
      "Epoch 170/300\n",
      "54/54 [==============================] - 4s 70ms/step - loss: 0.0234\n",
      "Epoch 171/300\n",
      "54/54 [==============================] - 4s 70ms/step - loss: 0.0234\n",
      "Epoch 172/300\n",
      "54/54 [==============================] - 4s 69ms/step - loss: 0.0213\n",
      "Epoch 173/300\n",
      "54/54 [==============================] - 4s 70ms/step - loss: 0.0199\n",
      "Epoch 174/300\n",
      "54/54 [==============================] - 4s 69ms/step - loss: 0.0250\n",
      "Epoch 175/300\n",
      "54/54 [==============================] - 4s 70ms/step - loss: 0.0310\n",
      "Epoch 176/300\n",
      "54/54 [==============================] - 4s 69ms/step - loss: 0.0295\n",
      "Epoch 177/300\n",
      "54/54 [==============================] - 4s 70ms/step - loss: 0.0269\n",
      "Epoch 178/300\n",
      "54/54 [==============================] - 4s 70ms/step - loss: 0.0274\n",
      "Epoch 179/300\n",
      "54/54 [==============================] - 4s 69ms/step - loss: 0.0487\n",
      "Epoch 180/300\n",
      "54/54 [==============================] - 4s 69ms/step - loss: 0.1534\n",
      "Epoch 181/300\n",
      "54/54 [==============================] - 4s 70ms/step - loss: 0.0840\n",
      "Epoch 182/300\n",
      "54/54 [==============================] - 4s 70ms/step - loss: 0.0719\n",
      "Epoch 183/300\n",
      "54/54 [==============================] - 4s 70ms/step - loss: 0.0490\n",
      "Epoch 184/300\n",
      "54/54 [==============================] - 4s 69ms/step - loss: 0.0348\n",
      "Epoch 185/300\n",
      "54/54 [==============================] - 4s 70ms/step - loss: 0.0241\n",
      "Epoch 186/300\n",
      "54/54 [==============================] - 4s 70ms/step - loss: 0.0327\n",
      "Epoch 187/300\n",
      "54/54 [==============================] - 4s 70ms/step - loss: 0.0271\n",
      "Epoch 188/300\n",
      "54/54 [==============================] - 4s 69ms/step - loss: 0.0236\n",
      "Epoch 189/300\n",
      "54/54 [==============================] - 4s 70ms/step - loss: 0.0290\n",
      "Epoch 190/300\n",
      "54/54 [==============================] - 4s 70ms/step - loss: 0.0243\n",
      "Epoch 191/300\n",
      "54/54 [==============================] - 4s 70ms/step - loss: 0.0229\n",
      "Epoch 192/300\n",
      "54/54 [==============================] - 4s 69ms/step - loss: 0.0244\n",
      "Epoch 193/300\n",
      "54/54 [==============================] - 4s 69ms/step - loss: 0.0238\n",
      "Epoch 194/300\n",
      "54/54 [==============================] - 4s 70ms/step - loss: 0.0250\n",
      "Epoch 195/300\n",
      "54/54 [==============================] - 4s 70ms/step - loss: 0.0219\n",
      "Epoch 196/300\n",
      "54/54 [==============================] - 4s 70ms/step - loss: 0.0189\n",
      "Epoch 197/300\n",
      "54/54 [==============================] - 4s 70ms/step - loss: 0.0217\n",
      "Epoch 198/300\n",
      "54/54 [==============================] - 4s 70ms/step - loss: 0.0240\n",
      "Epoch 199/300\n",
      "54/54 [==============================] - 4s 70ms/step - loss: 0.0187\n",
      "Epoch 200/300\n",
      "54/54 [==============================] - 4s 71ms/step - loss: 0.0202\n",
      "Epoch 201/300\n",
      "54/54 [==============================] - 4s 69ms/step - loss: 0.0228\n",
      "Epoch 202/300\n",
      "54/54 [==============================] - 4s 70ms/step - loss: 0.0229\n",
      "Epoch 203/300\n",
      "54/54 [==============================] - 4s 70ms/step - loss: 0.0290\n",
      "Epoch 204/300\n",
      "54/54 [==============================] - 4s 70ms/step - loss: 0.0257\n",
      "Epoch 205/300\n",
      "54/54 [==============================] - 4s 70ms/step - loss: 0.0191\n",
      "Epoch 206/300\n",
      "54/54 [==============================] - 4s 70ms/step - loss: 0.0179\n",
      "Epoch 207/300\n",
      "54/54 [==============================] - 4s 69ms/step - loss: 0.0221\n",
      "Epoch 208/300\n",
      "54/54 [==============================] - 4s 70ms/step - loss: 0.0157\n",
      "Epoch 209/300\n",
      "54/54 [==============================] - 4s 70ms/step - loss: 0.0213\n",
      "Epoch 210/300\n",
      "54/54 [==============================] - 4s 70ms/step - loss: 0.0205\n",
      "Epoch 211/300\n",
      "54/54 [==============================] - 4s 72ms/step - loss: 0.0199\n",
      "Epoch 212/300\n",
      "54/54 [==============================] - 4s 69ms/step - loss: 0.0200\n",
      "Epoch 213/300\n",
      "54/54 [==============================] - 4s 69ms/step - loss: 0.0172\n",
      "Epoch 214/300\n",
      "54/54 [==============================] - 4s 69ms/step - loss: 0.0186\n",
      "Epoch 215/300\n",
      "54/54 [==============================] - 4s 73ms/step - loss: 0.0222\n",
      "Epoch 216/300\n",
      "54/54 [==============================] - 4s 75ms/step - loss: 0.0151\n",
      "Epoch 217/300\n",
      "29/54 [===============>..............] - ETA: 1s - loss: 0.0147"
     ]
    }
   ],
   "source": [
    " model.compile(loss='mse', optimizer='adam') \n",
    " callback = tf.keras.callbacks.EarlyStopping(monitor='loss',patience=50)\n",
    " history = model.fit(x_data, y_data, batch_size, epochs=300, callbacks=callback)"
   ]
  },
  {
   "cell_type": "code",
   "execution_count": 8,
   "metadata": {},
   "outputs": [],
   "source": [
    "a=0"
   ]
  },
  {
   "cell_type": "markdown",
   "metadata": {},
   "source": [
    "# Delete and Earn"
   ]
  },
  {
   "cell_type": "code",
   "execution_count": 38,
   "metadata": {},
   "outputs": [
    {
     "data": {
      "text/plain": [
       "6"
      ]
     },
     "execution_count": 38,
     "metadata": {},
     "output_type": "execute_result"
    }
   ],
   "source": [
    "class Solution(object):\n",
    "    def dae(self,nums):\n",
    "        if len(nums)==1:return nums[0]\n",
    "        cnt = [0]*(max(nums)+1)\n",
    "        for num in nums:\n",
    "            cnt[num] += 1\n",
    "        one, two = cnt[0]*0, cnt[1]*1\n",
    "        for i in range(2,len(cnt)):\n",
    "            current = max(one+cnt[i]*i,two)\n",
    "            one = two\n",
    "            two = current\n",
    "        return current\n",
    "\n",
    "nums = [1, 3, 4, 2, 4]\n",
    "nums = [2, 2, 3, 3, 3, 4]\n",
    "nums = [3, 4, 2]\n",
    "sol = Solution()\n",
    "sol.dae(nums)"
   ]
  },
  {
   "cell_type": "code",
   "execution_count": 35,
   "metadata": {},
   "outputs": [
    {
     "data": {
      "text/plain": [
       "10"
      ]
     },
     "execution_count": 35,
     "metadata": {},
     "output_type": "execute_result"
    }
   ],
   "source": [
    "class Solution:\n",
    "    def deleteAndEarn(self, nums):\n",
    "        if len(nums)==1:return nums[0]\n",
    "        cnt=[0]*(max(nums)+1)\n",
    "        for i in nums:\n",
    "            cnt[i]+=i\n",
    "        # one,two=cnt[0],max(cnt[0],cnt[1])\n",
    "        one,two=cnt[0],cnt[1]\n",
    "        for i in range(2,len(cnt)):\n",
    "            cur_max_value=max(two,one+cnt[i])\n",
    "            one=two\n",
    "            two=cur_max_value\n",
    "        return two\n",
    "nums = [3, 5, 2]\n",
    "# nums = [2, 2, 3, 3, 3, 4]\n",
    "nums = [1, 3, 4, 2, 4]\n",
    "sol = Solution()\n",
    "sol.deleteAndEarn(nums)"
   ]
  },
  {
   "cell_type": "markdown",
   "metadata": {},
   "source": [
    "# Wiggle Subsequence"
   ]
  },
  {
   "cell_type": "code",
   "execution_count": 49,
   "metadata": {},
   "outputs": [
    {
     "data": {
      "text/plain": [
       "7"
      ]
     },
     "execution_count": 49,
     "metadata": {},
     "output_type": "execute_result"
    }
   ],
   "source": [
    "class Solution(object):\n",
    "    def ws(self,nums):\n",
    "        if len(nums) <= 1:\n",
    "            return len(nums)\n",
    "        last = nums[1] - nums[0]\n",
    "        wiggle = 2\n",
    "        for i in range(2,len(nums)):\n",
    "            if (nums[i] - nums[i-1]) * last < 1:\n",
    "                wiggle += 1\n",
    "            last = nums[i] - nums[i-1]\n",
    "        return wiggle\n",
    "\n",
    "# nums = [1, 3, 4, 2, 4]\n",
    "# nums = [2, 2, 3, 3, 3, 4]\n",
    "nums = [1, 7, 4, 9, 2, 6]\n",
    "nums = [1,2,3,4,5,6,7,8,9]\n",
    "nums = [1,2,3,4,5,6,7,8,9]\n",
    "nums = [1,2]\n",
    "nums = [1,17,5,10,13,15,10,5,16,8]\n",
    "sol = Solution()\n",
    "sol.ws(nums)"
   ]
  },
  {
   "cell_type": "markdown",
   "metadata": {},
   "source": [
    "# Build String"
   ]
  },
  {
   "cell_type": "code",
   "execution_count": 60,
   "metadata": {},
   "outputs": [
    {
     "name": "stdout",
     "output_type": "stream",
     "text": [
      "d\n",
      "do\n",
      "dog\n",
      "dogc\n",
      "dogca\n",
      "dogcat\n",
      "o\n",
      "og\n",
      "ogc\n",
      "ogca\n",
      "ogcat\n",
      "g\n",
      "gc\n",
      "gca\n",
      "gcat\n",
      "c\n",
      "ca\n",
      "cat\n",
      "a\n",
      "at\n",
      "t\n"
     ]
    },
    {
     "data": {
      "text/plain": [
       "[1, 0, 1, 1, 0, 0, 1]"
      ]
     },
     "execution_count": 60,
     "metadata": {},
     "output_type": "execute_result"
    }
   ],
   "source": [
    "class Solution(object):\n",
    "    def bs(self,s,wordDict):\n",
    "        d = [0]*(len(s)+1)\n",
    "        d[0] = 1\n",
    "        for i in range(1,len(s)+1):\n",
    "            for j in range(i,len(s)+1):\n",
    "                # print(i,j)\n",
    "                # print(s[i-1:j])\n",
    "                if s[i-1:j] in wordDict and d[i-1]==1:\n",
    "                    d[j] = 1\n",
    "        return d[-1]\n",
    "\n",
    "s = \"dogcat\"\n",
    "wordDict = [\"do\",\"dog\",\"cat\"]\n",
    "sol = Solution()\n",
    "sol.bs(s,wordDict)"
   ]
  },
  {
   "cell_type": "markdown",
   "metadata": {},
   "source": [
    "# Bulls and Cows"
   ]
  },
  {
   "cell_type": "code",
   "execution_count": 95,
   "metadata": {},
   "outputs": [
    {
     "name": "stdout",
     "output_type": "stream",
     "text": [
      "{'7': 1, '1': 1, '0': 1} {'1': 1, '0': 1, '7': 1}\n",
      "1\n",
      "2\n",
      "3\n"
     ]
    },
    {
     "data": {
      "text/plain": [
       "'1A3B'"
      ]
     },
     "execution_count": 95,
     "metadata": {},
     "output_type": "execute_result"
    }
   ],
   "source": [
    "class Solution(object):\n",
    "    def bac(self,s,g):\n",
    "        A = 0\n",
    "        B = 0\n",
    "        gDict = {}\n",
    "        sDict = {}\n",
    "        for i in range(len(s)):\n",
    "            if g[i] == s[i]:\n",
    "                A+=1\n",
    "            else:\n",
    "                if g[i] in s:\n",
    "                    gDict[g[i]] = gDict.get(g[i],0) + 1\n",
    "                sDict[s[i]] = sDict.get(s[i],0) + 1\n",
    "        print(gDict,sDict)\n",
    "        for key in gDict.keys():\n",
    "            B += min(sDict[key],gDict[key])\n",
    "            # print(B)\n",
    "        return str(A)+\"A\"+str(B)+\"B\"\n",
    "\n",
    "s = \"1807\"\n",
    "g = \"7810\"\n",
    "# s = \"1123\"\n",
    "# g = \"0111\"\n",
    "sol = Solution()\n",
    "sol.bac(s,g)"
   ]
  },
  {
   "cell_type": "markdown",
   "metadata": {},
   "source": [
    "# Decode String"
   ]
  },
  {
   "cell_type": "markdown",
   "metadata": {},
   "source": [
    "Given an encoded string, return it's decoded string.\n",
    "\n",
    "The encoding rule is: k[encoded_string], where the encoded_string inside the square brackets is being repeated exactly k times. Note that k is guaranteed to be a positive integer.\n",
    "\n",
    "You may assume that the input string is always valid; No extra white spaces, square brackets are well-formed, etc.\n",
    "\n",
    "Furthermore, you may assume that the original data does not contain any digits and that digits are only for those repeat numbers, k. For example, there won't be input like 3a or 2[4].\n",
    "\n",
    "Examples:\n",
    "\n",
    "s = \"3[a]2[bc]\", return \"aaabcbc\".\n",
    "s = \"3[a2[c]]\", return \"accaccacc\".\n",
    "s = \"2[abc]3[cd]ef\", return \"abcabccdcdcdef\".\n",
    "\n",
    "Constraints:\n",
    "\n",
    "1 <= s.length <= 30\n",
    "s consists of lowercase English letters, digits, and square brackets '[]'.\n",
    "s is guaranteed to be a valid input.\n",
    "All the integers in s are in the range [1, 300]."
   ]
  },
  {
   "cell_type": "code",
   "execution_count": 170,
   "metadata": {},
   "outputs": [
    {
     "data": {
      "text/plain": [
       "'aaabcbc'"
      ]
     },
     "execution_count": 170,
     "metadata": {},
     "output_type": "execute_result"
    }
   ],
   "source": [
    "class Solution(object):\n",
    "    def ds(self,s):\n",
    "        if not \"[\" in s:\n",
    "            return s\n",
    "        text = \"\"\n",
    "        for i in range(s.index(\"]\")-1,-1,-1):\n",
    "            if (len(text) != 0 and not s[i].isdigit()) or i == 0:\n",
    "                if i == 0:\n",
    "                    num = s[i:s.index(\"[\")]\n",
    "                    s = text*int(num) + s[s.index(\"]\")+1:]\n",
    "                    return self.ds(s)\n",
    "                else:\n",
    "                    num = s[i+1:s.index(\"]\")-len(text)-1]\n",
    "                    s = s[:i+1] + text*int(num) + s[s.index(\"]\")+1:]\n",
    "                    return self.ds(s)\n",
    "            if s[i] == \"[\":\n",
    "                text += s[i+1:s.index(\"]\")]\n",
    "\n",
    "s = \"3[a]2[bc]\"\n",
    "# s = \"3[a2[c]]\"\n",
    "# s = \"2[abc]3[cd]ef\"\n",
    "\n",
    "sol = Solution()\n",
    "sol.ds(s)"
   ]
  },
  {
   "cell_type": "code",
   "execution_count": 119,
   "metadata": {},
   "outputs": [],
   "source": [
    "s = \"2x1\"\n",
    "# s.replace(\"1\",\"22\")"
   ]
  },
  {
   "cell_type": "code",
   "execution_count": 129,
   "metadata": {},
   "outputs": [
    {
     "data": {
      "text/plain": [
       "'3'"
      ]
     },
     "execution_count": 129,
     "metadata": {},
     "output_type": "execute_result"
    }
   ],
   "source": [
    "s[0:s.index(\"[\")]"
   ]
  },
  {
   "cell_type": "code",
   "execution_count": 134,
   "metadata": {},
   "outputs": [
    {
     "data": {
      "text/plain": [
       "''"
      ]
     },
     "execution_count": 134,
     "metadata": {},
     "output_type": "execute_result"
    }
   ],
   "source": [
    "s[2+1:s.index(\"[\")]"
   ]
  },
  {
   "cell_type": "code",
   "execution_count": 133,
   "metadata": {},
   "outputs": [
    {
     "data": {
      "text/plain": [
       "3"
      ]
     },
     "execution_count": 133,
     "metadata": {},
     "output_type": "execute_result"
    }
   ],
   "source": [
    "int('3')"
   ]
  },
  {
   "cell_type": "markdown",
   "metadata": {},
   "source": [
    "# Test\n",
    "Reverse String"
   ]
  },
  {
   "cell_type": "markdown",
   "metadata": {},
   "source": [
    "Write a function that reverses a string. The input string is given as an array of characters s.\n",
    "\n",
    "You must do this by modifying the input array in-place with O(1) extra memory.\n",
    "\n",
    " \n",
    "\n",
    "Example 1:\n",
    "\n",
    "Input: s = [\"h\",\"e\",\"l\",\"l\",\"o\"]\n",
    "Output: [\"o\",\"l\",\"l\",\"e\",\"h\"]\n",
    "\n",
    "Example 2:\n",
    "\n",
    "Input: s = [\"H\",\"a\",\"n\",\"n\",\"a\",\"h\"]\n",
    "Output: [\"h\",\"a\",\"n\",\"n\",\"a\",\"H\"]\n",
    " \n",
    "\n",
    "Constraints:\n",
    "\n",
    "1 <= s.length <= 105\n",
    "s[i] is a printable ascii character."
   ]
  },
  {
   "cell_type": "code",
   "execution_count": 211,
   "metadata": {},
   "outputs": [
    {
     "data": {
      "text/plain": [
       "['o', 'l', 'l', 'e', 'h']"
      ]
     },
     "execution_count": 211,
     "metadata": {},
     "output_type": "execute_result"
    }
   ],
   "source": [
    "class Solution(object):\n",
    "    def rv(self,s):\n",
    "        return s[len(s)::-1]\n",
    "\n",
    "s = [\"h\",\"e\",\"l\",\"l\",\"o\"]\n",
    "# s = [\"H\",\"a\",\"n\",\"n\",\"a\",\"h\"]\n",
    "\n",
    "sol = Solution()\n",
    "sol.rv(s)"
   ]
  },
  {
   "cell_type": "code",
   "execution_count": 198,
   "metadata": {},
   "outputs": [
    {
     "name": "stdout",
     "output_type": "stream",
     "text": [
      "['H', 'a', 'n', 'n', 'a', 'h']\n"
     ]
    }
   ],
   "source": [
    "s.reverse()\n",
    "print(s)"
   ]
  },
  {
   "cell_type": "code",
   "execution_count": 209,
   "metadata": {},
   "outputs": [
    {
     "data": {
      "text/plain": [
       "['h', 'a', 'n', 'n', 'a', 'H']"
      ]
     },
     "execution_count": 209,
     "metadata": {},
     "output_type": "execute_result"
    }
   ],
   "source": [
    "s[6::-1]"
   ]
  },
  {
   "cell_type": "markdown",
   "metadata": {},
   "source": [
    "# Test\n",
    "Ransom Note"
   ]
  },
  {
   "cell_type": "markdown",
   "metadata": {},
   "source": [
    "Given two stings ransomNote and magazine, return true if ransomNote can be constructed from magazine and false otherwise.\n",
    "\n",
    "Each letter in magazine can only be used once in ransomNote.\n",
    "\n",
    " \n",
    "\n",
    "Example 1:\n",
    "\n",
    "Input: ransomNote = \"a\", magazine = \"b\"\n",
    "Output: false\n",
    "\n",
    "Example 2:\n",
    "\n",
    "Input: ransomNote = \"aa\", magazine = \"ab\"\n",
    "Output: false\n",
    "\n",
    "Example 3:\n",
    "\n",
    "Input: ransomNote = \"aa\", magazine = \"aab\"\n",
    "Output: true\n",
    " \n",
    "\n",
    "Constraints:\n",
    "\n",
    "1 <= ransomNote.length, magazine.length <= 105\n",
    "ransomNote and magazine consist of lowercase English letters."
   ]
  },
  {
   "cell_type": "code",
   "execution_count": 1,
   "metadata": {},
   "outputs": [
    {
     "data": {
      "text/plain": [
       "True"
      ]
     },
     "execution_count": 1,
     "metadata": {},
     "output_type": "execute_result"
    }
   ],
   "source": [
    "class Solution(object):\n",
    "    def rn(self,ransomNote,magazine):\n",
    "        for ch in set(ransomNote):\n",
    "            if ransomNote.count(ch) > magazine.count(ch):return False\n",
    "        return True\n",
    "\n",
    "ransomNote = \"aa\"\n",
    "magazine = \"aba\"\n",
    "\n",
    "# ransomNote = \"aa\"\n",
    "# magazine = \"ab\"\n",
    "\n",
    "# ransomNote = \"a\"\n",
    "# magazine = \"b\"\n",
    "\n",
    "sol = Solution()\n",
    "sol.rn(ransomNote,magazine)"
   ]
  },
  {
   "cell_type": "markdown",
   "metadata": {},
   "source": [
    "# Test\n",
    "Majority Element II"
   ]
  },
  {
   "cell_type": "markdown",
   "metadata": {},
   "source": [
    "Given an integer array of size n, find all elements that appear more than ⌊ n/3 ⌋ times.\n",
    "\n",
    " \n",
    "\n",
    "Example 1:\n",
    "\n",
    "Input: nums = [3,2,3]\n",
    "Output: [3]\n",
    "\n",
    "Example 2:\n",
    "\n",
    "Input: nums = [1]\n",
    "Output: [1]\n",
    "\n",
    "Example 3:\n",
    "\n",
    "Input: nums = [1,2]\n",
    "Output: [1,2]\n",
    " \n",
    "\n",
    "Constraints:\n",
    "\n",
    "1 <= nums.length <= 5 * 104\n",
    "-109 <= nums[i] <= 109\n",
    " \n",
    "\n",
    "Follow up: Could you solve the problem in linear time and in O(1) space?"
   ]
  },
  {
   "cell_type": "code",
   "execution_count": 19,
   "metadata": {},
   "outputs": [
    {
     "data": {
      "text/plain": [
       "[]"
      ]
     },
     "execution_count": 19,
     "metadata": {},
     "output_type": "execute_result"
    }
   ],
   "source": [
    "# class Solution(object):\n",
    "#     def me(self,nums):\n",
    "#         numDict = {}\n",
    "#         out = []\n",
    "#         for num in nums:\n",
    "#             numDict[num] = numDict.get(num,0) + 1\n",
    "#         for num in numDict.keys():\n",
    "#             if numDict[num] > len(nums)/3:\n",
    "#                 out.append(num)\n",
    "#         return out\n",
    "\n",
    "class Solution(object):\n",
    "    def me(self,nums):\n",
    "        out = []\n",
    "        for num in set(nums):\n",
    "            if nums.count(num) > len(nums)/3:\n",
    "                out.append(num)\n",
    "        return out\n",
    "\n",
    "    def majorityElement(self, nums):\n",
    "        if not nums:\n",
    "            return []\n",
    "        count1, count2, candidate1, candidate2 = 0, 0, 0, 1\n",
    "        for n in nums:\n",
    "            if n == candidate1:\n",
    "                count1 += 1\n",
    "            elif n == candidate2:\n",
    "                count2 += 1\n",
    "            elif count1 == 0:\n",
    "                candidate1, count1 = n, 1\n",
    "            elif count2 == 0:\n",
    "                candidate2, count2 = n, 1\n",
    "            else:\n",
    "                count1, count2 = count1 - 1, count2 - 1\n",
    "        print(count1, count2, candidate1, candidate2)\n",
    "        return [n for n in (candidate1, candidate2) if nums.count(n) > len(nums) // 3]\n",
    "\n",
    "    def majorityElement1(self, nums):\n",
    "        if not nums:\n",
    "            return []\n",
    "        count, candidate = 0, 0\n",
    "        for n in nums:\n",
    "            if n == candidate:\n",
    "                count += 1\n",
    "            elif count == 0:\n",
    "                candidate, count = n, 1\n",
    "            else:\n",
    "                count = count - 1\n",
    "        print(count, candidate)\n",
    "        return [n for n in [candidate] if nums.count(n) > len(nums) // 2]\n",
    "\n",
    "# nums = [3,2,3]*10000000\n",
    "# nums = [1]\n",
    "nums = [2,2,2,2,2,2,2,2,2,2,2,1,1,1,1,1,1,1,1,1,1,1,88,2,3,77,4,5,6,7,8,9,10,11,12,33,44]*1000000\n",
    "# nums = [2,2,2,2,2,2,2,2,2,2,2,2,2,2,2,2,88,2,5,6,7,8,9,10,11,12,33,44]*1000000\n",
    "\n",
    "sol = Solution()\n",
    "# sol.me(nums)\n",
    "sol.majorityElement(nums)\n",
    "# sol.majorityElement1(nums)"
   ]
  },
  {
   "cell_type": "markdown",
   "metadata": {},
   "source": [
    "# Test\n",
    "Target Sum"
   ]
  },
  {
   "cell_type": "markdown",
   "metadata": {},
   "source": [
    "You are given an integer array nums and an integer target.\n",
    "\n",
    "You want to build an expression out of nums by adding one of the symbols '+' and '-' before each integer in nums and then concatenate all the integers.\n",
    "\n",
    "For example, if nums = [2, 1], you can add a '+' before 2 and a '-' before 1 and concatenate them to build the expression \"+2-1\".\n",
    "Return the number of different expressions that you can build, which evaluates to target.\n",
    "\n",
    " \n",
    "\n",
    "Example 1:\n",
    "\n",
    "Input: nums = [1,1,1,1,1], target = 3\n",
    "Output: 5\n",
    "Explanation: There are 5 ways to assign symbols to make the sum of nums be target 3.\n",
    "-1 + 1 + 1 + 1 + 1 = 3\n",
    "+1 - 1 + 1 + 1 + 1 = 3\n",
    "+1 + 1 - 1 + 1 + 1 = 3\n",
    "+1 + 1 + 1 - 1 + 1 = 3\n",
    "+1 + 1 + 1 + 1 - 1 = 3\n",
    "Example 2:\n",
    "\n",
    "Input: nums = [1], target = 1\n",
    "Output: 1\n",
    " \n",
    "\n",
    "Constraints:\n",
    "\n",
    "1 <= nums.length <= 20\n",
    "0 <= nums[i] <= 1000\n",
    "0 <= sum(nums[i]) <= 1000\n",
    "-1000 <= target <= 1000"
   ]
  },
  {
   "cell_type": "code",
   "execution_count": 30,
   "metadata": {},
   "outputs": [
    {
     "data": {
      "text/plain": [
       "6738"
      ]
     },
     "execution_count": 30,
     "metadata": {},
     "output_type": "execute_result"
    }
   ],
   "source": [
    "class Solution(object):\n",
    "    # def ts(self,nums,target):\n",
    "    #     # dic = {}\n",
    "    #     # def add(num,sum):\n",
    "    #     #     if (num,sum) not in dic:\n",
    "    #     #         if num == 0:\n",
    "    #     #             if sum == target:return 1\n",
    "    #     #             else:return 0\n",
    "    #     #         dic[(num,sum)] = add(num-1,sum+nums[num-1])+add(num-1,sum-nums[num-1])\n",
    "    #     #         return dic[(num,sum)]\n",
    "    #     #     else:return dic[(num,sum)]\n",
    "    #     # return add(len(nums),0)\n",
    "\n",
    "    #     dp = [0]\n",
    "    #     for i in range(1,len(nums)+1):\n",
    "    #         tmp = []\n",
    "    #         for j in range(len(dp)):\n",
    "    #             tmp += [dp[j] + nums[i-1]]\n",
    "    #             tmp += [dp[j] - nums[i-1]]\n",
    "    #         if i < len(nums):\n",
    "    #             dp = tmp\n",
    "    #     return tmp.count(target)\n",
    "\n",
    "    # def ts(self, nums, S):\n",
    "    #     index = len(nums) - 1\n",
    "    #     curr_sum = 0\n",
    "    #     return self.dp(nums, S, index, curr_sum)\n",
    "\n",
    "    def ts(self, nums, S):\n",
    "        dic = {}\n",
    "        def dp(index,sum):\n",
    "            if index == len(nums):\n",
    "                if sum == S:return 1\n",
    "                else:return 0\n",
    "            if (index,sum) not in dic:\n",
    "                dic[(index,sum)] = dp(index+1,sum+nums[index]) + dp(index+1,sum-nums[index])\n",
    "                return dic[(index,sum)]\n",
    "            else:return dic[(index,sum)]\n",
    "        return dp(0,0)\n",
    "# nums = [1,1,1,1,1]\n",
    "# target = 3\n",
    "# nums = [1]\n",
    "\n",
    "# target = 1\n",
    "nums = [6,20,22,38,11,15,22,30,0,17,34,29,7,42,46,49,30,7,14,5]\n",
    "target = 28\n",
    "sol = Solution()\n",
    "sol.ts(nums,target)"
   ]
  },
  {
   "cell_type": "code",
   "execution_count": 34,
   "metadata": {},
   "outputs": [
    {
     "data": {
      "text/plain": [
       "True"
      ]
     },
     "execution_count": 34,
     "metadata": {},
     "output_type": "execute_result"
    }
   ],
   "source": [
    "a = {(1,23):23,23:4}\n",
    "(1,23) in a"
   ]
  },
  {
   "cell_type": "code",
   "execution_count": 17,
   "metadata": {},
   "outputs": [
    {
     "data": {
      "text/plain": [
       "23"
      ]
     },
     "execution_count": 17,
     "metadata": {},
     "output_type": "execute_result"
    }
   ],
   "source": [
    "a[1]"
   ]
  },
  {
   "cell_type": "markdown",
   "metadata": {},
   "source": [
    "# Test\n",
    "Multi Thread"
   ]
  },
  {
   "cell_type": "code",
   "execution_count": 33,
   "metadata": {},
   "outputs": [
    {
     "name": "stdout",
     "output_type": "stream",
     "text": [
      "Child thread:0\n",
      "Main thread:0\n",
      "Child thread:1\n",
      "Main thread:1\n",
      "Child thread:2\n",
      "Main thread:2\n",
      "Child thread:3\n",
      "Child thread:4\n",
      "Done.\n"
     ]
    }
   ],
   "source": [
    "import threading\n",
    "import time\n",
    "\n",
    "# 子執行緒的工作函數\n",
    "def job():\n",
    "  for i in range(5):\n",
    "    print(\"Child thread:\" + str(i))\n",
    "    time.sleep(1)\n",
    "\n",
    "# 建立一個子執行緒\n",
    "t = threading.Thread(target = job)\n",
    "\n",
    "# 執行該子執行緒\n",
    "t.start()\n",
    "\n",
    "# 主執行緒繼續執行自己的工作\n",
    "for i in range(3):\n",
    "  print(\"Main thread:\" + str(i))\n",
    "  time.sleep(1)\n",
    "\n",
    "# 等待 t 這個子執行緒結束\n",
    "t.join()\n",
    "\n",
    "print(\"Done.\")"
   ]
  },
  {
   "cell_type": "markdown",
   "metadata": {},
   "source": [
    "# Test\n",
    "Arithmetic Slices"
   ]
  },
  {
   "cell_type": "markdown",
   "metadata": {},
   "source": [
    "An integer array is called arithmetic if it consists of at least three elements and if the difference between any two consecutive elements is the same.\n",
    "\n",
    "For example, [1,3,5,7,9], [7,7,7,7], and [3,-1,-5,-9] are arithmetic sequences.\n",
    "Given an integer array nums, return the number of arithmetic subarrays of nums.\n",
    "\n",
    "A subarray is a contiguous subsequence of the array.\n",
    "\n",
    " \n",
    "\n",
    "Example 1:\n",
    "\n",
    "Input: nums = [1,2,3,4]\n",
    "Output: 3\n",
    "Explanation: We have 3 arithmetic slices in nums: [1, 2, 3], [2, 3, 4] and [1,2,3,4] itself.\n",
    "Example 2:\n",
    "\n",
    "Input: nums = [1]\n",
    "Output: 0\n",
    " \n",
    "\n",
    "Constraints:\n",
    "\n",
    "1 <= nums.length <= 5000\n",
    "-1000 <= nums[i] <= 1000"
   ]
  },
  {
   "cell_type": "code",
   "execution_count": 119,
   "metadata": {},
   "outputs": [
    {
     "name": "stdout",
     "output_type": "stream",
     "text": [
      "[1, 2, 3]\n",
      "[1, 2, 3, 4]\n",
      "[2, 3, 4]\n",
      "[1, 2, 3, 4, 5]\n",
      "[2, 3, 4, 5]\n",
      "[3, 4, 5]\n"
     ]
    },
    {
     "data": {
      "text/plain": [
       "6"
      ]
     },
     "execution_count": 119,
     "metadata": {},
     "output_type": "execute_result"
    }
   ],
   "source": [
    "class Solution(object):\n",
    "    def ars(self,nums):\n",
    "        def ds(sub,index):\n",
    "            d = sub[1]-sub[0]\n",
    "            for i in range(1,len(sub)):\n",
    "                if d != sub[i]-sub[i-1]:\n",
    "                    return 0\n",
    "                if i == len(sub)-1:\n",
    "                    return 1\n",
    "        out = 0\n",
    "        for j in range(len(nums)-2):\n",
    "            for k in range(j+3,len(nums)+1):\n",
    "                out += ds(nums[j:k],j)\n",
    "        return out\n",
    "\n",
    "    def ars(self,nums):\n",
    "        if len(nums) < 3:\n",
    "            return 0\n",
    "        dp = [0]*len(nums)\n",
    "        dp[1] = nums[1]-nums[0]\n",
    "        out = 0\n",
    "        for i in range(2,len(nums)):\n",
    "            dp[i] = nums[i]-nums[i-1]\n",
    "            for j in range(1,i):\n",
    "                # print(j,i)\n",
    "                if len(set(dp[j:i+1])) == 1:\n",
    "                    print(nums[j-1:i+1])\n",
    "                    out += 1\n",
    "        # print(dp)\n",
    "        return out\n",
    "\n",
    "\n",
    "nums = [1,2,3,4,5]\n",
    "# nums = [3,-1,-5,-9]\n",
    "# nums = [1]\n",
    "sol = Solution()\n",
    "sol.ars(nums)"
   ]
  },
  {
   "cell_type": "code",
   "execution_count": 125,
   "metadata": {},
   "outputs": [
    {
     "data": {
      "text/plain": [
       "15"
      ]
     },
     "execution_count": 125,
     "metadata": {},
     "output_type": "execute_result"
    }
   ],
   "source": [
    "class Solution:\n",
    "    def numberOfArithmeticSlices(self, nums):\n",
    "        n = len(nums)\n",
    "        dp, dpPrev = 0, 0\n",
    "        ans = 0\n",
    "        for i in range(2, n):\n",
    "            if nums[i-1] - nums[i-2] == nums[i] - nums[i-1]:\n",
    "                dp = dpPrev + 1\n",
    "            ans += dp\n",
    "            dpPrev = dp\n",
    "            dp = 0\n",
    "        return ans\n",
    "nums = [1,2,3,4,5,6,7]\n",
    "sol = Solution()\n",
    "sol.numberOfArithmeticSlices(nums)"
   ]
  },
  {
   "cell_type": "code",
   "execution_count": null,
   "metadata": {},
   "outputs": [],
   "source": []
  },
  {
   "cell_type": "markdown",
   "metadata": {},
   "source": [
    "# Test\n",
    "Maximum Length of Pair Chain"
   ]
  },
  {
   "cell_type": "markdown",
   "metadata": {},
   "source": [
    "You are given an array of n pairs pairs where pairs[i] = [lefti, righti] and lefti < righti.\n",
    "\n",
    "A pair p2 = [c, d] follows a pair p1 = [a, b] if b < c. A chain of pairs can be formed in this fashion.\n",
    "\n",
    "Return the length longest chain which can be formed.\n",
    "\n",
    "You do not need to use up all the given intervals. You can select pairs in any order.\n",
    "\n",
    " \n",
    "\n",
    "Example 1:\n",
    "\n",
    "Input: pairs = [[1,2],[2,3],[3,4]]\n",
    "\n",
    "Output: 2\n",
    "\n",
    "Explanation: The longest chain is [1,2] -> [3,4].\n",
    "\n",
    "\n",
    "Example 2:\n",
    "\n",
    "Input: pairs = [[1,2],[7,8],[4,5]]\n",
    "\n",
    "Output: 3\n",
    "\n",
    "Explanation: The longest chain is [1,2] -> [4,5] -> [7,8].\n",
    " \n",
    "\n",
    "Constraints:\n",
    "\n",
    "n == pairs.length\n",
    "\n",
    "1 <= n <= 1000\n",
    "\n",
    "-1000 <= lefti < righti <= 1000"
   ]
  },
  {
   "cell_type": "code",
   "execution_count": 44,
   "metadata": {},
   "outputs": [
    {
     "data": {
      "text/plain": [
       "3"
      ]
     },
     "execution_count": 44,
     "metadata": {},
     "output_type": "execute_result"
    }
   ],
   "source": [
    "class Solution(object):\n",
    "    def ml(self,pairs):\n",
    "        pairs.sort()\n",
    "        n = len(pairs)\n",
    "        dp = [1] * n\n",
    "        for i in range(n):\n",
    "            for j in range(i):\n",
    "                # print(i,j)\n",
    "                if pairs[i][0] > pairs[j][1] and dp[i] < dp[j] + 1:\n",
    "                    dp[i] = dp[j] + 1\n",
    "        return max(dp)\n",
    "\n",
    "\n",
    "pairs = [[5,6],[1,2],[2,3],[3,5],[3,4]]\n",
    "pairs = [[1,2],[2,3],[3,4]]\n",
    "pairs = [[1,2],[7,8],[4,5]]\n",
    "pairs = [[-6,9],[1,2],[7,8],[4,5],[2,9]]\n",
    "sol = Solution()\n",
    "sol.ml(pairs)"
   ]
  },
  {
   "cell_type": "code",
   "execution_count": 51,
   "metadata": {},
   "outputs": [
    {
     "data": {
      "text/plain": [
       "(3, [1, 1, 1, 2, 3])"
      ]
     },
     "execution_count": 51,
     "metadata": {},
     "output_type": "execute_result"
    }
   ],
   "source": [
    "class Solution(object):\n",
    "    def ml(self,pairs):\n",
    "        pairs.sort()\n",
    "        n = len(pairs)\n",
    "        dp = [1]*n\n",
    "        for i in range(n):\n",
    "            for j in range(i):\n",
    "                if pairs[j][1] < pairs[i][0]:\n",
    "                    dp[i] = max(dp[i],dp[j]+1)\n",
    "        return dp[-1]\n",
    "\n",
    "\n",
    "pairs = [[5,6],[1,2],[2,3],[3,5],[3,4]]\n",
    "pairs = [[1,2],[2,3],[3,4]]\n",
    "pairs = [[1,2],[7,8],[4,5]]\n",
    "pairs = [[-6,9],[1,2],[7,8],[4,5],[2,2]]\n",
    "sol = Solution()\n",
    "sol.ml(pairs)"
   ]
  },
  {
   "cell_type": "markdown",
   "metadata": {},
   "source": [
    "# Test\n",
    "Beautiful Arrangement"
   ]
  },
  {
   "cell_type": "markdown",
   "metadata": {},
   "source": [
    "Suppose you have n integers labeled 1 through n. A permutation of those n integers perm (1-indexed) is considered a beautiful arrangement if for every i (1 <= i <= n), either of the following is true:\n",
    "\n",
    "perm[i] is divisible by i.\n",
    "i is divisible by perm[i].\n",
    "Given an integer n, return the number of the beautiful arrangements that you can construct.\n",
    "\n",
    " \n",
    "\n",
    "Example 1:\n",
    "\n",
    "Input: n = 2\n",
    "Output: 2\n",
    "Explanation: \n",
    "The first beautiful arrangement is [1,2]:\n",
    "    - perm[1] = 1 is divisible by i = 1\n",
    "    - perm[2] = 2 is divisible by i = 2\n",
    "The second beautiful arrangement is [2,1]:\n",
    "    - perm[1] = 2 is divisible by i = 1\n",
    "    - i = 2 is divisible by perm[2] = 1\n",
    "Example 2:\n",
    "\n",
    "Input: n = 1\n",
    "Output: 1\n",
    " \n",
    "\n",
    "Constraints:\n",
    "\n",
    "1 <= n <= 15"
   ]
  },
  {
   "cell_type": "code",
   "execution_count": 76,
   "metadata": {},
   "outputs": [
    {
     "name": "stdout",
     "output_type": "stream",
     "text": [
      "{1, 2, 3, 4, 5}\n",
      "{2, 3, 4, 5}\n",
      "{3, 4, 5}\n",
      "{4, 5}\n",
      "{5}\n",
      "{2, 3, 5}\n",
      "{2, 5}\n",
      "{5}\n",
      "{1, 2, 3, 4}\n",
      "{2, 3, 4}\n",
      "{2, 4}\n",
      "{4}\n",
      "{2}\n",
      "{1, 3, 4}\n",
      "{3, 4}\n",
      "{3}\n",
      "{1, 4}\n",
      "{4}\n",
      "{1}\n",
      "{1, 2, 3}\n",
      "{2, 3}\n",
      "{3}\n",
      "{1, 2}\n",
      "{2}\n",
      "{1}\n"
     ]
    },
    {
     "data": {
      "text/plain": [
       "10"
      ]
     },
     "execution_count": 76,
     "metadata": {},
     "output_type": "execute_result"
    }
   ],
   "source": [
    "class Solution(object):\n",
    "    def ba(self,n):\n",
    "        def count(i, X):\n",
    "            print(X)\n",
    "            if i == 1:\n",
    "                return 1\n",
    "            return sum(count(i - 1, X - {x}) for x in X if x % i == 0 or i % x == 0)\n",
    "        return count(n, set(range(1, n + 1)))\n",
    "\n",
    "n = 5\n",
    "sol = Solution()\n",
    "sol.ba(n)"
   ]
  },
  {
   "cell_type": "code",
   "execution_count": 70,
   "metadata": {},
   "outputs": [
    {
     "data": {
      "text/plain": [
       "{1, 2}"
      ]
     },
     "execution_count": 70,
     "metadata": {},
     "output_type": "execute_result"
    }
   ],
   "source": [
    "set(range(1, n + 1))"
   ]
  },
  {
   "cell_type": "markdown",
   "metadata": {},
   "source": [
    "# Test\n",
    "Integer Break"
   ]
  },
  {
   "cell_type": "markdown",
   "metadata": {},
   "source": [
    "Given an integer n, break it into the sum of k positive integers, where k >= 2, and maximize the product of those integers.\n",
    "\n",
    "Return the maximum product you can get.\n",
    "\n",
    " \n",
    "\n",
    "Example 1:\n",
    "\n",
    "Input: n = 2\n",
    "Output: 1\n",
    "Explanation: 2 = 1 + 1, 1 × 1 = 1.\n",
    "Example 2:\n",
    "\n",
    "Input: n = 10\n",
    "Output: 36\n",
    "Explanation: 10 = 3 + 3 + 4, 3 × 3 × 4 = 36.\n",
    " \n",
    "\n",
    "Constraints:\n",
    "\n",
    "2 <= n <= 58"
   ]
  },
  {
   "cell_type": "code",
   "execution_count": 32,
   "metadata": {},
   "outputs": [
    {
     "data": {
      "text/plain": [
       "1549681956"
      ]
     },
     "execution_count": 32,
     "metadata": {},
     "output_type": "execute_result"
    }
   ],
   "source": [
    "class Solution(object):\n",
    "    def ib(self,n):\n",
    "        if n <= 3:\n",
    "            return n-1\n",
    "        self.max_val = 0\n",
    "        self.max_vals = [1,1,1,2]\n",
    "        for i in range(4,n+1):\n",
    "            self.pro(i,1)\n",
    "            self.max_vals.append(self.max_val)\n",
    "\n",
    "        return self.max_vals[-1]\n",
    "\n",
    "    def pro(self,res,val):\n",
    "        if res == 0:\n",
    "            self.max_val = max(self.max_val,val)\n",
    "        if 3 < res < len(self.max_vals)-1:\n",
    "            self.max_val = max(self.max_val,val * self.max_vals[res])\n",
    "            return\n",
    "        for i in range(1,res+1):\n",
    "            self.pro(res-i,val*i)\n",
    "\n",
    "n = 58\n",
    "sol = Solution()\n",
    "sol.ib(n)"
   ]
  },
  {
   "cell_type": "code",
   "execution_count": 33,
   "metadata": {},
   "outputs": [
    {
     "data": {
      "text/plain": [
       "1549681956"
      ]
     },
     "execution_count": 33,
     "metadata": {},
     "output_type": "execute_result"
    }
   ],
   "source": [
    "class Solution(object):\n",
    "    def ib(self, n):\n",
    "        dp = [None, 1]\n",
    "        for m in range (2, n + 1):\n",
    "            j = m - 1\n",
    "            i = 1\n",
    "            max_product = 0\n",
    "            while i <= j:\n",
    "                max_product = max(max_product, max(i, dp[i]) * max(j, dp[j]))\n",
    "                j -= 1\n",
    "                i += 1\n",
    "            dp.append(max_product)\n",
    "        return dp[n]\n",
    "n = 58\n",
    "sol = Solution()\n",
    "sol.ib(n)"
   ]
  },
  {
   "cell_type": "markdown",
   "metadata": {},
   "source": [
    "# Test\n",
    "2 Keyboard"
   ]
  },
  {
   "cell_type": "markdown",
   "metadata": {},
   "source": [
    "There is only one character 'A' on the screen of a notepad. You can perform two operations on this notepad for each step:\n",
    "\n",
    "Copy All: You can copy all the characters present on the screen (a partial copy is not allowed).\n",
    "Paste: You can paste the characters which are copied last time.\n",
    "Given an integer n, return the minimum number of operations to get the character 'A' exactly n times on the screen.\n",
    "\n",
    " \n",
    "\n",
    "Example 1:\n",
    "\n",
    "Input: n = 3\n",
    "Output: 3\n",
    "Explanation: Intitally, we have one character 'A'.\n",
    "In step 1, we use Copy All operation.\n",
    "In step 2, we use Paste operation to get 'AA'.\n",
    "In step 3, we use Paste operation to get 'AAA'.\n",
    "Example 2:\n",
    "\n",
    "Input: n = 1\n",
    "Output: 0\n",
    " \n",
    "\n",
    "Constraints:\n",
    "\n",
    "1 <= n <= 1000"
   ]
  },
  {
   "cell_type": "code",
   "execution_count": 14,
   "metadata": {},
   "outputs": [
    {
     "data": {
      "text/plain": [
       "13"
      ]
     },
     "execution_count": 14,
     "metadata": {},
     "output_type": "execute_result"
    }
   ],
   "source": [
    "class Solution(object):\n",
    "    def kk(self, n):\n",
    "        self.min_time = n\n",
    "        def op(sta,copy,tar,times):\n",
    "            # print(sta,copy,tar,times)\n",
    "            if sta > tar or times > self.min_time:\n",
    "                return\n",
    "            if sta == tar:\n",
    "                # print(times)\n",
    "                self.min_time = min(self.min_time,times)\n",
    "                # dic[]\n",
    "                # self.min_time.append(times)\n",
    "                return\n",
    "            if copy != sta:\n",
    "                op(sta,sta,tar,times+1)#copy\n",
    "            if copy != 0:\n",
    "                op(sta+copy,copy,tar,times+1)\n",
    "        op(1,0,n,0)\n",
    "        return self.min_time\n",
    "n = 80\n",
    "sol = Solution()\n",
    "sol.kk(n)"
   ]
  },
  {
   "cell_type": "code",
   "execution_count": 16,
   "metadata": {},
   "outputs": [
    {
     "data": {
      "text/plain": [
       "3"
      ]
     },
     "execution_count": 16,
     "metadata": {},
     "output_type": "execute_result"
    }
   ],
   "source": [
    "max([1,2,3])"
   ]
  },
  {
   "cell_type": "markdown",
   "metadata": {},
   "source": [
    "# Test\n",
    "Largest Sum of Averages"
   ]
  },
  {
   "cell_type": "markdown",
   "metadata": {},
   "source": [
    "You are given an integer array nums and an integer k. You can partition the array into at most k non-empty adjacent subarrays. The score of a partition is the sum of the averages of each subarray.\n",
    "\n",
    "Note that the partition must use every integer in nums, and that the score is not necessarily an integer.\n",
    "\n",
    "Return the maximum score you can achieve of all the possible partitions. Answers within 10-6 of the actual answer will be accepted.\n",
    "\n",
    " \n",
    "\n",
    "Example 1:\n",
    "\n",
    "Input: nums = [9,1,2,3,9], k = 3\n",
    "Output: 20.00000\n",
    "Explanation: \n",
    "The best choice is to partition nums into [9], [1, 2, 3], [9]. The answer is 9 + (1 + 2 + 3) / 3 + 9 = 20.\n",
    "We could have also partitioned nums into [9, 1], [2], [3, 9], for example.\n",
    "That partition would lead to a score of 5 + 2 + 6 = 13, which is worse.\n",
    "Example 2:\n",
    "\n",
    "Input: nums = [1,2,3,4,5,6,7], k = 4\n",
    "Output: 20.50000\n",
    " \n",
    "\n",
    "Constraints:\n",
    "\n",
    "1 <= nums.length <= 100\n",
    "1 <= nums[i] <= 104\n",
    "1 <= k <= nums.length"
   ]
  },
  {
   "cell_type": "code",
   "execution_count": 33,
   "metadata": {},
   "outputs": [
    {
     "name": "stdout",
     "output_type": "stream",
     "text": [
      "[] 0 [1.0, 1.0, 1.0, 4.333333333333333] 7.333333333333333\n",
      "[] 0 [1.0, 1.0, 5.0, 2.0] 9.0\n",
      "[] 0 [1.0, 1.0, 4.333333333333333, 1.0] 7.333333333333333\n",
      "[] 0 [1.0, 1.0, 9.0, 2.0] 13.0\n",
      "[] 0 [1.0, 1.0, 6.0, 1.0] 9.0\n",
      "[] 0 [1.0, 3.6666666666666665, 3.0, 1.0] 8.666666666666666\n",
      "[] 0 [1.0, 1.0, 9.0, 2.0] 13.0\n",
      "[] 0 [1.0, 1.0, 6.0, 1.0] 9.0\n",
      "[] 0 [1.0, 5.0, 3.0, 1.0] 10.0\n",
      "[] 0 [1.0, 9.0, 3.0, 1.0] 14.0\n"
     ]
    },
    {
     "data": {
      "text/plain": [
       "14.0"
      ]
     },
     "execution_count": 33,
     "metadata": {},
     "output_type": "execute_result"
    }
   ],
   "source": [
    "class Solution(object):\n",
    "    def ls(self,nums,k):\n",
    "        self.max_mean_sum = 0\n",
    "        self.part_mean(nums,k,[])\n",
    "        # dic = {}\n",
    "        return self.max_mean_sum\n",
    "    def part_mean(self,res_nums,res_k,parts):\n",
    "        if res_k == 0:\n",
    "            if len(res_nums)>0:\n",
    "                return\n",
    "            self.max_mean_sum = max(self.max_mean_sum,sum(parts))\n",
    "            print(res_nums,res_k,parts,sum(parts))\n",
    "            return\n",
    "        for part in range(1,len(res_nums)-res_k+2):\n",
    "            mean_nums = sum(res_nums[:part])/part\n",
    "            self.part_mean(res_nums[part:], res_k-1, parts+[mean_nums])\n",
    "\n",
    "nums = [1,2,3,4,5,6,7]\n",
    "nums = [1,1,1,9,3,1]\n",
    "k = 4\n",
    "k = 4\n",
    "sol = Solution()\n",
    "sol.ls(nums,k)"
   ]
  },
  {
   "cell_type": "code",
   "execution_count": 30,
   "metadata": {},
   "outputs": [
    {
     "name": "stdout",
     "output_type": "stream",
     "text": [
      "[[0, 0, 0, 0], [0, 0, 0, 0], [0, 0, 0, 0], [0, 0, 0, 0], [0, 0, 0, 0], [0, 0, 0, 0]]\n"
     ]
    },
    {
     "data": {
      "text/plain": [
       "14.0"
      ]
     },
     "execution_count": 30,
     "metadata": {},
     "output_type": "execute_result"
    }
   ],
   "source": [
    "class Solution(object):\n",
    "    def ls(self, A, K):\n",
    "        dp=[[0 for _ in range(K)] for _ in A]\n",
    "        # print(dp)\n",
    "        for j in range(len(A)):\n",
    "            for i in range(K): \n",
    "                if i==0:\n",
    "                    dp[j][i]=sum(A[:j+1])/len(A[:j+1])\n",
    "                else:\n",
    "                    if len(A[:j+1])<i+1:\n",
    "                        break\n",
    "                    for k in range(j):\n",
    "                        dp[j][i]=max(dp[k][i-1]+sum(A[k+1:j+1])/len(A[k+1:j+1]),dp[j][i])\n",
    "        return dp[-1][-1]\n",
    "nums = [1,2,3,4,5,6,7]\n",
    "nums = [1,1,1,9,3,1]\n",
    "k = 4\n",
    "k = 4\n",
    "sol = Solution()\n",
    "sol.ls(nums,k)"
   ]
  },
  {
   "cell_type": "code",
   "execution_count": 12,
   "metadata": {},
   "outputs": [
    {
     "data": {
      "text/plain": [
       "[0, 2]"
      ]
     },
     "execution_count": 12,
     "metadata": {},
     "output_type": "execute_result"
    }
   ],
   "source": [
    "[i*2 for i in range(2)]"
   ]
  },
  {
   "cell_type": "markdown",
   "metadata": {},
   "source": [
    "# Test\n",
    "Best Time tp Buy Stock"
   ]
  },
  {
   "cell_type": "markdown",
   "metadata": {},
   "source": [
    "You are given an array prices where prices[i] is the price of a given stock on the ith day.\n",
    "\n",
    "You want to maximize your profit by choosing a single day to buy one stock and choosing a different day in the future to sell that stock.\n",
    "\n",
    "Return the maximum profit you can achieve from this transaction. If you cannot achieve any profit, return 0.\n",
    "\n",
    " \n",
    "\n",
    "Example 1:\n",
    "\n",
    "Input: prices = [7,1,5,3,6,4]\n",
    "Output: 5\n",
    "Explanation: Buy on day 2 (price = 1) and sell on day 5 (price = 6), profit = 6-1 = 5.\n",
    "Note that buying on day 2 and selling on day 1 is not allowed because you must buy before you sell.\n",
    "Example 2:\n",
    "\n",
    "Input: prices = [7,6,4,3,1]\n",
    "Output: 0\n",
    "Explanation: In this case, no transactions are done and the max profit = 0.\n",
    " \n",
    "\n",
    "Constraints:\n",
    "\n",
    "1 <= prices.length <= 105\n",
    "0 <= prices[i] <= 104"
   ]
  },
  {
   "cell_type": "code",
   "execution_count": 46,
   "metadata": {},
   "outputs": [
    {
     "data": {
      "text/plain": [
       "5"
      ]
     },
     "execution_count": 46,
     "metadata": {},
     "output_type": "execute_result"
    }
   ],
   "source": [
    "class Solution(object):\n",
    "    def bb(self,prices):\n",
    "        min_price = prices[0]\n",
    "        max_earn = 0\n",
    "        for i in range(1,len(prices)):\n",
    "            if prices[i]<min_price:min_price = prices[i]\n",
    "            max_earn = max(max_earn, prices[i] - min_price)\n",
    "        return max_earn\n",
    "\n",
    "input = [7,1,4,3,6]\n",
    "sol = Solution()\n",
    "sol.bb(input)"
   ]
  },
  {
   "cell_type": "code",
   "execution_count": 61,
   "metadata": {},
   "outputs": [
    {
     "data": {
      "text/plain": [
       "b'\\x03\\x00\\x00\\x00\\x00\\x00\\x00\\x00\\x02\\x00\\x00\\x00\\x00\\x00\\x00\\x00\\x04\\x00\\x00\\x00\\x00\\x00\\x00\\x00'"
      ]
     },
     "execution_count": 61,
     "metadata": {},
     "output_type": "execute_result"
    }
   ],
   "source": [
    "import numpy as np\n",
    "a = np.array([[3,2,4]])\n",
    "# a = [3,2,4]\n",
    "bytes(a)"
   ]
  },
  {
   "cell_type": "markdown",
   "metadata": {},
   "source": [
    "# Test\n",
    "Counting Bits"
   ]
  },
  {
   "cell_type": "markdown",
   "metadata": {},
   "source": [
    "Given an integer n, return an array ans of length n + 1 such that for each i (0 <= i <= n), ans[i] is the number of 1's in the binary representation of i.\n",
    "\n",
    " \n",
    "\n",
    "Example 1:\n",
    "\n",
    "Input: n = 2\n",
    "Output: [0,1,1]\n",
    "Explanation:\n",
    "0 --> 0\n",
    "1 --> 1\n",
    "2 --> 10\n",
    "Example 2:\n",
    "\n",
    "Input: n = 5\n",
    "Output: [0,1,1,2,1,2]\n",
    "Explanation:\n",
    "0 --> 0\n",
    "1 --> 1\n",
    "2 --> 10\n",
    "3 --> 11\n",
    "4 --> 100\n",
    "5 --> 101\n",
    " \n",
    "\n",
    "Constraints:\n",
    "\n",
    "0 <= n <= 105\n",
    " \n",
    "\n",
    "Follow up:\n",
    "\n",
    "It is very easy to come up with a solution with a runtime of O(n log n). Can you do it in linear time O(n) and possibly in a single pass?\n",
    "Can you do it without using any built-in function (i.e., like __builtin_popcount in C++)?"
   ]
  },
  {
   "cell_type": "code",
   "execution_count": 15,
   "metadata": {},
   "outputs": [
    {
     "data": {
      "text/plain": [
       "[0,\n",
       " 1,\n",
       " 1,\n",
       " 2,\n",
       " 1,\n",
       " 2,\n",
       " 2,\n",
       " 3,\n",
       " 1,\n",
       " 2,\n",
       " 2,\n",
       " 3,\n",
       " 2,\n",
       " 3,\n",
       " 3,\n",
       " 4,\n",
       " 1,\n",
       " 2,\n",
       " 2,\n",
       " 3,\n",
       " 2,\n",
       " 3,\n",
       " 3,\n",
       " 4,\n",
       " 2,\n",
       " 3,\n",
       " 3,\n",
       " 4,\n",
       " 3,\n",
       " 4,\n",
       " 4,\n",
       " 5,\n",
       " 1,\n",
       " 2,\n",
       " 2,\n",
       " 3,\n",
       " 2,\n",
       " 3,\n",
       " 3,\n",
       " 4,\n",
       " 2,\n",
       " 3,\n",
       " 3,\n",
       " 4,\n",
       " 3,\n",
       " 4,\n",
       " 4,\n",
       " 5,\n",
       " 2,\n",
       " 3,\n",
       " 3,\n",
       " 4,\n",
       " 3,\n",
       " 4,\n",
       " 4,\n",
       " 5,\n",
       " 3,\n",
       " 4,\n",
       " 4,\n",
       " 5,\n",
       " 4,\n",
       " 5,\n",
       " 5,\n",
       " 6,\n",
       " 1,\n",
       " 2,\n",
       " 2,\n",
       " 3,\n",
       " 2,\n",
       " 3,\n",
       " 3,\n",
       " 4,\n",
       " 2,\n",
       " 3,\n",
       " 3,\n",
       " 4,\n",
       " 3,\n",
       " 4,\n",
       " 4,\n",
       " 5,\n",
       " 2,\n",
       " 3,\n",
       " 3,\n",
       " 4,\n",
       " 3,\n",
       " 4,\n",
       " 4,\n",
       " 5,\n",
       " 3,\n",
       " 4,\n",
       " 4,\n",
       " 5,\n",
       " 4,\n",
       " 5,\n",
       " 5,\n",
       " 6,\n",
       " 2,\n",
       " 3,\n",
       " 3,\n",
       " 4,\n",
       " 3,\n",
       " 4,\n",
       " 4,\n",
       " 5,\n",
       " 3,\n",
       " 4,\n",
       " 4,\n",
       " 5,\n",
       " 4,\n",
       " 5,\n",
       " 5,\n",
       " 6,\n",
       " 3,\n",
       " 4,\n",
       " 4,\n",
       " 5,\n",
       " 4,\n",
       " 5,\n",
       " 5,\n",
       " 6,\n",
       " 4,\n",
       " 5,\n",
       " 5,\n",
       " 6,\n",
       " 5,\n",
       " 6,\n",
       " 6,\n",
       " 7,\n",
       " 1,\n",
       " 2,\n",
       " 2,\n",
       " 3,\n",
       " 2,\n",
       " 3,\n",
       " 3,\n",
       " 4,\n",
       " 2,\n",
       " 3,\n",
       " 3,\n",
       " 4,\n",
       " 3,\n",
       " 4,\n",
       " 4,\n",
       " 5,\n",
       " 2,\n",
       " 3,\n",
       " 3,\n",
       " 4,\n",
       " 3,\n",
       " 4,\n",
       " 4,\n",
       " 5,\n",
       " 3,\n",
       " 4,\n",
       " 4,\n",
       " 5,\n",
       " 4,\n",
       " 5,\n",
       " 5,\n",
       " 6,\n",
       " 2,\n",
       " 3,\n",
       " 3,\n",
       " 4,\n",
       " 3,\n",
       " 4,\n",
       " 4,\n",
       " 5,\n",
       " 3,\n",
       " 4,\n",
       " 4,\n",
       " 5,\n",
       " 4,\n",
       " 5,\n",
       " 5,\n",
       " 6,\n",
       " 3,\n",
       " 4,\n",
       " 4,\n",
       " 5,\n",
       " 4,\n",
       " 5,\n",
       " 5,\n",
       " 6,\n",
       " 4,\n",
       " 5,\n",
       " 5,\n",
       " 6,\n",
       " 5,\n",
       " 6,\n",
       " 6,\n",
       " 7,\n",
       " 2,\n",
       " 3,\n",
       " 3,\n",
       " 4,\n",
       " 3,\n",
       " 4,\n",
       " 4,\n",
       " 5,\n",
       " 3,\n",
       " 4,\n",
       " 4,\n",
       " 5,\n",
       " 4,\n",
       " 5,\n",
       " 5,\n",
       " 6,\n",
       " 3,\n",
       " 4,\n",
       " 4,\n",
       " 5,\n",
       " 4,\n",
       " 5,\n",
       " 5,\n",
       " 6,\n",
       " 4,\n",
       " 5,\n",
       " 5,\n",
       " 6,\n",
       " 5,\n",
       " 6,\n",
       " 6,\n",
       " 7,\n",
       " 3,\n",
       " 4,\n",
       " 4,\n",
       " 5,\n",
       " 4,\n",
       " 5,\n",
       " 5,\n",
       " 6,\n",
       " 4,\n",
       " 5,\n",
       " 5,\n",
       " 6,\n",
       " 5,\n",
       " 6,\n",
       " 6,\n",
       " 7,\n",
       " 4,\n",
       " 5,\n",
       " 5,\n",
       " 6,\n",
       " 5,\n",
       " 6,\n",
       " 6,\n",
       " 7,\n",
       " 5,\n",
       " 6,\n",
       " 6,\n",
       " 7,\n",
       " 6,\n",
       " 7,\n",
       " 7,\n",
       " 8,\n",
       " 1,\n",
       " 2,\n",
       " 2,\n",
       " 3,\n",
       " 2,\n",
       " 3,\n",
       " 3,\n",
       " 4,\n",
       " 2,\n",
       " 3,\n",
       " 3,\n",
       " 4,\n",
       " 3,\n",
       " 4,\n",
       " 4,\n",
       " 5,\n",
       " 2,\n",
       " 3,\n",
       " 3,\n",
       " 4,\n",
       " 3,\n",
       " 4,\n",
       " 4,\n",
       " 5,\n",
       " 3,\n",
       " 4,\n",
       " 4,\n",
       " 5,\n",
       " 4,\n",
       " 5,\n",
       " 5,\n",
       " 6,\n",
       " 2,\n",
       " 3,\n",
       " 3,\n",
       " 4,\n",
       " 3,\n",
       " 4,\n",
       " 4,\n",
       " 5,\n",
       " 3,\n",
       " 4,\n",
       " 4,\n",
       " 5,\n",
       " 4,\n",
       " 5,\n",
       " 5,\n",
       " 6,\n",
       " 3,\n",
       " 4,\n",
       " 4,\n",
       " 5,\n",
       " 4,\n",
       " 5,\n",
       " 5,\n",
       " 6,\n",
       " 4,\n",
       " 5,\n",
       " 5,\n",
       " 6,\n",
       " 5,\n",
       " 6,\n",
       " 6,\n",
       " 7,\n",
       " 2,\n",
       " 3,\n",
       " 3,\n",
       " 4,\n",
       " 3,\n",
       " 4,\n",
       " 4,\n",
       " 5,\n",
       " 3,\n",
       " 4,\n",
       " 4,\n",
       " 5,\n",
       " 4,\n",
       " 5,\n",
       " 5,\n",
       " 6,\n",
       " 3,\n",
       " 4,\n",
       " 4,\n",
       " 5,\n",
       " 4,\n",
       " 5,\n",
       " 5,\n",
       " 6,\n",
       " 4,\n",
       " 5,\n",
       " 5,\n",
       " 6,\n",
       " 5,\n",
       " 6,\n",
       " 6,\n",
       " 7,\n",
       " 3,\n",
       " 4,\n",
       " 4,\n",
       " 5,\n",
       " 4,\n",
       " 5,\n",
       " 5,\n",
       " 6,\n",
       " 4,\n",
       " 5,\n",
       " 5,\n",
       " 6,\n",
       " 5,\n",
       " 6,\n",
       " 6,\n",
       " 7,\n",
       " 4,\n",
       " 5,\n",
       " 5,\n",
       " 6,\n",
       " 5,\n",
       " 6,\n",
       " 6,\n",
       " 7,\n",
       " 5,\n",
       " 6,\n",
       " 6,\n",
       " 7,\n",
       " 6,\n",
       " 7,\n",
       " 7,\n",
       " 8,\n",
       " 2,\n",
       " 3,\n",
       " 3,\n",
       " 4,\n",
       " 3,\n",
       " 4,\n",
       " 4,\n",
       " 5,\n",
       " 3,\n",
       " 4,\n",
       " 4,\n",
       " 5,\n",
       " 4,\n",
       " 5,\n",
       " 5,\n",
       " 6,\n",
       " 3,\n",
       " 4,\n",
       " 4,\n",
       " 5,\n",
       " 4,\n",
       " 5,\n",
       " 5,\n",
       " 6,\n",
       " 4,\n",
       " 5,\n",
       " 5,\n",
       " 6,\n",
       " 5,\n",
       " 6,\n",
       " 6,\n",
       " 7,\n",
       " 3,\n",
       " 4,\n",
       " 4,\n",
       " 5,\n",
       " 4,\n",
       " 5,\n",
       " 5,\n",
       " 6,\n",
       " 4,\n",
       " 5,\n",
       " 5,\n",
       " 6,\n",
       " 5,\n",
       " 6,\n",
       " 6,\n",
       " 7,\n",
       " 4,\n",
       " 5,\n",
       " 5,\n",
       " 6,\n",
       " 5,\n",
       " 6,\n",
       " 6,\n",
       " 7,\n",
       " 5,\n",
       " 6,\n",
       " 6,\n",
       " 7,\n",
       " 6,\n",
       " 7,\n",
       " 7,\n",
       " 8,\n",
       " 3,\n",
       " 4,\n",
       " 4,\n",
       " 5,\n",
       " 4,\n",
       " 5,\n",
       " 5,\n",
       " 6,\n",
       " 4,\n",
       " 5,\n",
       " 5,\n",
       " 6,\n",
       " 5,\n",
       " 6,\n",
       " 6,\n",
       " 7,\n",
       " 4,\n",
       " 5,\n",
       " 5,\n",
       " 6,\n",
       " 5,\n",
       " 6,\n",
       " 6,\n",
       " 7,\n",
       " 5,\n",
       " 6,\n",
       " 6,\n",
       " 7,\n",
       " 6,\n",
       " 7,\n",
       " 7,\n",
       " 8,\n",
       " 4,\n",
       " 5,\n",
       " 5,\n",
       " 6,\n",
       " 5,\n",
       " 6,\n",
       " 6,\n",
       " 7,\n",
       " 5,\n",
       " 6,\n",
       " 6,\n",
       " 7,\n",
       " 6,\n",
       " 7,\n",
       " 7,\n",
       " 8,\n",
       " 5,\n",
       " 6,\n",
       " 6,\n",
       " 7,\n",
       " 6,\n",
       " 7,\n",
       " 7,\n",
       " 8,\n",
       " 6,\n",
       " 7,\n",
       " 7,\n",
       " 8,\n",
       " 7,\n",
       " 8,\n",
       " 8,\n",
       " 9,\n",
       " 1,\n",
       " 2,\n",
       " 2,\n",
       " 3,\n",
       " 2,\n",
       " 3,\n",
       " 3,\n",
       " 4,\n",
       " 2,\n",
       " 3,\n",
       " 3,\n",
       " 4,\n",
       " 3,\n",
       " 4,\n",
       " 4,\n",
       " 5,\n",
       " 2,\n",
       " 3,\n",
       " 3,\n",
       " 4,\n",
       " 3,\n",
       " 4,\n",
       " 4,\n",
       " 5,\n",
       " 3,\n",
       " 4,\n",
       " 4,\n",
       " 5,\n",
       " 4,\n",
       " 5,\n",
       " 5,\n",
       " 6,\n",
       " 2,\n",
       " 3,\n",
       " 3,\n",
       " 4,\n",
       " 3,\n",
       " 4,\n",
       " 4,\n",
       " 5,\n",
       " 3,\n",
       " 4,\n",
       " 4,\n",
       " 5,\n",
       " 4,\n",
       " 5,\n",
       " 5,\n",
       " 6,\n",
       " 3,\n",
       " 4,\n",
       " 4,\n",
       " 5,\n",
       " 4,\n",
       " 5,\n",
       " 5,\n",
       " 6,\n",
       " 4,\n",
       " 5,\n",
       " 5,\n",
       " 6,\n",
       " 5,\n",
       " 6,\n",
       " 6,\n",
       " 7,\n",
       " 2,\n",
       " 3,\n",
       " 3,\n",
       " 4,\n",
       " 3,\n",
       " 4,\n",
       " 4,\n",
       " 5,\n",
       " 3,\n",
       " 4,\n",
       " 4,\n",
       " 5,\n",
       " 4,\n",
       " 5,\n",
       " 5,\n",
       " 6,\n",
       " 3,\n",
       " 4,\n",
       " 4,\n",
       " 5,\n",
       " 4,\n",
       " 5,\n",
       " 5,\n",
       " 6,\n",
       " 4,\n",
       " 5,\n",
       " 5,\n",
       " 6,\n",
       " 5,\n",
       " 6,\n",
       " 6,\n",
       " 7,\n",
       " 3,\n",
       " 4,\n",
       " 4,\n",
       " 5,\n",
       " 4,\n",
       " 5,\n",
       " 5,\n",
       " 6,\n",
       " 4,\n",
       " 5,\n",
       " 5,\n",
       " 6,\n",
       " 5,\n",
       " 6,\n",
       " 6,\n",
       " 7,\n",
       " 4,\n",
       " 5,\n",
       " 5,\n",
       " 6,\n",
       " 5,\n",
       " 6,\n",
       " 6,\n",
       " 7,\n",
       " 5,\n",
       " 6,\n",
       " 6,\n",
       " 7,\n",
       " 6,\n",
       " 7,\n",
       " 7,\n",
       " 8,\n",
       " 2,\n",
       " 3,\n",
       " 3,\n",
       " 4,\n",
       " 3,\n",
       " 4,\n",
       " 4,\n",
       " 5,\n",
       " 3,\n",
       " 4,\n",
       " 4,\n",
       " 5,\n",
       " 4,\n",
       " 5,\n",
       " 5,\n",
       " 6,\n",
       " 3,\n",
       " 4,\n",
       " 4,\n",
       " 5,\n",
       " 4,\n",
       " 5,\n",
       " 5,\n",
       " 6,\n",
       " 4,\n",
       " 5,\n",
       " 5,\n",
       " 6,\n",
       " 5,\n",
       " 6,\n",
       " 6,\n",
       " 7,\n",
       " 3,\n",
       " 4,\n",
       " 4,\n",
       " 5,\n",
       " 4,\n",
       " 5,\n",
       " 5,\n",
       " 6,\n",
       " 4,\n",
       " 5,\n",
       " 5,\n",
       " 6,\n",
       " 5,\n",
       " 6,\n",
       " 6,\n",
       " 7,\n",
       " 4,\n",
       " 5,\n",
       " 5,\n",
       " 6,\n",
       " 5,\n",
       " 6,\n",
       " 6,\n",
       " 7,\n",
       " 5,\n",
       " 6,\n",
       " 6,\n",
       " 7,\n",
       " 6,\n",
       " 7,\n",
       " 7,\n",
       " 8,\n",
       " 3,\n",
       " 4,\n",
       " 4,\n",
       " 5,\n",
       " 4,\n",
       " 5,\n",
       " 5,\n",
       " 6,\n",
       " 4,\n",
       " 5,\n",
       " 5,\n",
       " 6,\n",
       " 5,\n",
       " 6,\n",
       " 6,\n",
       " 7,\n",
       " 4,\n",
       " 5,\n",
       " 5,\n",
       " 6,\n",
       " 5,\n",
       " 6,\n",
       " 6,\n",
       " 7,\n",
       " 5,\n",
       " 6,\n",
       " 6,\n",
       " 7,\n",
       " 6,\n",
       " 7,\n",
       " 7,\n",
       " 8,\n",
       " 4,\n",
       " 5,\n",
       " 5,\n",
       " 6,\n",
       " 5,\n",
       " 6,\n",
       " 6,\n",
       " 7,\n",
       " 5,\n",
       " 6,\n",
       " 6,\n",
       " 7,\n",
       " 6,\n",
       " 7,\n",
       " 7,\n",
       " 8,\n",
       " 5,\n",
       " 6,\n",
       " 6,\n",
       " 7,\n",
       " 6,\n",
       " 7,\n",
       " 7,\n",
       " 8,\n",
       " 6,\n",
       " 7,\n",
       " 7,\n",
       " 8,\n",
       " 7,\n",
       " 8,\n",
       " 8,\n",
       " 9,\n",
       " 2,\n",
       " 3,\n",
       " 3,\n",
       " 4,\n",
       " 3,\n",
       " 4,\n",
       " 4,\n",
       " 5,\n",
       " 3,\n",
       " 4,\n",
       " 4,\n",
       " 5,\n",
       " 4,\n",
       " 5,\n",
       " 5,\n",
       " 6,\n",
       " 3,\n",
       " 4,\n",
       " 4,\n",
       " 5,\n",
       " 4,\n",
       " 5,\n",
       " 5,\n",
       " 6,\n",
       " 4,\n",
       " 5,\n",
       " 5,\n",
       " 6,\n",
       " 5,\n",
       " 6,\n",
       " 6,\n",
       " 7,\n",
       " 3,\n",
       " 4,\n",
       " 4,\n",
       " 5,\n",
       " 4,\n",
       " 5,\n",
       " 5,\n",
       " 6,\n",
       " 4,\n",
       " 5,\n",
       " 5,\n",
       " 6,\n",
       " 5,\n",
       " 6,\n",
       " 6,\n",
       " 7,\n",
       " 4,\n",
       " 5,\n",
       " 5,\n",
       " 6,\n",
       " 5,\n",
       " 6,\n",
       " 6,\n",
       " 7,\n",
       " 5,\n",
       " 6,\n",
       " 6,\n",
       " 7,\n",
       " 6,\n",
       " 7,\n",
       " 7,\n",
       " 8,\n",
       " 3,\n",
       " 4,\n",
       " 4,\n",
       " 5,\n",
       " 4,\n",
       " 5,\n",
       " 5,\n",
       " 6,\n",
       " 4,\n",
       " 5,\n",
       " 5,\n",
       " 6,\n",
       " 5,\n",
       " 6,\n",
       " 6,\n",
       " 7,\n",
       " 4,\n",
       " 5,\n",
       " 5,\n",
       " 6,\n",
       " 5,\n",
       " 6,\n",
       " 6,\n",
       " 7,\n",
       " 5,\n",
       " 6,\n",
       " 6,\n",
       " 7,\n",
       " 6,\n",
       " 7,\n",
       " 7,\n",
       " 8,\n",
       " 4,\n",
       " 5,\n",
       " 5,\n",
       " 6,\n",
       " 5,\n",
       " 6,\n",
       " 6,\n",
       " 7,\n",
       " 5,\n",
       " 6,\n",
       " 6,\n",
       " 7,\n",
       " 6,\n",
       " 7,\n",
       " 7,\n",
       " 8,\n",
       " 5,\n",
       " 6,\n",
       " 6,\n",
       " 7,\n",
       " 6,\n",
       " 7,\n",
       " 7,\n",
       " 8,\n",
       " 6,\n",
       " 7,\n",
       " 7,\n",
       " 8,\n",
       " 7,\n",
       " 8,\n",
       " 8,\n",
       " 9,\n",
       " 3,\n",
       " 4,\n",
       " 4,\n",
       " 5,\n",
       " 4,\n",
       " 5,\n",
       " 5,\n",
       " 6,\n",
       " 4,\n",
       " 5,\n",
       " 5,\n",
       " 6,\n",
       " 5,\n",
       " 6,\n",
       " 6,\n",
       " 7,\n",
       " 4,\n",
       " 5,\n",
       " 5,\n",
       " 6,\n",
       " 5,\n",
       " 6,\n",
       " 6,\n",
       " 7,\n",
       " 5,\n",
       " 6,\n",
       " 6,\n",
       " 7,\n",
       " 6,\n",
       " 7,\n",
       " 7,\n",
       " 8,\n",
       " 4,\n",
       " 5,\n",
       " 5,\n",
       " 6,\n",
       " 5,\n",
       " 6,\n",
       " 6,\n",
       " 7,\n",
       " 5,\n",
       " 6,\n",
       " 6,\n",
       " 7,\n",
       " 6,\n",
       " 7,\n",
       " 7,\n",
       " 8,\n",
       " 5,\n",
       " 6,\n",
       " 6,\n",
       " 7,\n",
       " 6,\n",
       " 7,\n",
       " 7,\n",
       " 8,\n",
       " 6,\n",
       " 7,\n",
       " 7,\n",
       " 8,\n",
       " 7,\n",
       " 8,\n",
       " 8,\n",
       " 9,\n",
       " 4,\n",
       " 5,\n",
       " 5,\n",
       " 6,\n",
       " 5,\n",
       " 6,\n",
       " 6,\n",
       " 7,\n",
       " 5,\n",
       " 6,\n",
       " 6,\n",
       " 7,\n",
       " 6,\n",
       " 7,\n",
       " 7,\n",
       " 8,\n",
       " 5,\n",
       " 6,\n",
       " 6,\n",
       " 7,\n",
       " 6,\n",
       " 7,\n",
       " 7,\n",
       " 8,\n",
       " 6,\n",
       " 7,\n",
       " 7,\n",
       " 8,\n",
       " 7,\n",
       " 8,\n",
       " 8,\n",
       " 9,\n",
       " 5,\n",
       " 6,\n",
       " 6,\n",
       " 7,\n",
       " 6,\n",
       " 7,\n",
       " 7,\n",
       " 8,\n",
       " ...]"
      ]
     },
     "execution_count": 15,
     "metadata": {},
     "output_type": "execute_result"
    }
   ],
   "source": [
    "class Solution(object):\n",
    "    # def cb(self,n):\n",
    "    #     arr = []\n",
    "    #     for i in range(n+1):\n",
    "    #         # print(i)\n",
    "    #         arr.append(bin(i)[2:].count(\"1\"))\n",
    "    #     return arr\n",
    "\n",
    "    # def cb(self,n):\n",
    "    #     arr = []\n",
    "    #     dic = {}\n",
    "    #     for i in range(n+1):\n",
    "    #         ones = 0\n",
    "    #         # print(i,bin(i)[2:])\n",
    "    #         res = i\n",
    "    #         while res > 0:\n",
    "    #             # print(res)\n",
    "    #             if res in dic:\n",
    "    #                 ones += dic[res]\n",
    "    #                 res = 0\n",
    "    #                 # print(\"dic\")\n",
    "    #             else:\n",
    "    #                 ones += res%2\n",
    "    #                 res //= 2\n",
    "    #         dic[i] = ones\n",
    "    #         arr += [ones]\n",
    "    #     # print(dic)\n",
    "    #     return arr\n",
    "\n",
    "    def cb(self,n):\n",
    "        result = [0] * (n+1)\n",
    "        offset = 0\n",
    "        for i in range(1,n+1):\n",
    "            if i & i-1 == 0:\n",
    "                result[i] = 1\n",
    "                offset = 0\n",
    "            else:\n",
    "                offset+=1\n",
    "                result[i] = 1 + result[offset]\n",
    "        return result\n",
    "\n",
    "input = 10000000\n",
    "# input = 105\n",
    "sol = Solution()\n",
    "sol.cb(input)"
   ]
  },
  {
   "cell_type": "code",
   "execution_count": 125,
   "metadata": {},
   "outputs": [],
   "source": [
    "dic = {0: 0, 1: 1, 2: 1, 3: 2, 4: 1, 5: 2}"
   ]
  },
  {
   "cell_type": "code",
   "execution_count": 130,
   "metadata": {},
   "outputs": [
    {
     "data": {
      "text/plain": [
       "True"
      ]
     },
     "execution_count": 130,
     "metadata": {},
     "output_type": "execute_result"
    }
   ],
   "source": [
    "5 in dic"
   ]
  },
  {
   "cell_type": "code",
   "execution_count": 44,
   "metadata": {},
   "outputs": [
    {
     "data": {
      "text/plain": [
       "8"
      ]
     },
     "execution_count": 44,
     "metadata": {},
     "output_type": "execute_result"
    }
   ],
   "source": [
    "i = 10\n",
    "i & i-1"
   ]
  },
  {
   "cell_type": "code",
   "execution_count": 93,
   "metadata": {},
   "outputs": [
    {
     "data": {
      "text/plain": [
       "(0, 1)"
      ]
     },
     "execution_count": 93,
     "metadata": {},
     "output_type": "execute_result"
    }
   ],
   "source": [
    "1//2,1%2"
   ]
  },
  {
   "cell_type": "markdown",
   "metadata": {},
   "source": [
    "# Test\n",
    "Delete Operation for Two Strings "
   ]
  },
  {
   "cell_type": "markdown",
   "metadata": {},
   "source": [
    "Given two strings word1 and word2, return the minimum number of steps required to make word1 and word2 the same.\n",
    "\n",
    "In one step, you can delete exactly one character in either string.\n",
    "\n",
    " \n",
    "\n",
    "Example 1:\n",
    "\n",
    "Input: word1 = \"sea\", word2 = \"eat\"\n",
    "Output: 2\n",
    "Explanation: You need one step to make \"sea\" to \"ea\" and another step to make \"eat\" to \"ea\".\n",
    "Example 2:\n",
    "\n",
    "Input: word1 = \"leetcode\", word2 = \"etco\"\n",
    "Output: 4\n",
    " \n",
    "\n",
    "Constraints:\n",
    "\n",
    "1 <= word1.length, word2.length <= 500\n",
    "word1 and word2 consist of only lowercase English letters."
   ]
  },
  {
   "cell_type": "code",
   "execution_count": 29,
   "metadata": {},
   "outputs": [
    {
     "name": "stdout",
     "output_type": "stream",
     "text": [
      "[[0, 0, 0, 0], [0, 0, 0, 0], [0, 0, 0, 0], [0, 0, 0, 0]]\n",
      "3 3\n",
      "[[0, 0, 0, 0], [0, 0, 1, 0], [0, 0, 1, 0], [0, 0, 0, 0]]\n",
      "2 3\n",
      "[[0, 0, 1, 0], [0, 0, 1, 0], [0, 0, 1, 0], [0, 0, 0, 0]]\n",
      "1 3\n",
      "[[0, 1, 1, 0], [0, 0, 1, 0], [0, 0, 1, 0], [0, 0, 0, 0]]\n",
      "1 2\n",
      "[[1, 1, 1, 0], [0, 0, 1, 0], [0, 0, 1, 0], [0, 0, 0, 0]]\n",
      "1 1\n",
      "[[1, 1, 1, 0], [0, 1, 1, 0], [0, 0, 1, 0], [0, 0, 0, 0]]\n",
      "2 2\n",
      "[[1, 1, 1, 0], [0, 1, 1, 0], [0, 0, 1, 0], [0, 0, 0, 0]]\n",
      "1 2\n",
      "[[1, 1, 1, 0], [0, 1, 1, 0], [0, 0, 1, 0], [0, 0, 0, 0]]\n",
      "1 1\n",
      "[[1, 1, 1, 0], [1, 1, 1, 0], [0, 0, 1, 0], [0, 0, 0, 0]]\n",
      "2 1\n",
      "[[2, 1, 1, 0], [2, 1, 1, 0], [0, 0, 1, 0], [0, 0, 0, 0]]\n",
      "1 1\n",
      "[[2, 1, 1, 0], [2, 1, 1, 0], [0, 1, 1, 0], [0, 0, 0, 0]]\n",
      "3 2\n",
      "[[2, 1, 1, 0], [2, 2, 1, 0], [0, 2, 1, 0], [0, 0, 0, 0]]\n",
      "2 2\n",
      "[[2, 2, 1, 0], [2, 2, 1, 0], [0, 2, 1, 0], [0, 0, 0, 0]]\n",
      "1 2\n",
      "[[2, 2, 1, 0], [2, 2, 1, 0], [0, 2, 1, 0], [0, 0, 0, 0]]\n",
      "1 1\n",
      "[[2, 2, 1, 0], [2, 2, 1, 0], [0, 2, 1, 0], [0, 0, 0, 0]]\n",
      "2 1\n",
      "[[3, 2, 1, 0], [3, 2, 1, 0], [0, 2, 1, 0], [0, 0, 0, 0]]\n",
      "1 1\n",
      "[[3, 2, 1, 0], [3, 2, 1, 0], [2, 2, 1, 0], [0, 0, 0, 0]]\n",
      "3 1\n",
      "[[3, 2, 1, 0], [2, 2, 1, 0], [2, 2, 1, 0], [0, 0, 0, 0]]\n",
      "2 1\n",
      "[[3, 2, 1, 0], [3, 2, 1, 0], [2, 2, 1, 0], [0, 0, 0, 0]]\n",
      "1 1\n"
     ]
    },
    {
     "data": {
      "text/plain": [
       "0"
      ]
     },
     "execution_count": 29,
     "metadata": {},
     "output_type": "execute_result"
    }
   ],
   "source": [
    "class Solution(object):\n",
    "    def do(self,word1,word2):\n",
    "        m = len(word1)\n",
    "        n = len(word2)\n",
    "        self.dp = [[0]*(n+1) for _ in range(m+1)]\n",
    "        self.lcs(word1,word2,m,n)\n",
    "        return len(word1)-self.dp[0][0] + len(word2)-self.dp[0][0]\n",
    "\n",
    "    # def lcs(self,s1,s2,m,n,nl):\n",
    "    #     if m == 0 or n == 0:\n",
    "    #         return 0\n",
    "    #     elif s1[m-1] == s2[n-1]:\n",
    "    #         return self.lcs(s1,s2,m-1,n-1,nl+1) + 1\n",
    "    #     else:\n",
    "    #         return max(self.lcs(s1,s2,m-1,n,nl),self.lcs(s1,s2,m,n-1,nl))\n",
    "    def lcs(self,s1,s2,m,n):\n",
    "        if m == 0 or n == 0:\n",
    "            return\n",
    "        self.dp[m-1][n-1] = max(self.dp[m][n-1],self.dp[m-1][n])\n",
    "        print(self.dp)\n",
    "        print(m,n)\n",
    "        if s1[m-1] == s2[n-1]:\n",
    "            self.dp[m-1][n-1] += 1\n",
    "        return self.lcs(s1,s2,m-1,n),self.lcs(s1,s2,m,n-1)\n",
    "\n",
    "\n",
    "input1 = \"sea\"\n",
    "input2 = \"eaa\"\n",
    "# input1 = \"leetcode\"\n",
    "# input2 = \"eto\"\n",
    "# input1 = \"teacher\"\n",
    "# input2 = \"teacherage\"\n",
    "# input1 = \"teach\"\n",
    "# input2 = \"tempt\"\n",
    "# input1 = \"dinitrophenylhydrazine\"\n",
    "# input2 = \"benzalphenylhydrazone\"\n",
    "sol = Solution()\n",
    "sol.do(input1,input2)"
   ]
  },
  {
   "cell_type": "code",
   "execution_count": 51,
   "metadata": {},
   "outputs": [
    {
     "data": {
      "text/plain": [
       "2"
      ]
     },
     "execution_count": 51,
     "metadata": {},
     "output_type": "execute_result"
    }
   ],
   "source": [
    "def lcs(X, Y, m, n):\n",
    "    # m,n為X,Y字串的長度\n",
    "    # 若m或n為0, 代表沒有lcs\n",
    "    if(m == 0 or n == 0):\n",
    "        return 0\n",
    "    \n",
    "    #比較X[m-1]與Y[n-1], 字串中最後一個字元\n",
    "    #若相等, 則代表只需比較最後一個之前的字串, 再加一(最後一個字元)即可\n",
    "    elif(X[m-1] == Y[n-1]):\n",
    "        return lcs(X, Y, m-1, n-1) + 1\n",
    "    # elif(X[0] == Y[0]):\n",
    "    #     return lcs(X, Y, m-1, n-1) + 1\n",
    "    #若不相等, 就不必比較最後一個字元\n",
    "    else:\n",
    "        return max(lcs(X, Y, m, n-1), lcs(X, Y, m-1, n))\n",
    "\n",
    "lcs(\"abcd\", \"aed\", 4, 3)"
   ]
  },
  {
   "cell_type": "code",
   "execution_count": 49,
   "metadata": {},
   "outputs": [
    {
     "name": "stdout",
     "output_type": "stream",
     "text": [
      "7\n"
     ]
    }
   ],
   "source": [
    "class Solution(object):\n",
    "    def do(self,word1,word2):\n",
    "        m = len(word1)\n",
    "        n = len(word2)\n",
    "        dp = [[0]*(n) for _ in range(m)]\n",
    "        # print(dp)\n",
    "        for i in range(m):\n",
    "            for j in range(n):\n",
    "                if word1[i] == word2[j]:\n",
    "                    if i == 0 or j == 0:\n",
    "                        dp[i][j] = 1\n",
    "                    else:\n",
    "                        dp[i][j] = dp[i-1][j-1] + 1\n",
    "                    # dp[i][j] = dp[i-1][j-1] + 1\n",
    "                if i>0:\n",
    "                    dp[i][j] = max(dp[i][j],dp[i-1][j])\n",
    "                if j>0:\n",
    "                    dp[i][j] = max(dp[i][j],dp[i][j-1])\n",
    "                # else:\n",
    "                #     dp[i][j] = max(dp[i-1][j],dp[i][j-1])\n",
    "        print(dp[-1][-1])\n",
    "\n",
    "class Solution(object):\n",
    "    def do(self,word1,word2):\n",
    "        m = len(word1)\n",
    "        n = len(word2)\n",
    "        dp = [[0]*(n+1) for _ in range(m+1)]\n",
    "        # print(dp)\n",
    "        for i in range(m):\n",
    "            for j in range(n):\n",
    "                if word1[i] == word2[j]:\n",
    "                    dp[i+1][j+1] = dp[i][j] + 1\n",
    "                else:\n",
    "                    dp[i+1][j+1] = max(dp[i][j+1],dp[i+1][j])\n",
    "        print(dp[-1][-1])\n",
    "        \n",
    "\n",
    "\n",
    "# input1 = \"sea\"\n",
    "# input2 = \"eaa\"\n",
    "# input1 = \"leetcode\"\n",
    "# input2 = \"eto\"\n",
    "input1 = \"teacher\"\n",
    "input2 = \"teacherage\"\n",
    "# input1 = \"teach\"\n",
    "# input2 = \"tempt\"\n",
    "# input1 = \"dinitrophenylhydrazine\"\n",
    "# input2 = \"benzalphenylhydrazone\"\n",
    "sol = Solution()\n",
    "sol.do(input1,input2)"
   ]
  },
  {
   "cell_type": "markdown",
   "metadata": {},
   "source": [
    "# Test\n",
    "Video Stitching"
   ]
  },
  {
   "cell_type": "markdown",
   "metadata": {},
   "source": [
    "You are given a series of video clips from a sporting event that lasted time seconds. These video clips can be overlapping with each other and have varying lengths.\n",
    "\n",
    "Each video clip is described by an array clips where clips[i] = [starti, endi] indicates that the ith clip started at starti and ended at endi.\n",
    "\n",
    "We can cut these clips into segments freely.\n",
    "\n",
    "For example, a clip [0, 7] can be cut into segments [0, 1] + [1, 3] + [3, 7].\n",
    "Return the minimum number of clips needed so that we can cut the clips into segments that cover the entire sporting event [0, time]. If the task is impossible, return -1.\n",
    "\n",
    " \n",
    "\n",
    "Example 1:\n",
    "\n",
    "Input: clips = [[0,2],[4,6],[8,10],[1,9],[1,5],[5,9]], time = 10\n",
    "Output: 3\n",
    "Explanation: We take the clips [0,2], [8,10], [1,9]; a total of 3 clips.\n",
    "Then, we can reconstruct the sporting event as follows:\n",
    "We cut [1,9] into segments [1,2] + [2,8] + [8,9].\n",
    "Now we have segments [0,2] + [2,8] + [8,10] which cover the sporting event [0, 10].\n",
    "Example 2:\n",
    "\n",
    "Input: clips = [[0,1],[1,2]], time = 5\n",
    "Output: -1\n",
    "Explanation: We cannot cover [0,5] with only [0,1] and [1,2].\n",
    "Example 3:\n",
    "\n",
    "Input: clips = [[0,1],[6,8],[0,2],[5,6],[0,4],[0,3],[6,7],[1,3],[4,7],[1,4],[2,5],[2,6],[3,4],[4,5],[5,7],[6,9]], time = 9\n",
    "Output: 3\n",
    "Explanation: We can take clips [0,4], [4,7], and [6,9].\n",
    " \n",
    "\n",
    "Constraints:\n",
    "\n",
    "1 <= clips.length <= 100\n",
    "0 <= starti <= endi <= 100\n",
    "1 <= time <= 100"
   ]
  },
  {
   "cell_type": "code",
   "execution_count": 73,
   "metadata": {},
   "outputs": [
    {
     "name": "stdout",
     "output_type": "stream",
     "text": [
      "[[0, 2], [1, 5], [1, 9], [4, 6], [5, 9], [8, 10]]\n",
      "[0, 2]\n",
      "0 2\n",
      "[1, 5]\n",
      "2 5\n",
      "[1, 9]\n",
      "2 9\n",
      "[4, 6]\n",
      "9 9\n",
      "[5, 9]\n",
      "9 9\n",
      "[8, 10]\n",
      "9 10\n"
     ]
    },
    {
     "data": {
      "text/plain": [
       "3"
      ]
     },
     "execution_count": 73,
     "metadata": {},
     "output_type": "execute_result"
    }
   ],
   "source": [
    "class Solution(object):\n",
    "    # def vs(self,clips,time):\n",
    "    #     fill = []\n",
    "    #     for start,end in clips:\n",
    "    #         if start\n",
    "\n",
    "    #     return includes\n",
    "    def vs(self, clips, T):\n",
    "        end, end2, res = -1, 0, 0\n",
    "        print(sorted(clips))\n",
    "        for i, j in sorted(clips):\n",
    "            print([i,j])\n",
    "            if end2 >= T or i > end2:\n",
    "                break\n",
    "            elif end < i <= end2:\n",
    "                res, end = res + 1, end2\n",
    "            end2 = max(end2, j)\n",
    "            print(end,end2)\n",
    "        return res if end2 >= T else -1\n",
    "\n",
    "\n",
    "input1 = [[0,2],[4,6],[8,10],[1,9],[1,5],[5,9]]\n",
    "input2 = 10\n",
    "sol = Solution()\n",
    "sol.vs(input1,input2)"
   ]
  },
  {
   "cell_type": "markdown",
   "metadata": {},
   "source": [
    "# Test\n",
    "N-th Tribonacci Sequence"
   ]
  },
  {
   "cell_type": "markdown",
   "metadata": {},
   "source": [
    "The Tribonacci sequence Tn is defined as follows: \n",
    "\n",
    "T0 = 0, T1 = 1, T2 = 1, and Tn+3 = Tn + Tn+1 + Tn+2 for n >= 0.\n",
    "\n",
    "Given n, return the value of Tn.\n",
    "\n",
    " \n",
    "\n",
    "Example 1:\n",
    "\n",
    "Input: n = 4\n",
    "Output: 4\n",
    "Explanation:\n",
    "T_3 = 0 + 1 + 1 = 2\n",
    "T_4 = 1 + 1 + 2 = 4\n",
    "Example 2:\n",
    "\n",
    "Input: n = 25\n",
    "Output: 1389537\n",
    " \n",
    "\n",
    "Constraints:\n",
    "\n",
    "0 <= n <= 37\n",
    "The answer is guaranteed to fit within a 32-bit integer, ie. answer <= 2^31 - 1."
   ]
  },
  {
   "cell_type": "code",
   "execution_count": 3,
   "metadata": {},
   "outputs": [
    {
     "ename": "ImportError",
     "evalue": "You must be root to use this library on linux.",
     "output_type": "error",
     "traceback": [
      "\u001b[0;31m---------------------------------------------------------------------------\u001b[0m",
      "\u001b[0;31mImportError\u001b[0m                               Traceback (most recent call last)",
      "\u001b[0;32m/tmp/ipykernel_20233/2144387048.py\u001b[0m in \u001b[0;36m<module>\u001b[0;34m\u001b[0m\n\u001b[1;32m      2\u001b[0m \u001b[0;34m\u001b[0m\u001b[0m\n\u001b[1;32m      3\u001b[0m \u001b[0;32mwhile\u001b[0m \u001b[0;32mTrue\u001b[0m\u001b[0;34m:\u001b[0m\u001b[0;34m\u001b[0m\u001b[0;34m\u001b[0m\u001b[0m\n\u001b[0;32m----> 4\u001b[0;31m     \u001b[0;32mif\u001b[0m \u001b[0mkeyboard\u001b[0m\u001b[0;34m.\u001b[0m\u001b[0mread_key\u001b[0m\u001b[0;34m(\u001b[0m\u001b[0;34m)\u001b[0m \u001b[0;34m==\u001b[0m \u001b[0;34m\"p\"\u001b[0m\u001b[0;34m:\u001b[0m\u001b[0;34m\u001b[0m\u001b[0;34m\u001b[0m\u001b[0m\n\u001b[0m\u001b[1;32m      5\u001b[0m         \u001b[0mprint\u001b[0m\u001b[0;34m(\u001b[0m\u001b[0;34m\"You pressed p\"\u001b[0m\u001b[0;34m)\u001b[0m\u001b[0;34m\u001b[0m\u001b[0;34m\u001b[0m\u001b[0m\n\u001b[1;32m      6\u001b[0m         \u001b[0;32mbreak\u001b[0m\u001b[0;34m\u001b[0m\u001b[0;34m\u001b[0m\u001b[0m\n",
      "\u001b[0;32m~/Documents/efficientnet_env/lib/python3.8/site-packages/keyboard/__init__.py\u001b[0m in \u001b[0;36mread_key\u001b[0;34m(suppress)\u001b[0m\n",
      "\u001b[0;32m~/Documents/efficientnet_env/lib/python3.8/site-packages/keyboard/__init__.py\u001b[0m in \u001b[0;36mread_event\u001b[0;34m(suppress)\u001b[0m\n",
      "\u001b[0;32m~/Documents/efficientnet_env/lib/python3.8/site-packages/keyboard/__init__.py\u001b[0m in \u001b[0;36mhook\u001b[0;34m(callback, suppress, on_remove)\u001b[0m\n",
      "\u001b[0;32m~/Documents/efficientnet_env/lib/python3.8/site-packages/keyboard/_generic.py\u001b[0m in \u001b[0;36madd_handler\u001b[0;34m(self, handler)\u001b[0m\n",
      "\u001b[0;32m~/Documents/efficientnet_env/lib/python3.8/site-packages/keyboard/_generic.py\u001b[0m in \u001b[0;36mstart_if_necessary\u001b[0;34m(self)\u001b[0m\n",
      "\u001b[0;32m~/Documents/efficientnet_env/lib/python3.8/site-packages/keyboard/__init__.py\u001b[0m in \u001b[0;36minit\u001b[0;34m(self)\u001b[0m\n",
      "\u001b[0;32m~/Documents/efficientnet_env/lib/python3.8/site-packages/keyboard/_nixkeyboard.py\u001b[0m in \u001b[0;36minit\u001b[0;34m()\u001b[0m\n",
      "\u001b[0;32m~/Documents/efficientnet_env/lib/python3.8/site-packages/keyboard/_nixkeyboard.py\u001b[0m in \u001b[0;36mbuild_device\u001b[0;34m()\u001b[0m\n",
      "\u001b[0;32m~/Documents/efficientnet_env/lib/python3.8/site-packages/keyboard/_nixcommon.py\u001b[0m in \u001b[0;36mensure_root\u001b[0;34m()\u001b[0m\n",
      "\u001b[0;31mImportError\u001b[0m: You must be root to use this library on linux."
     ]
    }
   ],
   "source": [
    "import keyboard\n",
    "\n",
    "while True:\n",
    "    if keyboard.read_key() == \"p\":\n",
    "        print(\"You pressed p\")\n",
    "        break\n",
    "\n",
    "while True:\n",
    "    if keyboard.is_pressed(\"q\"):\n",
    "        print(\"You pressed q\")\n",
    "        break"
   ]
  },
  {
   "cell_type": "markdown",
   "metadata": {},
   "source": [
    "# Test\n",
    "Climbing stair"
   ]
  },
  {
   "cell_type": "markdown",
   "metadata": {},
   "source": [
    "You are climbing a staircase. It takes n steps to reach the top.\n",
    "\n",
    "Each time you can either climb 1 or 2 steps. In how many distinct ways can you climb to the top?\n",
    "\n",
    " \n",
    "\n",
    "Example 1:\n",
    "\n",
    "Input: n = 2\n",
    "Output: 2\n",
    "Explanation: There are two ways to climb to the top.\n",
    "1. 1 step + 1 step\n",
    "2. 2 steps\n",
    "Example 2:\n",
    "\n",
    "Input: n = 3\n",
    "Output: 3\n",
    "Explanation: There are three ways to climb to the top.\n",
    "1. 1 step + 1 step + 1 step\n",
    "2. 1 step + 2 steps\n",
    "3. 2 steps + 1 step\n",
    " \n",
    "\n",
    "Constraints:\n",
    "\n",
    "1 <= n <= 45"
   ]
  },
  {
   "cell_type": "code",
   "execution_count": 25,
   "metadata": {},
   "outputs": [
    {
     "name": "stdout",
     "output_type": "stream",
     "text": [
      "1 1\n",
      "2 2\n",
      "3 3\n",
      "4 5\n",
      "5 8\n",
      "6 13\n",
      "7 21\n",
      "8 34\n",
      "9 55\n",
      "10 89\n",
      "11 144\n",
      "12 233\n",
      "13 377\n",
      "14 610\n",
      "15 987\n",
      "16 1597\n",
      "17 2584\n",
      "18 4181\n",
      "19 6765\n",
      "20 10946\n",
      "21 17711\n",
      "22 28657\n",
      "23 46368\n",
      "24 75025\n",
      "25 121393\n",
      "26 196418\n",
      "27 317811\n",
      "28 514229\n",
      "29 832040\n",
      "30 1346269\n",
      "31 2178309\n",
      "32 3524578\n",
      "33 5702887\n",
      "34 9227465\n",
      "35 14930352\n",
      "36 24157817\n",
      "37 39088169\n",
      "38 63245986\n",
      "39 102334155\n",
      "40 165580141\n",
      "41 267914296\n",
      "42 433494437\n",
      "43 701408733\n",
      "44 1134903170\n",
      "45 1836311903\n",
      "{1: 1, 2: 2, 3: 3, 4: 5, 5: 8, 6: 13, 7: 21, 8: 34, 9: 55, 10: 89, 11: 144, 12: 233, 13: 377, 14: 610, 15: 987, 16: 1597, 17: 2584, 18: 4181, 19: 6765, 20: 10946, 21: 17711, 22: 28657, 23: 46368, 24: 75025, 25: 121393, 26: 196418, 27: 317811, 28: 514229, 29: 832040, 30: 1346269, 31: 2178309, 32: 3524578, 33: 5702887, 34: 9227465, 35: 14930352, 36: 24157817, 37: 39088169, 38: 63245986, 39: 102334155, 40: 165580141, 41: 267914296, 42: 433494437, 43: 701408733, 44: 1134903170, 45: 1836311903}\n"
     ]
    },
    {
     "data": {
      "text/plain": [
       "1836311903"
      ]
     },
     "execution_count": 25,
     "metadata": {},
     "output_type": "execute_result"
    }
   ],
   "source": [
    "class Solution(object):\n",
    "    def cs(self, n):\n",
    "        self.dic = {}\n",
    "        for i in range(1,n+1):\n",
    "            self.methods = 0\n",
    "            if self.dic.get(i-1,None) and self.dic.get(i-2,None):\n",
    "                self.methods = self.dic.get(i-1,None) + self.dic.get(i-2,None)\n",
    "            else:self.climb(0,i)\n",
    "            self.dic[i] = self.methods\n",
    "            # print(i,self.methods)\n",
    "        # self.climb(0,n)\n",
    "        # print(self.dic)\n",
    "        return self.methods\n",
    "    def climb(self,stepnumber,n):\n",
    "        if stepnumber == n:\n",
    "            self.methods += 1\n",
    "            return\n",
    "        if stepnumber == n-1:self.climb(stepnumber+1,n)\n",
    "        else:\n",
    "            self.climb(stepnumber+1,n)\n",
    "            self.climb(stepnumber+2,n)\n",
    "\n",
    "input = 45\n",
    "sol = Solution()\n",
    "sol.cs(input)"
   ]
  },
  {
   "cell_type": "markdown",
   "metadata": {},
   "source": [
    "# Test\n",
    "Partition Array for Maximum Sum"
   ]
  },
  {
   "cell_type": "markdown",
   "metadata": {},
   "source": [
    "Given an integer array arr, partition the array into (contiguous) subarrays of length at most k. After partitioning, each subarray has their values changed to become the maximum value of that subarray.\n",
    "\n",
    "Return the largest sum of the given array after partitioning. Test cases are generated so that the answer fits in a 32-bit integer.\n",
    "\n",
    " \n",
    "\n",
    "Example 1:\n",
    "\n",
    "Input: arr = [1,15,7,9,2,5,10], k = 3\n",
    "Output: 84\n",
    "Explanation: arr becomes [15,15,15,9,10,10,10]\n",
    "Example 2:\n",
    "\n",
    "Input: arr = [1,4,1,5,7,3,6,1,9,9,3], k = 4\n",
    "[1,7,7,7,7,9,9,9,9,9,9]\n",
    "Output: 83\n",
    "Example 3:\n",
    "\n",
    "Input: arr = [1], k = 1\n",
    "Output: 1\n",
    " \n",
    "\n",
    "Constraints:\n",
    "\n",
    "1 <= arr.length <= 500\n",
    "0 <= arr[i] <= 109\n",
    "1 <= k <= arr.length"
   ]
  },
  {
   "cell_type": "code",
   "execution_count": 35,
   "metadata": {},
   "outputs": [
    {
     "data": {
      "text/plain": [
       "467"
      ]
     },
     "execution_count": 35,
     "metadata": {},
     "output_type": "execute_result"
    }
   ],
   "source": [
    "class Solution(object):\n",
    "    def pa(self, arr, k):\n",
    "        self.maxvalue = 0\n",
    "        self.dic = {}\n",
    "        self.search(arr, k, 0, 0)\n",
    "        return self.maxvalue#,self.dic\n",
    "\n",
    "    def search(self, arr, k, order, res):\n",
    "        # print(order)\n",
    "        self.dic[order] = max(self.dic.get(order,0),res)\n",
    "        if res < self.dic[order]:\n",
    "            return\n",
    "        if len(arr) == order:\n",
    "            self.maxvalue = max(res,self.maxvalue)\n",
    "            return \n",
    "        if len(arr)-order < k:\n",
    "            for i in range(1,len(arr)-order+1):\n",
    "                # print(order+i, res+max(arr[order:order+i])*i)\n",
    "                self.search(arr, k, order+i, res+max(arr[order:order+i])*i )\n",
    "        else:\n",
    "            for i in range(1,k+1):\n",
    "                # print(order+i, res+max(arr[order:order+i])*i)\n",
    "                self.search(arr, k, order+i, res+max(arr[order:order+i])*i )\n",
    "\n",
    "# input1 = [1,15,7,9,2,5,10]\n",
    "# input2 = 3\n",
    "input1 = [1,4,1,5,7,3,6,1,9,9,3,4,1,5,7,3,6,1,9,9,3,4,1,3,6,1,9,9,3,4,1,3,6,1,9,9,3,4,1,3,6,1,9,9,3,4,1,3,6,3,6,3,6,3,6]\n",
    "input2 = 6\n",
    "sol = Solution()\n",
    "sol.pa(input1,input2)"
   ]
  },
  {
   "cell_type": "code",
   "execution_count": 60,
   "metadata": {},
   "outputs": [
    {
     "data": {
      "text/plain": [
       "[0, 1, 30, 45, 54, 63, 72, 84]"
      ]
     },
     "execution_count": 60,
     "metadata": {},
     "output_type": "execute_result"
    }
   ],
   "source": [
    "class Solution(object):\n",
    "    def pa(self, arr, K):\n",
    "        n = len(arr)\n",
    "        dp = [0] * (n + 1)\n",
    "        for i in range(1, n + 1):\n",
    "            curMax = 0\n",
    "            for k in range(1, min(K, i) + 1):\n",
    "                curMax = max(curMax, arr[i - k])\n",
    "                dp[i] = max(dp[i], dp[i - k] + curMax * k)\n",
    "        return dp\n",
    "\n",
    "input1 = [1,15,7,9,2,5,10]\n",
    "input2 = 3\n",
    "# input1 = [1,4,1,5,7,3,6,1,9,9,3,4,1,5,7,3,6,1,9,9,3,4,1,3,6,1,9,9,3,4,1,3,6,1,9,9,3,4,1,3,6,1,9,9,3,4,1,3,6,3,6,3,6,3,6]\n",
    "# input2 = 6\n",
    "sol = Solution()\n",
    "sol.pa(input1,input2)"
   ]
  },
  {
   "cell_type": "code",
   "execution_count": 73,
   "metadata": {},
   "outputs": [
    {
     "data": {
      "text/plain": [
       "495"
      ]
     },
     "execution_count": 73,
     "metadata": {},
     "output_type": "execute_result"
    }
   ],
   "source": [
    "class Solution(object):\n",
    "    def pa(self, arr, k):\n",
    "        n = len(arr)\n",
    "        dp = [0]*(n+1)\n",
    "        for i in range(len(arr)):\n",
    "            nextMax = 0\n",
    "            for j in range(1,min(k+1,n-i+1)):\n",
    "                nextMax = max(nextMax,arr[i+j-1])\n",
    "                dp[i+j] = max(dp[i+j],dp[i]+nextMax*j)\n",
    "        return dp[-1]\n",
    "\n",
    "# input1 = [1,15,7,9,2,5,10]\n",
    "# input2 = 3\n",
    "input1 = [1,4,1,5,7,3,6,1,9,9,3,4,1,5,7,3,6,1,9,9,3,4,1,3,6,1,9,9,3,4,1,3,6,1,9,9,3,4,1,3,6,1,9,9,3,4,1,3,6,3,6,3,6,3,6]\n",
    "input2 = 16\n",
    "sol = Solution()\n",
    "sol.pa(input1,input2)"
   ]
  },
  {
   "cell_type": "code",
   "execution_count": 72,
   "metadata": {},
   "outputs": [
    {
     "data": {
      "text/plain": [
       "495"
      ]
     },
     "execution_count": 72,
     "metadata": {},
     "output_type": "execute_result"
    }
   ],
   "source": [
    "class Solution(object):\n",
    "    def pa(self, arr, k):\n",
    "        n = len(arr)\n",
    "        dp = [0]*(n+1)\n",
    "        for i in range(1,n+1):\n",
    "            currMax = 0\n",
    "            for j in range(1,min(k+1,i+1)):\n",
    "                currMax = max(currMax,arr[i-j])\n",
    "                dp[i] = max(dp[i],dp[i-j]+j*currMax)\n",
    "                # print(i,j,k)\n",
    "        return dp[-1]\n",
    "\n",
    "# input1 = [1,15,7,9,2,5,10]\n",
    "# input2 = 3\n",
    "input1 = [1,4,1,5,7,3,6,1,9,9,3,4,1,5,7,3,6,1,9,9,3,4,1,3,6,1,9,9,3,4,1,3,6,1,9,9,3,4,1,3,6,1,9,9,3,4,1,3,6,3,6,3,6,3,6]\n",
    "input2 = 16\n",
    "sol = Solution()\n",
    "sol.pa(input1,input2)"
   ]
  },
  {
   "cell_type": "code",
   "execution_count": 77,
   "metadata": {},
   "outputs": [
    {
     "data": {
      "text/plain": [
       "[72, 84, 63]"
      ]
     },
     "execution_count": 77,
     "metadata": {},
     "output_type": "execute_result"
    }
   ],
   "source": [
    "class Solution(object):\n",
    "    def pa(self, arr, k):\n",
    "        n = len(arr)\n",
    "        dp = [0] * k\n",
    "        for i in range(1, n + 1):\n",
    "            best = curMax = 0\n",
    "            for j in range(1, min(k, i) + 1):\n",
    "                curMax = max(curMax, arr[i - j])\n",
    "                best = max(best, dp[(i - j) % k] + curMax * j)\n",
    "            dp[i % k] = best\n",
    "        return dp\n",
    "\n",
    "input1 = [1,15,7,9,2,5,10]\n",
    "input2 = 3\n",
    "# input1 = [1,4,1,5,7,3,6,1,9,9,3,4,1,5,7,3,6,1,9,9,3,4,1,3,6,1,9,9,3,4,1,3,6,1,9,9,3,4,1,3,6,1,9,9,3,4,1,3,6,3,6,3,6,3,6]\n",
    "# input2 = 16\n",
    "sol = Solution()\n",
    "sol.pa(input1,input2)"
   ]
  },
  {
   "cell_type": "markdown",
   "metadata": {},
   "source": [
    "# Test\n",
    "Unique Binary Search Trees"
   ]
  },
  {
   "cell_type": "markdown",
   "metadata": {},
   "source": [
    "Question:\n",
    "Given n, how many structurally unique BST’s (binary search trees) that store values 1 … n?\n",
    "Input: 3\n",
    "Output: 5\n",
    "Explanation:\n",
    "Given n = 3, there are a total of 5 unique BST's:\n",
    "   1         3       3         2       1\n",
    "    \\        /      /         / \\       \\\n",
    "     3     2       1         1   3       2\n",
    "    /     /         \\                     \\\n",
    "   2     1           2                     3"
   ]
  },
  {
   "cell_type": "code",
   "execution_count": 94,
   "metadata": {},
   "outputs": [
    {
     "data": {
      "text/plain": [
       "[1,\n",
       " 1,\n",
       " 2,\n",
       " 5,\n",
       " 14,\n",
       " 42,\n",
       " 132,\n",
       " 429,\n",
       " 1430,\n",
       " 4862,\n",
       " 16796,\n",
       " 58786,\n",
       " 208012,\n",
       " 742900,\n",
       " 2674440,\n",
       " 9694845,\n",
       " 35357670,\n",
       " 129644790,\n",
       " 477638700,\n",
       " 1767263190,\n",
       " 6564120420]"
      ]
     },
     "execution_count": 94,
     "metadata": {},
     "output_type": "execute_result"
    }
   ],
   "source": [
    "class Solution(object):\n",
    "    def ub(self, n):\n",
    "        dp = [0]*(n+1)\n",
    "        dp[0] = 1\n",
    "        if n == 0:return dp[0]\n",
    "        for i in range(1,n+1):\n",
    "            for j in range(1,i+1):\n",
    "                dp[i] += dp[j-1] * dp[i-j]\n",
    "                # print(i,j)\n",
    "        return dp\n",
    "\n",
    "input1 = 20\n",
    "sol = Solution()\n",
    "sol.ub(input1)"
   ]
  },
  {
   "cell_type": "markdown",
   "metadata": {},
   "source": [
    "# Test\n",
    "Minimum Climbing Stairs"
   ]
  },
  {
   "cell_type": "markdown",
   "metadata": {},
   "source": [
    "You are given an integer array cost where cost[i] is the cost of ith step on a staircase. Once you pay the cost, you can either climb one or two steps.\n",
    "\n",
    "You can either start from the step with index 0, or the step with index 1.\n",
    "\n",
    "Return the minimum cost to reach the top of the floor.\n",
    "\n",
    " \n",
    "\n",
    "Example 1:\n",
    "\n",
    "Input: cost = [10,15,20]\n",
    "Output: 15\n",
    "\n",
    "Explanation: You will start at index 1.\n",
    "- Pay 15 and climb two steps to reach the top.\n",
    "The total cost is 15.\n",
    "\n",
    "Example 2:\n",
    "\n",
    "Input: cost = [1,100,1,1,1,100,1,1,100,1]\n",
    "\n",
    "Output: 6\n",
    "\n",
    "Explanation: You will start at index 0.\n",
    "- Pay 1 and climb two steps to reach index 2.\n",
    "- Pay 1 and climb two steps to reach index 4.\n",
    "- Pay 1 and climb two steps to reach index 6.\n",
    "- Pay 1 and climb one step to reach index 7.\n",
    "- Pay 1 and climb two steps to reach index 9.\n",
    "- Pay 1 and climb one step to reach the top.\n",
    "\n",
    "The total cost is 6.\n",
    " \n",
    "\n",
    "Constraints:\n",
    "\n",
    "2 <= cost.length <= 1000\n",
    "\n",
    "0 <= cost[i] <= 999"
   ]
  },
  {
   "cell_type": "code",
   "execution_count": 7,
   "metadata": {},
   "outputs": [
    {
     "data": {
      "text/plain": [
       "18"
      ]
     },
     "execution_count": 7,
     "metadata": {},
     "output_type": "execute_result"
    }
   ],
   "source": [
    "class Solution(object):\n",
    "    def mcs(self, cost):\n",
    "        self.min_ret = 999*len(cost)\n",
    "        def climb(stair,ret):\n",
    "            if stair > -1:\n",
    "                ret += cost[stair]\n",
    "            if stair >= len(cost)-2:\n",
    "                self.min_ret = min(self.min_ret,ret)\n",
    "                return\n",
    "            climb(stair+1,ret)\n",
    "            climb(stair+2,ret)\n",
    "        climb(-1,0)\n",
    "        return self.min_ret\n",
    "\n",
    "input1 = [1,100,1,1,1,100,1,1,100,1]*3\n",
    "# input1 = [10,15,20]\n",
    "sol = Solution()\n",
    "sol.mcs(input1)"
   ]
  },
  {
   "cell_type": "code",
   "execution_count": 27,
   "metadata": {},
   "outputs": [
    {
     "name": "stdout",
     "output_type": "stream",
     "text": [
      "[9990, 9990, 9990, 9990, 9990, 9990, 9990, 9990, 9990, 9990]\n",
      "[9990, 9990, 9990, 9990, 9990, 9990, 9990, 9990, 9990, 9990]\n",
      "[9990, 100, 9990, 9990, 9990, 9990, 9990, 9990, 9990, 9990]\n",
      "[9990, 100, 9990, 101, 9990, 9990, 9990, 9990, 9990, 9990]\n",
      "[9990, 100, 9990, 101, 9990, 201, 9990, 9990, 9990, 9990]\n",
      "[9990, 100, 9990, 101, 9990, 201, 9990, 202, 9990, 9990]\n",
      "[9990, 100, 9990, 101, 9990, 201, 9990, 202, 9990, 203]\n",
      "[9990, 100, 9990, 101, 9990, 201, 9990, 202, 302, 203]\n",
      "[9990, 100, 9990, 101, 9990, 201, 202, 202, 302, 203]\n",
      "[9990, 100, 9990, 101, 9990, 201, 202, 202, 302, 203]\n",
      "[9990, 100, 9990, 101, 9990, 201, 202, 202, 302, 203]\n",
      "[9990, 100, 9990, 101, 102, 201, 202, 202, 302, 203]\n",
      "[9990, 100, 9990, 101, 102, 201, 103, 202, 302, 203]\n",
      "[9990, 100, 9990, 101, 102, 201, 103, 202, 203, 203]\n",
      "[9990, 100, 9990, 101, 102, 201, 103, 104, 203, 203]\n",
      "[9990, 100, 9990, 101, 102, 201, 103, 104, 203, 105]\n",
      "[9990, 100, 9990, 101, 102, 201, 103, 104, 203, 105]\n",
      "[9990, 100, 9990, 101, 102, 201, 103, 104, 203, 105]\n",
      "[9990, 100, 101, 101, 102, 201, 103, 104, 203, 105]\n",
      "[9990, 100, 101, 101, 102, 201, 103, 104, 203, 105]\n",
      "[9990, 100, 101, 101, 102, 201, 103, 104, 203, 105]\n",
      "[9990, 100, 101, 101, 102, 201, 103, 104, 203, 105]\n",
      "[9990, 100, 101, 101, 102, 201, 103, 104, 203, 105]\n",
      "[9990, 100, 101, 101, 102, 201, 103, 104, 203, 105]\n",
      "[9990, 100, 101, 101, 102, 201, 103, 104, 203, 105]\n",
      "[9990, 100, 101, 101, 102, 201, 103, 104, 203, 105]\n",
      "[9990, 100, 101, 101, 102, 201, 103, 104, 203, 105]\n",
      "[1, 100, 101, 101, 102, 201, 103, 104, 203, 105]\n",
      "[1, 100, 2, 101, 102, 201, 103, 104, 203, 105]\n",
      "[1, 100, 2, 101, 3, 201, 103, 104, 203, 105]\n",
      "[1, 100, 2, 101, 3, 201, 4, 104, 203, 105]\n",
      "[1, 100, 2, 101, 3, 201, 4, 104, 104, 105]\n",
      "[1, 100, 2, 101, 3, 201, 4, 5, 104, 105]\n",
      "[1, 100, 2, 101, 3, 201, 4, 5, 104, 6]\n",
      "[1, 100, 2, 101, 3, 201, 4, 5, 104, 6]\n",
      "[1, 100, 2, 101, 3, 103, 4, 5, 104, 6]\n",
      "[1, 100, 2, 3, 3, 103, 4, 5, 104, 6]\n",
      "[1, 100, 2, 3, 3, 103, 4, 5, 104, 6]\n",
      "[1, 100, 2, 3, 3, 103, 4, 5, 104, 6]\n"
     ]
    },
    {
     "data": {
      "text/plain": [
       "(6, [1, 100, 2, 3, 3, 103, 4, 5, 104, 6])"
      ]
     },
     "execution_count": 27,
     "metadata": {},
     "output_type": "execute_result"
    }
   ],
   "source": [
    "class Solution(object):\n",
    "    def mcs(self, cost):\n",
    "        n = len(cost)\n",
    "        if n == 1:return 0\n",
    "        self.dp = [999*n]*n\n",
    "        def climb(stair,ret):\n",
    "            print(self.dp)\n",
    "            if stair > -1:\n",
    "                ret += cost[stair]\n",
    "                self.dp[stair] = min(self.dp[stair],ret)\n",
    "                if self.dp[stair] < ret:return\n",
    "                if len(self.dp)>stair+2 and self.dp[stair+2] <= ret:return\n",
    "            if stair >= len(cost)-2:\n",
    "                return\n",
    "            climb(stair+2,ret)\n",
    "            climb(stair+1,ret)\n",
    "        climb(-1,0)\n",
    "        return min(self.dp[-1],self.dp[-2]),self.dp\n",
    "\n",
    "input1 = [1,100,1,1,1,100,1,1,100,1]\n",
    "# input1 = [10,15,20]\n",
    "input1 = [841,462,566,398,243,248,238,650,989,576,361,126,334,729,446,897,953,38,195,679,65,707,196,705,569,275,259,872,630,965,978,109,56,523,851,887,91,544,598,963,305,481,959,560,454,883,50,216,732,572,511,156,177,831,122,667,548,978,771,880,922,777,990,498,525,317,469,151,874,202,519,139,670,341,514,469,858,913,94,849,839,813,664,163,3,802,21,634,944,901,446,186,843,742,330,610,932,614,625,169,833,4,81,55,124,294,71,24,929,534,621,543,417,534,427,327,179,90,341,949,368,692,646,290,488,145,273,617,596,82,538,751,80,616,763,826,932,184,630,478,163,925,259,237,839,602,60,786,603,413,816,278,4,35,243,64,631,405,23,638,618,829,481,877,756,482,999,973,718,157,262,752,931,882,741,40,77,535,542,879,607,879,321,46,210,116,244,830,591,285,382,925,48,497,913,203,239,696,162,623,291,525,950,27,546,293,108,577,672,354,256,3,671,998,22,989,557,424,251,923,542,243,46,488,80,374,372,334,190,817,150,742,362,196,75,193,162,645,859,758,433,903,199,289,175,303,475,818,213,576,181,668,243,297,572,549,840,161,292,719,226,338,981,345,203,655,210,65,111,746,76,935,406,646,976,567,32,726,638,674,727,861,426,297,349,464,973,341,452,826,223,805,940,458,468,967,107,345,987,553,407,916,103,324,367,864,74,946,712,596,105,194,79,634,855,703,70,170,543,208,739,632,663,880,857,824,258,743,488,659,647,470,958,492,211,927,356,488,744,570,143,674,502,589,270,80,6,463,506,556,495,713,407,229,689,280,162,454,757,565,267,575,417,948,607,269,852,938,560,24,222,580,604,800,628,487,485,615,796,384,555,226,412,445,503,810,949,966,28,768,83,213,883,963,831,390,951,378,497,440,780,209,734,290,96,398,146,56,445,880,910,858,671,164,552,686,748,738,837,556,710,787,343,137,298,685,909,828,499,816,538,604,652,7,272,729,529,343,443,593,992,434,588,936,261,873,64,177,827,172,712,628,609,328,672,376,628,441,9,92,525,222,654,699,134,506,934,178,270,770,994,158,653,199,833,802,553,399,366,818,523,447,420,957,669,267,118,535,971,180,469,768,184,321,712,167,867,12,660,283,813,498,192,740,696,421,504,795,894,724,562,234,110,88,100,408,104,864,473,59,474,922,759,720,69,490,540,962,461,324,453,91,173,870,470,292,394,771,161,777,287,560,532,339,301,90,411,387,59,67,828,775,882,677,9,393,128,910,630,396,77,321,642,568,817,222,902,680,596,359,639,189,436,648,825,46,699,967,202,954,680,251,455,420,599,20,894,224,47,266,644,943,808,653,563,351,709,116,849,38,870,852,333,829,306,881,203,660,266,540,510,748,840,821,199,250,253,279,672,472,707,921,582,713,900,137,70,912,51,250,188,967,14,608,30,541,424,813,343,297,346,27,774,549,931,141,81,120,342,288,332,967,768,178,230,378,800,408,272,596,560,942,612,910,743,461,425,878,254,929,780,641,657,279,160,184,585,651,204,353,454,536,185,550,428,125,889,436,906,99,942,355,666,746,964,936,661,515,978,492,836,468,867,422,879,92,438,802,276,805,832,649,572,638,43,971,974,804,66,100,792,878,469,585,254,630,309,172,361,906,628,219,534,617,95,190,541,93,477,933,328,984,117,678,746,296,232,240,532,643,901,982,342,918,884,62,68,835,173,493,252,382,862,672,803,803,873,24,431,580,257,457,519,388,218,970,691,287,486,274,942,184,817,405,575,369,591,713,158,264,826,870,561,450,419,606,925,710,758,151,533,405,946,285,86,346,685,153,834,625,745,925,281,805,99,891,122,102,874,491,64,277,277,840,657,443,492,880,925,65,880,393,504,736,340,64,330,318,703,949,950,887,956,39,595,764,176,371,215,601,435,249,86,761,793,201,54,189,451,179,849,760,689,539,453,450,404,852,709,313,529,666,545,399,808,290,848,129,352,846,2,266,777,286,22,898,81,299,786,949,435,434,695,298,402,532,177,399,458,528,672,882,90,547,690,935,424,516,390,346,702,781,644,794,420,116,24,919,467,543,58,938,217,502,169,457,723,122,158,188,109,868,311,708,8,893,853,376,359,223,654,895,877,709,940,195,323,64,51,807,510,170,508,155,724,784,603,67,316,217,148,972,19,658,5,762,618,744,534,956,703,434,302,541,997,214,429,961,648,774,244,684,218,49,729,990,521,948,317,847,76,566,415,874,399,613,816,613,467,191]\n",
    "sol = Solution()\n",
    "sol.mcs(input1)"
   ]
  },
  {
   "cell_type": "code",
   "execution_count": null,
   "metadata": {},
   "outputs": [],
   "source": []
  },
  {
   "cell_type": "markdown",
   "metadata": {},
   "source": [
    "# Test\n",
    "Tribonacci"
   ]
  },
  {
   "cell_type": "markdown",
   "metadata": {},
   "source": [
    "The Tribonacci sequence Tn is defined as follows: \n",
    "\n",
    "T0 = 0, T1 = 1, T2 = 1, and Tn+3 = Tn + Tn+1 + Tn+2 for n >= 0.\n",
    "\n",
    "Given n, return the value of Tn.\n",
    "\n",
    " \n",
    "\n",
    "Example 1:\n",
    "\n",
    "Input: n = 4\n",
    "Output: 4\n",
    "Explanation:\n",
    "T_3 = 0 + 1 + 1 = 2\n",
    "T_4 = 1 + 1 + 2 = 4\n",
    "Example 2:\n",
    "\n",
    "Input: n = 25\n",
    "Output: 1389537\n",
    " \n",
    "\n",
    "Constraints:\n",
    "\n",
    "0 <= n <= 37\n",
    "The answer is guaranteed to fit within a 32-bit integer, ie. answer <= 2^31 - 1."
   ]
  },
  {
   "cell_type": "code",
   "execution_count": 19,
   "metadata": {},
   "outputs": [
    {
     "data": {
      "text/plain": [
       "1389537"
      ]
     },
     "execution_count": 19,
     "metadata": {},
     "output_type": "execute_result"
    }
   ],
   "source": [
    "class Solution(object):\n",
    "    def tb(self, n):\n",
    "        dp = [0]*(n+1)\n",
    "        dp[:3] = [0,1,1]\n",
    "        for i in range(3,n+1):\n",
    "            dp[i] = dp[i-1]+dp[i-2]+dp[i-3]\n",
    "        return dp[n]\n",
    "\n",
    "input1 = 25\n",
    "# input1 = 4\n",
    "sol = Solution()\n",
    "sol.tb(input1)"
   ]
  },
  {
   "cell_type": "markdown",
   "metadata": {},
   "source": [
    "# Test\n",
    "Best Sightseeing Pair"
   ]
  },
  {
   "cell_type": "markdown",
   "metadata": {},
   "source": [
    "You are given an integer array values where values[i] represents the value of the ith sightseeing spot. Two sightseeing spots i and j have a distance j - i between them.\n",
    "\n",
    "The score of a pair (i < j) of sightseeing spots is values[i] + values[j] + i - j: the sum of the values of the sightseeing spots, minus the distance between them.\n",
    "\n",
    "Return the maximum score of a pair of sightseeing spots.\n",
    "\n",
    " \n",
    "\n",
    "Example 1:\n",
    "\n",
    "Input: values = [8,1,5,2,6]\n",
    "Output: 11\n",
    "Explanation: i = 0, j = 2, values[i] + values[j] + i - j = 8 + 5 + 0 - 2 = 11\n",
    "Example 2:\n",
    "\n",
    "Input: values = [1,2]\n",
    "Output: 2\n",
    " \n",
    "\n",
    "Constraints:\n",
    "\n",
    "2 <= values.length <= 5 * 104\n",
    "1 <= values[i] <= 1000"
   ]
  },
  {
   "cell_type": "code",
   "execution_count": 44,
   "metadata": {},
   "outputs": [
    {
     "name": "stdout",
     "output_type": "stream",
     "text": [
      "9\n",
      "0 1\n",
      "----\n",
      "8\n",
      "0 2\n",
      "----\n",
      "7\n",
      "0 3\n",
      "----\n",
      "6\n",
      "0 4\n",
      "----\n"
     ]
    },
    {
     "data": {
      "text/plain": [
       "16"
      ]
     },
     "execution_count": 44,
     "metadata": {},
     "output_type": "execute_result"
    }
   ],
   "source": [
    "class Solution(object):\n",
    "    def bs(self, values):\n",
    "        n = len(values)\n",
    "        max_val = values[0]-1\n",
    "        dp = [0]*n\n",
    "        i = 0\n",
    "        for j in range(1,n):\n",
    "            max_val = max(max_val-1,values[j-1]-1)\n",
    "            # print(max_val)\n",
    "            if max_val == values[j-1]-1:i=j-1\n",
    "            # print(i,j)\n",
    "            # print(\"----\")\n",
    "            dp[j] = max(dp[j-1],values[i]+values[j]+i-j)\n",
    "        return dp[-1]\n",
    "\n",
    "input1 = [8,1,5,2,6]\n",
    "input1 = [7,2,6,6,9,4,3]\n",
    "input1 = [4,7,5,8]\n",
    "input1 = [10,4,6,4,10]\n",
    "# input1 = [1,2]\n",
    "sol = Solution()\n",
    "sol.bs(input1)"
   ]
  },
  {
   "cell_type": "code",
   "execution_count": 52,
   "metadata": {},
   "outputs": [
    {
     "data": {
      "text/plain": [
       "16"
      ]
     },
     "execution_count": 52,
     "metadata": {},
     "output_type": "execute_result"
    }
   ],
   "source": [
    "class Solution(object):\n",
    "    def bs(self, values):\n",
    "        n = len(values)\n",
    "        max_val = values[0]-1\n",
    "        dp = [0]*n\n",
    "        for j in range(1,n):\n",
    "            max_val = max(max_val-1,values[j-1]-1)\n",
    "            # print(max_val)\n",
    "            # print(j)\n",
    "            # print(\"----\")\n",
    "            dp[j] = max_val+values[j]\n",
    "        return max(dp)\n",
    "\n",
    "input1 = [8,1,5,2,6]\n",
    "input1 = [7,2,6,6,9,4,3]\n",
    "input1 = [4,7,5,8]\n",
    "input1 = [10,4,6,4,10]\n",
    "# input1 = [1,2]\n",
    "sol = Solution()\n",
    "sol.bs(input1)"
   ]
  },
  {
   "cell_type": "markdown",
   "metadata": {},
   "source": [
    "Minimun Falling Path Sum"
   ]
  },
  {
   "cell_type": "code",
   "execution_count": 57,
   "metadata": {},
   "outputs": [
    {
     "data": {
      "text/plain": [
       "12"
      ]
     },
     "execution_count": 57,
     "metadata": {},
     "output_type": "execute_result"
    }
   ],
   "source": [
    "class Solution(object):\n",
    "    def mf(self, A):\n",
    "        for i in range(1,len(A)):\n",
    "            for j in range(len(A)):\n",
    "                if j == 0:A[i][j] = A[i][j] + min(A[i-1][j],A[i-1][j+1])\n",
    "                elif j == len(A)-1:A[i][j] = A[i][j] + min(A[i-1][j],A[i-1][j-1])\n",
    "                else:A[i][j] = A[i][j] + min(A[i-1][j-1],A[i-1][j],A[i-1][j+1])\n",
    "        return min(A[-1])\n",
    "\n",
    "input1 = [[1,2,3],[4,5,6],[7,8,9]]\n",
    "# input1 = [1,2]\n",
    "sol = Solution()\n",
    "sol.mf(input1)"
   ]
  },
  {
   "cell_type": "markdown",
   "metadata": {},
   "source": [
    "Two Sum II — Input array is sorted"
   ]
  },
  {
   "cell_type": "code",
   "execution_count": 64,
   "metadata": {},
   "outputs": [
    {
     "data": {
      "text/plain": [
       "[1, 4]"
      ]
     },
     "execution_count": 64,
     "metadata": {},
     "output_type": "execute_result"
    }
   ],
   "source": [
    "class Solution(object):\n",
    "    def ts(self, numbers,target):\n",
    "        j = 1\n",
    "        while j < len(numbers):\n",
    "            i = j-1\n",
    "            while i >= 0:\n",
    "                if numbers[i]+numbers[j]==target:return [i+1,j+1]\n",
    "                elif numbers[i]+numbers[j]>target:i-=1\n",
    "                else:break\n",
    "            j+=1\n",
    "\n",
    "input1 = [2,7,11,15]\n",
    "input2 = 17\n",
    "# input1 = [1,2]\n",
    "sol = Solution()\n",
    "sol.ts(input1,input2)"
   ]
  },
  {
   "cell_type": "markdown",
   "metadata": {},
   "source": [
    "Simplify Path"
   ]
  },
  {
   "cell_type": "code",
   "execution_count": 99,
   "metadata": {},
   "outputs": [
    {
     "data": {
      "text/plain": [
       "'/a/c'"
      ]
     },
     "execution_count": 99,
     "metadata": {},
     "output_type": "execute_result"
    }
   ],
   "source": [
    "class Solution(object):\n",
    "    def sp(self, path):\n",
    "        out = \"\"\n",
    "        for folder in path.split(\"/\"):\n",
    "            if folder.isalpha():out += \"/\"+folder\n",
    "            elif folder == \"..\":out = out[:len(out.split(\"/\")[-1])+1]\n",
    "        if out == \"\":return \"/\"\n",
    "        return out\n",
    "        \n",
    "\n",
    "input1 = \"/home/aass/../\"\n",
    "input1 = \"/../../a/.././..\"\n",
    "input1 = \"/../\"\n",
    "input1 = \"/a/../../b/../c//.//\"\n",
    "sol = Solution()\n",
    "sol.sp(input1)"
   ]
  },
  {
   "cell_type": "markdown",
   "metadata": {},
   "source": [
    "# Test\n",
    "Beautifil arrangement"
   ]
  },
  {
   "cell_type": "markdown",
   "metadata": {},
   "source": [
    "Suppose you have n integers labeled 1 through n. A permutation of those n integers perm (1-indexed) is considered a beautiful arrangement if for every i (1 <= i <= n), either of the following is true:\n",
    "\n",
    "perm[i] is divisible by i.\n",
    "i is divisible by perm[i].\n",
    "Given an integer n, return the number of the beautiful arrangements that you can construct.\n",
    "\n",
    " \n",
    "\n",
    "Example 1:\n",
    "\n",
    "Input: n = 2\n",
    "Output: 2\n",
    "Explanation: \n",
    "The first beautiful arrangement is [1,2]:\n",
    "    - perm[1] = 1 is divisible by i = 1\n",
    "    - perm[2] = 2 is divisible by i = 2\n",
    "The second beautiful arrangement is [2,1]:\n",
    "    - perm[1] = 2 is divisible by i = 1\n",
    "    - i = 2 is divisible by perm[2] = 1\n",
    "Example 2:\n",
    "\n",
    "Input: n = 1\n",
    "Output: 1\n",
    " \n",
    "\n",
    "Constraints:\n",
    "\n",
    "1 <= n <= 15"
   ]
  },
  {
   "cell_type": "code",
   "execution_count": 138,
   "metadata": {},
   "outputs": [
    {
     "data": {
      "text/plain": [
       "10"
      ]
     },
     "execution_count": 138,
     "metadata": {},
     "output_type": "execute_result"
    }
   ],
   "source": [
    "class Solution(object):\n",
    "    def ba(self, n):\n",
    "        nums = [i for i in range(1,n+1)]\n",
    "        self.out = 0\n",
    "        def per(lists,res):\n",
    "            if res == []:\n",
    "                self.out += 1\n",
    "            for i in range(len(res)):\n",
    "                if res[i]%(len(lists)+1) == 0 or (len(lists)+1)%res[i] == 0:\n",
    "                    per(lists+[res[i]],res[:i]+res[i+1:])\n",
    "        per([],nums)\n",
    "        return self.out\n",
    "        \n",
    "\n",
    "input1 = 5\n",
    "sol = Solution()\n",
    "sol.ba(input1)"
   ]
  },
  {
   "cell_type": "code",
   "execution_count": 136,
   "metadata": {},
   "outputs": [
    {
     "data": {
      "text/plain": [
       "0"
      ]
     },
     "execution_count": 136,
     "metadata": {},
     "output_type": "execute_result"
    }
   ],
   "source": [
    "6%3"
   ]
  },
  {
   "cell_type": "markdown",
   "metadata": {},
   "source": [
    "# Test\n",
    "Perfect Squares"
   ]
  },
  {
   "cell_type": "markdown",
   "metadata": {},
   "source": [
    "Given an integer n, return the least number of perfect square numbers that sum to n.\n",
    "\n",
    "A perfect square is an integer that is the square of an integer; in other words, it is the product of some integer with itself. For example, 1, 4, 9, and 16 are perfect squares while 3 and 11 are not.\n",
    "\n",
    " \n",
    "\n",
    "Example 1:\n",
    "\n",
    "Input: n = 12\n",
    "Output: 3\n",
    "Explanation: 12 = 4 + 4 + 4.\n",
    "Example 2:\n",
    "\n",
    "Input: n = 13\n",
    "Output: 2\n",
    "Explanation: 13 = 4 + 9.\n",
    " \n",
    "\n",
    "Constraints:\n",
    "\n",
    "1 <= n <= 104"
   ]
  },
  {
   "cell_type": "code",
   "execution_count": 185,
   "metadata": {},
   "outputs": [
    {
     "data": {
      "text/plain": [
       "4"
      ]
     },
     "execution_count": 185,
     "metadata": {},
     "output_type": "execute_result"
    }
   ],
   "source": [
    "class Solution(object):\n",
    "    def ps(self, n):\n",
    "        nums = [i for i in range(int((n)**0.5),0,-1)]\n",
    "        self.min_add = n\n",
    "        def bfs(lists,sum,add):\n",
    "            if self.min_add <= add:return\n",
    "            if sum>n:return\n",
    "            elif sum==n:\n",
    "                self.min_add = add\n",
    "                return\n",
    "            for i in range(len(lists)):\n",
    "                bfs(lists,sum+lists[i]**2,add+1)\n",
    "        bfs(nums,0,0)\n",
    "        return self.min_add\n",
    "\n",
    "input1 = 7168\n",
    "sol = Solution()\n",
    "sol.ps(input1)"
   ]
  },
  {
   "cell_type": "code",
   "execution_count": 16,
   "metadata": {},
   "outputs": [
    {
     "data": {
      "text/plain": [
       "4"
      ]
     },
     "execution_count": 16,
     "metadata": {},
     "output_type": "execute_result"
    }
   ],
   "source": [
    "class Solution(object):\n",
    "    def ps(self, n):\n",
    "        self.min_add = n\n",
    "        def bfs(num,res,add):\n",
    "            if res==0:\n",
    "                self.min_add = min(self.min_add,add)\n",
    "                return\n",
    "            for i in range(int((res)**0.5),0,-1):\n",
    "                # print(num,res,i)\n",
    "                if add+1 == self.min_add:break\n",
    "                bfs(num,res-i**2,add+1)\n",
    "        bfs(n,n,0)\n",
    "        return self.min_add\n",
    "\n",
    "input1 = 7168\n",
    "sol = Solution()\n",
    "sol.ps(input1)"
   ]
  },
  {
   "cell_type": "code",
   "execution_count": 24,
   "metadata": {},
   "outputs": [
    {
     "data": {
      "text/plain": [
       "4"
      ]
     },
     "execution_count": 24,
     "metadata": {},
     "output_type": "execute_result"
    }
   ],
   "source": [
    "class Solution(object):\n",
    "    _dp = [0]\n",
    "    def ps(self, n):\n",
    "        dp = self._dp\n",
    "        while len(dp) <= n:\n",
    "            dp += min(dp[-i*i] for i in range(1, int(len(dp)**0.5+1))) + 1,\n",
    "        return dp[n]\n",
    "input1 = 7168\n",
    "sol = Solution()\n",
    "sol.ps(input1)"
   ]
  },
  {
   "cell_type": "markdown",
   "metadata": {},
   "source": [
    "# Test\n",
    "Stone Game"
   ]
  },
  {
   "cell_type": "markdown",
   "metadata": {},
   "source": [
    "Alice and Bob play a game with piles of stones. There are an even number of piles arranged in a row, and each pile has a positive integer number of stones piles[i].\n",
    "\n",
    "The objective of the game is to end with the most stones. The total number of stones across all the piles is odd, so there are no ties.\n",
    "\n",
    "Alice and Bob take turns, with Alice starting first. Each turn, a player takes the entire pile of stones either from the beginning or from the end of the row. This continues until there are no more piles left, at which point the person with the most stones wins.\n",
    "\n",
    "Assuming Alice and Bob play optimally, return true if Alice wins the game, or false if Bob wins.\n",
    "\n",
    "Example 1:\n",
    "\n",
    "Input: piles = [5,3,4,5]\n",
    "Output: true\n",
    "Explanation: \n",
    "Alice starts first, and can only take the first 5 or the last 5.\n",
    "Say she takes the first 5, so that the row becomes [3, 4, 5].\n",
    "If Bob takes 3, then the board is [4, 5], and Alice takes 5 to win with 10 points.\n",
    "If Bob takes the last 5, then the board is [3, 4], and Alice takes 4 to win with 9 points.\n",
    "This demonstrated that taking the first 5 was a winning move for Alice, so we return true.\n",
    "Example 2:\n",
    "\n",
    "Input: piles = [3,7,2,3]\n",
    "Output: true\n",
    " \n",
    "\n",
    "Constraints:\n",
    "\n",
    "2 <= piles.length <= 500\n",
    "piles.length is even.\n",
    "1 <= piles[i] <= 500\n",
    "sum(piles[i]) is odd."
   ]
  },
  {
   "cell_type": "code",
   "execution_count": 2,
   "metadata": {},
   "outputs": [
    {
     "name": "stdout",
     "output_type": "stream",
     "text": [
      "[1, 4, 10, 8, 3, 2, 4, 1] 0 1 -3 -3\n",
      "[1, 4, 10, 8, 3, 2, 4] 1 -1 2 -3\n",
      "[1, 4, 10, 8, 3, 2] -3 1 -1 -3\n",
      "[4, 10, 8, 3, 2, 4] 0 1 0 -6\n",
      "[4, 10, 8, 3, 2] 4 -1 -2 -6\n",
      "[4, 10, 8, 3] 2 1 -5 -6\n",
      "[4, 10, 8] 5 -1 -2 -6\n",
      "[4, 10] -3 1 6 -6\n",
      "[10, 8] 1 1 -2 2\n",
      "[10, 8, 3] 6 -1 -7 2\n",
      "[10, 8] 3 1 -2 2\n",
      "[8, 3] -4 1 -5 5\n",
      "[10, 8, 3, 2] 0 1 -8 2\n",
      "[10, 8, 3, 2, 4] 4 -1 -6 2\n",
      "[10, 8, 3, 2] 0 1 -8 2\n",
      "[8, 3, 2, 4] -6 1 -4 4\n",
      "[4, 10, 8, 3, 2, 4, 1] 1 -1 -3 -6\n",
      "[4, 10, 8, 3, 2, 4] 0 1 0 -6\n",
      "[10, 8, 3, 2, 4, 1] -3 1 -9 2\n"
     ]
    },
    {
     "data": {
      "text/plain": [
       "(True, [0, 0, 3, 6, 2, 4, 0, 1, 0])"
      ]
     },
     "execution_count": 2,
     "metadata": {},
     "output_type": "execute_result"
    }
   ],
   "source": [
    "class Solution(object):\n",
    "    def sg(self,piles):\n",
    "        self.out = False\n",
    "        dp = [0]*(len(piles)+1)\n",
    "        def get_pile(res,A,turn):\n",
    "            dp[len(res)] = max(dp[len(res)],A)\n",
    "            print(res,A,turn,res[-1]-max(res[-2],res[0]),res[0]-max(res[1],res[-1]))\n",
    "            if len(res)==2:\n",
    "                # print(A + max(res) - min(res))\n",
    "                if A + max(res)*turn - min(res)*turn > 0:self.out = True\n",
    "                return\n",
    "            if dp[len(res)-1]>A:return\n",
    "            get_pile(res[:-1],A+res[-1]*turn,turn*(-1))\n",
    "            get_pile(res[1:],A+res[0]*turn,turn*(-1))\n",
    "        # print(get_pile(piles,0,1))\n",
    "        get_pile(piles,0,1)\n",
    "        return self.out,dp\n",
    "input1 = [1,4,10,8,3,2,4,1]\n",
    "# input1 = [3,7,2,3]\n",
    "sol = Solution()\n",
    "sol.sg(input1)"
   ]
  },
  {
   "cell_type": "markdown",
   "metadata": {},
   "source": [
    "# Test\n",
    "Best Time to Buy and Sell Stock with Cooldown"
   ]
  },
  {
   "cell_type": "markdown",
   "metadata": {},
   "source": [
    "You are given an array prices where prices[i] is the price of a given stock on the ith day.\n",
    "\n",
    "Find the maximum profit you can achieve. You may complete as many transactions as you like (i.e., buy one and sell one share of the stock multiple times) with the following restrictions:\n",
    "\n",
    "After you sell your stock, you cannot buy stock on the next day (i.e., cooldown one day).\n",
    "Note: You may not engage in multiple transactions simultaneously (i.e., you must sell the stock before you buy again).\n",
    "\n",
    " \n",
    "\n",
    "Example 1:\n",
    "\n",
    "Input: prices = [1,2,3,0,2]\n",
    "Output: 3\n",
    "Explanation: transactions = [buy, sell, cooldown, buy, sell]\n",
    "Example 2:\n",
    "\n",
    "Input: prices = [1]\n",
    "Output: 0\n",
    " \n",
    "\n",
    "Constraints:\n",
    "\n",
    "1 <= prices.length <= 5000\n",
    "0 <= prices[i] <= 1000"
   ]
  },
  {
   "cell_type": "code",
   "execution_count": 52,
   "metadata": {},
   "outputs": [
    {
     "data": {
      "text/plain": [
       "44"
      ]
     },
     "execution_count": 52,
     "metadata": {},
     "output_type": "execute_result"
    }
   ],
   "source": [
    "class Solution(object):\n",
    "    def bt(self,prices):\n",
    "        self.max_money = 0\n",
    "        dp = [0]\n",
    "        def do(res,state,money):\n",
    "            if len(res) == 0:\n",
    "                self.max_money = max(self.max_money,money)\n",
    "                return\n",
    "            if state == 0:\n",
    "                do(res[1:],0,money)\n",
    "                do(res[1:],1,money-res[0])\n",
    "            elif state == 1:\n",
    "                do(res[1:],-1,money+res[0])\n",
    "                do(res[1:],1,money)\n",
    "            else:\n",
    "                do(res[1:],0,money)\n",
    "        do(prices,0,0)\n",
    "\n",
    "        return self.max_money\n",
    "# input1 = [1,4,10,8,3,2,4,1]\n",
    "input1 = [6,1,3,2,4,7,1,1,17,1,1,1,1,7,1,1,17,11,1,1,1,1,1,1,1]\n",
    "sol = Solution()\n",
    "sol.bt(input1)"
   ]
  },
  {
   "cell_type": "code",
   "execution_count": 41,
   "metadata": {},
   "outputs": [
    {
     "name": "stdout",
     "output_type": "stream",
     "text": [
      "-6 0 -inf 6\n",
      "-1 0 -5 1\n",
      "-1 0 2 3\n",
      "-1 2 1 2\n",
      "-1 2 3 4\n",
      "-1 3 6 7\n"
     ]
    },
    {
     "data": {
      "text/plain": [
       "6"
      ]
     },
     "execution_count": 41,
     "metadata": {},
     "output_type": "execute_result"
    }
   ],
   "source": [
    "class Solution(object):\n",
    "    def bt(self,prices):\n",
    "        notHold, notHold_cooldown, hold = 0, float('-inf'), float('-inf')\n",
    "        for p in prices:\n",
    "            hold, notHold, notHold_cooldown = max(hold, notHold - p), max(notHold, notHold_cooldown), hold + p\n",
    "            print(hold, notHold, notHold_cooldown, p)\n",
    "        return max(notHold, notHold_cooldown)\n",
    "# input1 = [1,4,10,8,3,2,4,1]\n",
    "input1 = [6,1,3,2,4,7]\n",
    "sol = Solution()\n",
    "sol.bt(input1)"
   ]
  },
  {
   "cell_type": "markdown",
   "metadata": {},
   "source": [
    "# Test\n",
    "house robber"
   ]
  },
  {
   "cell_type": "markdown",
   "metadata": {},
   "source": [
    "You are a professional robber planning to rob houses along a street. Each house has a certain amount of money stashed, the only constraint stopping you from robbing each of them is that adjacent houses have security systems connected and it will automatically contact the police if two adjacent houses were broken into on the same night.\n",
    "\n",
    "Given an integer array nums representing the amount of money of each house, return the maximum amount of money you can rob tonight without alerting the police.\n",
    "\n",
    " \n",
    "\n",
    "Example 1:\n",
    "\n",
    "Input: nums = [1,2,3,1]\n",
    "Output: 4\n",
    "Explanation: Rob house 1 (money = 1) and then rob house 3 (money = 3).\n",
    "Total amount you can rob = 1 + 3 = 4.\n",
    "Example 2:\n",
    "\n",
    "Input: nums = [2,7,9,3,1]\n",
    "Output: 12\n",
    "Explanation: Rob house 1 (money = 2), rob house 3 (money = 9) and rob house 5 (money = 1).\n",
    "Total amount you can rob = 2 + 9 + 1 = 12.\n",
    " \n",
    "\n",
    "Constraints:\n",
    "\n",
    "1 <= nums.length <= 100\n",
    "0 <= nums[i] <= 400"
   ]
  },
  {
   "cell_type": "code",
   "execution_count": 12,
   "metadata": {},
   "outputs": [
    {
     "name": "stdout",
     "output_type": "stream",
     "text": [
      "[6, 1, 9, 8, 13, 16]\n"
     ]
    },
    {
     "data": {
      "text/plain": [
       "16"
      ]
     },
     "execution_count": 12,
     "metadata": {},
     "output_type": "execute_result"
    }
   ],
   "source": [
    "class Solution(object):\n",
    "    def hr(self,nums):\n",
    "        n = len(nums)\n",
    "        if n <=2:return max(nums)\n",
    "        dp = [0]*n\n",
    "        dp[:3] = nums[:2] + [max(nums[1],nums[0]+nums[2])]\n",
    "        for i in range(3,len(nums)):\n",
    "            dp[i] = max(dp[i-2],dp[i-3]) + nums[i]\n",
    "        # print(dp)\n",
    "        return max(dp[-2:])\n",
    "# input1 = [1,4,10,8,3,2,4,1]\n",
    "input1 = [6,1,3,2,4,7]\n",
    "sol = Solution()\n",
    "sol.hr(input1)"
   ]
  },
  {
   "cell_type": "code",
   "execution_count": 4,
   "metadata": {},
   "outputs": [
    {
     "data": {
      "text/plain": [
       "33"
      ]
     },
     "execution_count": 4,
     "metadata": {},
     "output_type": "execute_result"
    }
   ],
   "source": [
    "nums = [1,2,33,4]\n",
    "max(nums)"
   ]
  },
  {
   "cell_type": "markdown",
   "metadata": {},
   "source": [
    "# Test\n",
    "integer break"
   ]
  },
  {
   "cell_type": "markdown",
   "metadata": {},
   "source": [
    "Given an integer n, break it into the sum of k positive integers, where k >= 2, and maximize the product of those integers.\n",
    "\n",
    "Return the maximum product you can get.\n",
    "\n",
    " \n",
    "\n",
    "Example 1:\n",
    "\n",
    "Input: n = 2\n",
    "Output: 1\n",
    "Explanation: 2 = 1 + 1, 1 × 1 = 1.\n",
    "Example 2:\n",
    "\n",
    "Input: n = 10\n",
    "Output: 36\n",
    "Explanation: 10 = 3 + 3 + 4, 3 × 3 × 4 = 36.\n",
    " \n",
    "\n",
    "Constraints:\n",
    "\n",
    "2 <= n <= 58"
   ]
  },
  {
   "cell_type": "code",
   "execution_count": 31,
   "metadata": {},
   "outputs": [
    {
     "data": {
      "text/plain": [
       "1549681956"
      ]
     },
     "execution_count": 31,
     "metadata": {},
     "output_type": "execute_result"
    }
   ],
   "source": [
    "class Solution(object):\n",
    "    def ib(self,n):\n",
    "        if n <= 3:return n-1\n",
    "        dp = [0]*n\n",
    "        dp[:3] = [1,2,3]\n",
    "        for i in range(n):\n",
    "            for j in range(i-1,-1,-1):\n",
    "                dp[i] = max(dp[i],dp[j]*(i-j))\n",
    "        return dp[-1]\n",
    "# input1 = [1,4,10,8,3,2,4,1]\n",
    "input1 = 58\n",
    "sol = Solution()\n",
    "sol.ib(input1)"
   ]
  },
  {
   "cell_type": "markdown",
   "metadata": {},
   "source": [
    "# Test\n",
    "longest palindromic subsequence"
   ]
  },
  {
   "cell_type": "markdown",
   "metadata": {},
   "source": [
    "Given a string s, find the longest palindromic subsequence's length in s.\n",
    "\n",
    "A subsequence is a sequence that can be derived from another sequence by deleting some or no elements without changing the order of the remaining elements.\n",
    "\n",
    " \n",
    "\n",
    "Example 1:\n",
    "\n",
    "Input: s = \"bbbab\"\n",
    "Output: 4\n",
    "Explanation: One possible longest palindromic subsequence is \"bbbb\".\n",
    "Example 2:\n",
    "\n",
    "Input: s = \"cbbd\"\n",
    "Output: 2\n",
    "Explanation: One possible longest palindromic subsequence is \"bb\".\n",
    " \n",
    "\n",
    "Constraints:\n",
    "\n",
    "1 <= s.length <= 1000\n",
    "s consists only of lowercase English letters."
   ]
  },
  {
   "cell_type": "code",
   "execution_count": null,
   "metadata": {},
   "outputs": [],
   "source": [
    "class Solution(object):\n",
    "    def lp(self,s):\n",
    "        return s\n",
    "# input1 = [1,4,10,8,3,2,4,1]\n",
    "input1 = 'bbbab'\n",
    "sol = Solution()\n",
    "sol.lp(input1)"
   ]
  },
  {
   "cell_type": "markdown",
   "metadata": {},
   "source": [
    "# Test\n",
    "longest increasing subsequence"
   ]
  },
  {
   "cell_type": "markdown",
   "metadata": {},
   "source": [
    "Given an integer array nums, return the length of the longest strictly increasing subsequence.\n",
    "\n",
    "A subsequence is a sequence that can be derived from an array by deleting some or no elements without changing the order of the remaining elements. For example, [3,6,2,7] is a subsequence of the array [0,3,1,6,2,2,7].\n",
    "\n",
    " \n",
    "\n",
    "Example 1:\n",
    "\n",
    "Input: nums = [10,9,2,5,3,7,101,18]\n",
    "Output: 4\n",
    "Explanation: The longest increasing subsequence is [2,3,7,101], therefore the length is 4.\n",
    "Example 2:\n",
    "\n",
    "Input: nums = [0,1,0,3,2,3]\n",
    "Output: 4\n",
    "Example 3:\n",
    "\n",
    "Input: nums = [7,7,7,7,7,7,7]\n",
    "Output: 1\n",
    " \n",
    "\n",
    "Constraints:\n",
    "\n",
    "1 <= nums.length <= 2500\n",
    "-104 <= nums[i] <= 104"
   ]
  },
  {
   "cell_type": "code",
   "execution_count": 10,
   "metadata": {},
   "outputs": [
    {
     "data": {
      "text/plain": [
       "6"
      ]
     },
     "execution_count": 10,
     "metadata": {},
     "output_type": "execute_result"
    }
   ],
   "source": [
    "class Solution(object):\n",
    "    def li(self,nums):\n",
    "        self.max_len = 0\n",
    "        def ch(ched,index):\n",
    "            if index == len(nums):\n",
    "                self.max_len = max(self.max_len,len(ched))\n",
    "                return\n",
    "            if ched == [] or nums[index]>ched[-1]:\n",
    "                ch(ched+[nums[index]],index+1)\n",
    "                ch(ched,index+1)\n",
    "            else:\n",
    "                ch(ched,index+1)\n",
    "            return nums\n",
    "        ch([],0)\n",
    "        return self.max_len\n",
    "input1 = [3,5,6,2,5,4,19,5,6,7,12]\n",
    "# input1 = 12\n",
    "sol = Solution()\n",
    "sol.li(input1)"
   ]
  },
  {
   "cell_type": "code",
   "execution_count": 22,
   "metadata": {},
   "outputs": [
    {
     "data": {
      "text/plain": [
       "6"
      ]
     },
     "execution_count": 22,
     "metadata": {},
     "output_type": "execute_result"
    }
   ],
   "source": [
    "class Solution(object):\n",
    "    def li(self,nums):\n",
    "        dp = [1]*len(nums)\n",
    "        for i in range(len(nums)):\n",
    "            for j in range(i):\n",
    "                if nums[j]<nums[i]:\n",
    "                    dp[i] = max(dp[i],dp[j]+1)\n",
    "        return max(dp)\n",
    "input1 = [3,5,6,2,5,4,19,5,6,7,12]\n",
    "# input1 = [10,9,2,5,3,7,101,18]\n",
    "input1 = [1,3,6,7,9,4,10,5,6]\n",
    "# input1 = 12\n",
    "sol = Solution()\n",
    "sol.li(input1)"
   ]
  },
  {
   "cell_type": "markdown",
   "metadata": {},
   "source": [
    "# Test\n",
    "coin change"
   ]
  },
  {
   "cell_type": "markdown",
   "metadata": {},
   "source": [
    "You are given an integer array coins representing coins of different denominations and an integer amount representing a total amount of money.\n",
    "\n",
    "Return the fewest number of coins that you need to make up that amount. If that amount of money cannot be made up by any combination of the coins, return -1.\n",
    "\n",
    "You may assume that you have an infinite number of each kind of coin.\n",
    "\n",
    " \n",
    "\n",
    "Example 1:\n",
    "\n",
    "Input: coins = [1,2,5], amount = 11\n",
    "Output: 3\n",
    "Explanation: 11 = 5 + 5 + 1\n",
    "Example 2:\n",
    "\n",
    "Input: coins = [2], amount = 3\n",
    "Output: -1\n",
    "Example 3:\n",
    "\n",
    "Input: coins = [1], amount = 0\n",
    "Output: 0\n",
    " \n",
    "\n",
    "Constraints:\n",
    "\n",
    "1 <= coins.length <= 12\n",
    "1 <= coins[i] <= 231 - 1\n",
    "0 <= amount <= 104"
   ]
  },
  {
   "cell_type": "code",
   "execution_count": 41,
   "metadata": {},
   "outputs": [
    {
     "data": {
      "text/plain": [
       "3"
      ]
     },
     "execution_count": 41,
     "metadata": {},
     "output_type": "execute_result"
    }
   ],
   "source": [
    "class Solution(object):\n",
    "    def cc(self,coins,amount):\n",
    "        dp = [amount+1]*(amount+1)\n",
    "        dp[0] = 0\n",
    "        \n",
    "        for i in range(1,amount+1):\n",
    "            for coin in coins:\n",
    "                if i-coin >= 0:\n",
    "                    dp[i] = min(dp[i],dp[i-coin]+1)\n",
    "        if dp[-1] > amount:return -1\n",
    "        return dp[-1]\n",
    "input1 = [1,2,5]\n",
    "input2 = 11\n",
    "# input1 = [2147483647]\n",
    "# input2 = 2\n",
    "sol = Solution()\n",
    "sol.cc(input1,input2)"
   ]
  },
  {
   "cell_type": "code",
   "execution_count": 100,
   "metadata": {},
   "outputs": [
    {
     "data": {
      "text/plain": [
       "112"
      ]
     },
     "execution_count": 100,
     "metadata": {},
     "output_type": "execute_result"
    }
   ],
   "source": [
    "text = \"te8st111 1t112 aaa\"\n",
    "numbers = str([int(temp) for temp in text.split() if temp.isdigit()])\n",
    "def getnum(text):\n",
    "    seps = text.split()\n",
    "    nums = []\n",
    "    for sep in seps:\n",
    "        num = \"0\"\n",
    "        for string in sep:\n",
    "            if string.isdigit():num += string\n",
    "            else:num = \"0\"\n",
    "        nums += [int(num)]\n",
    "    return max(nums)\n",
    "getnum(text)\n"
   ]
  },
  {
   "cell_type": "code",
   "execution_count": 101,
   "metadata": {},
   "outputs": [
    {
     "data": {
      "text/plain": [
       "'taaa'"
      ]
     },
     "execution_count": 101,
     "metadata": {},
     "output_type": "execute_result"
    }
   ],
   "source": [
    "''.join([i for i in text if not i.isdigit() and i != \" \"]).replace(\"test\",\"\")"
   ]
  },
  {
   "cell_type": "code",
   "execution_count": 117,
   "metadata": {},
   "outputs": [
    {
     "name": "stdout",
     "output_type": "stream",
     "text": [
      "1234\n",
      "\t\n",
      "1234\n"
     ]
    }
   ],
   "source": [
    "text = \"1234\"\n",
    "text += \"\\n\\t\\n\"\n",
    "text += \"1234\"\n",
    "text += \"\\n\\t\\n\"\n",
    "text = text[:-3]\n",
    "# text\n",
    "print(text)"
   ]
  },
  {
   "cell_type": "code",
   "execution_count": null,
   "metadata": {},
   "outputs": [],
   "source": []
  }
 ],
 "metadata": {
  "interpreter": {
   "hash": "b1467e14cb805c1f3400f93100996a51ddd16151460e5989656280d8645c8b5f"
  },
  "kernelspec": {
   "display_name": "Python 3.8.5 64-bit ('efficientnet_env': venv)",
   "name": "python3"
  },
  "language_info": {
   "codemirror_mode": {
    "name": "ipython",
    "version": 3
   },
   "file_extension": ".py",
   "mimetype": "text/x-python",
   "name": "python",
   "nbconvert_exporter": "python",
   "pygments_lexer": "ipython3",
   "version": "3.8.5"
  },
  "orig_nbformat": 4
 },
 "nbformat": 4,
 "nbformat_minor": 2
}
